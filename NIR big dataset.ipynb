{
 "cells": [
  {
   "cell_type": "markdown",
   "id": "9847f39b",
   "metadata": {},
   "source": [
    "Скачиваем датасет товаров с Amazon: http://deepyeti.ucsd.edu/jianmo/amazon/index.html\n",
    "\n",
    "Нас интересует metadata: http://deepyeti.ucsd.edu/jianmo/amazon/metaFiles/All_Amazon_Meta.json.gz"
   ]
  },
  {
   "cell_type": "code",
   "execution_count": null,
   "id": "baf3718e",
   "metadata": {},
   "outputs": [],
   "source": [
    "# !wget  http://deepyeti.ucsd.edu/jianmo/amazon/metaFiles/All_Amazon_Meta.json.gz\n",
    "\n",
    "# Также можно скачать metadata отдельно \n",
    "# !wget http://deepyeti.ucsd.edu/jianmo/amazon/categoryFilesSmall/Electronics_5.json.gz "
   ]
  },
  {
   "cell_type": "code",
   "execution_count": 1,
   "id": "09502e6f",
   "metadata": {},
   "outputs": [
    {
     "name": "stdout",
     "output_type": "stream",
     "text": [
      "\n",
      "Saved under meta_Electronics.json.gz\n"
     ]
    }
   ],
   "source": [
    "!python -m wget http://deepyeti.ucsd.edu/jianmo/amazon/metaFiles2/meta_Electronics.json.gz"
   ]
  },
  {
   "cell_type": "code",
   "execution_count": 2,
   "id": "47037077",
   "metadata": {},
   "outputs": [
    {
     "name": "stdout",
     "output_type": "stream",
     "text": [
      "\n",
      "Saved under meta_Arts_Crafts_and_Sewing.json.gz\n"
     ]
    }
   ],
   "source": [
    "!python -m wget http://deepyeti.ucsd.edu/jianmo/amazon/metaFiles2/meta_Arts_Crafts_and_Sewing.json.gz"
   ]
  },
  {
   "cell_type": "code",
   "execution_count": 1,
   "id": "fab1c9f0",
   "metadata": {},
   "outputs": [
    {
     "name": "stdout",
     "output_type": "stream",
     "text": [
      "\n",
      "Saved under zlib123dllx64.zip\n"
     ]
    }
   ],
   "source": [
    "! python -m wget http://www.winimage.com/zLibDll/zlib123dllx64.zip"
   ]
  },
  {
   "cell_type": "code",
   "execution_count": null,
   "id": "9d917e36",
   "metadata": {},
   "outputs": [],
   "source": []
  },
  {
   "cell_type": "code",
   "execution_count": null,
   "id": "4fca1315",
   "metadata": {},
   "outputs": [],
   "source": []
  },
  {
   "cell_type": "code",
   "execution_count": 1,
   "id": "894b4ff6",
   "metadata": {},
   "outputs": [
    {
     "name": "stdout",
     "output_type": "stream",
     "text": [
      "\n",
      "Saved under meta_AMAZON_FASHION.json.gz\n"
     ]
    }
   ],
   "source": [
    "!python -m wget http://deepyeti.ucsd.edu/jianmo/amazon/metaFiles2/meta_AMAZON_FASHION.json.gz"
   ]
  },
  {
   "cell_type": "code",
   "execution_count": 2,
   "id": "5665d223",
   "metadata": {},
   "outputs": [
    {
     "name": "stdout",
     "output_type": "stream",
     "text": [
      "\n",
      "Saved under meta_All_Beauty.json.gz\n"
     ]
    }
   ],
   "source": [
    "!python -m wget http://deepyeti.ucsd.edu/jianmo/amazon/metaFiles2/meta_All_Beauty.json.gz"
   ]
  },
  {
   "cell_type": "code",
   "execution_count": 3,
   "id": "091abfe2",
   "metadata": {},
   "outputs": [
    {
     "name": "stdout",
     "output_type": "stream",
     "text": [
      "\n",
      "Saved under meta_Appliances.json.gz\n"
     ]
    }
   ],
   "source": [
    "!python -m wget http://deepyeti.ucsd.edu/jianmo/amazon/metaFiles2/meta_Appliances.json.gz"
   ]
  },
  {
   "cell_type": "code",
   "execution_count": 4,
   "id": "917d917e",
   "metadata": {},
   "outputs": [
    {
     "name": "stdout",
     "output_type": "stream",
     "text": [
      "\n",
      "Saved under meta_Arts_Crafts_and_Sewing.json.gz\n"
     ]
    }
   ],
   "source": []
  },
  {
   "cell_type": "code",
   "execution_count": null,
   "id": "f1def006",
   "metadata": {},
   "outputs": [],
   "source": [
    "!python -m wget http://deepyeti.ucsd.edu/jianmo/amazon/metaFiles2/meta_Automotive.json.gz"
   ]
  },
  {
   "cell_type": "code",
   "execution_count": null,
   "id": "4d04443c",
   "metadata": {},
   "outputs": [],
   "source": [
    "!python -m wget http://deepyeti.ucsd.edu/jianmo/amazon/metaFiles2/meta_Books.json.gz"
   ]
  },
  {
   "cell_type": "code",
   "execution_count": null,
   "id": "c87470e8",
   "metadata": {},
   "outputs": [],
   "source": [
    "!python -m wget http://deepyeti.ucsd.edu/jianmo/amazon/metaFiles2/meta_CDs_and_Vinyl.json.gz"
   ]
  },
  {
   "cell_type": "code",
   "execution_count": 1,
   "id": "8d89184c",
   "metadata": {},
   "outputs": [
    {
     "name": "stdout",
     "output_type": "stream",
     "text": [
      "^C\n"
     ]
    }
   ],
   "source": [
    "!python -m wget http://deepyeti.ucsd.edu/jianmo/amazon/metaFiles2/meta_Cell_Phones_and_Accessories.json.gz"
   ]
  },
  {
   "cell_type": "code",
   "execution_count": null,
   "id": "ed636a28",
   "metadata": {},
   "outputs": [],
   "source": [
    "!python -m wget http://deepyeti.ucsd.edu/jianmo/amazon/metaFiles2/meta_Clothing_Shoes_and_Jewelry.json.gz"
   ]
  },
  {
   "cell_type": "code",
   "execution_count": null,
   "id": "34778266",
   "metadata": {},
   "outputs": [],
   "source": [
    "!python -m wget http://deepyeti.ucsd.edu/jianmo/amazon/metaFiles2/meta_Digital_Music.json.gz"
   ]
  },
  {
   "cell_type": "code",
   "execution_count": null,
   "id": "978dee14",
   "metadata": {},
   "outputs": [],
   "source": [
    "# !python -m wget http://deepyeti.ucsd.edu/jianmo/amazon/metaFiles2/meta_Electronics.json.gz "
   ]
  },
  {
   "cell_type": "code",
   "execution_count": null,
   "id": "04dbc1e3",
   "metadata": {},
   "outputs": [],
   "source": [
    "!python -m wget http://deepyeti.ucsd.edu/jianmo/amazon/metaFiles2/meta_Gift_Cards.json.gz"
   ]
  },
  {
   "cell_type": "code",
   "execution_count": null,
   "id": "3427bbd1",
   "metadata": {},
   "outputs": [],
   "source": [
    "!python -m wget http://deepyeti.ucsd.edu/jianmo/amazon/metaFiles2/meta_Grocery_and_Gourmet_Food.json.gz"
   ]
  },
  {
   "cell_type": "code",
   "execution_count": null,
   "id": "bec997fb",
   "metadata": {},
   "outputs": [],
   "source": [
    "!python -m wget http://deepyeti.ucsd.edu/jianmo/amazon/metaFiles2/meta_Home_and_Kitchen.json.gz"
   ]
  },
  {
   "cell_type": "code",
   "execution_count": null,
   "id": "0216ed1d",
   "metadata": {},
   "outputs": [],
   "source": [
    "!python -m wget http://deepyeti.ucsd.edu/jianmo/amazon/metaFiles2/meta_Industrial_and_Scientific.json.gz"
   ]
  },
  {
   "cell_type": "code",
   "execution_count": null,
   "id": "0d147ddf",
   "metadata": {},
   "outputs": [],
   "source": [
    "!python -m wget http://deepyeti.ucsd.edu/jianmo/amazon/metaFiles2/meta_Kindle_Store.json.gz"
   ]
  },
  {
   "cell_type": "code",
   "execution_count": null,
   "id": "f025ff3c",
   "metadata": {},
   "outputs": [],
   "source": [
    "!python -m wget http://deepyeti.ucsd.edu/jianmo/amazon/metaFiles2/meta_Sports_and_Outdoors.json.gz"
   ]
  },
  {
   "cell_type": "code",
   "execution_count": null,
   "id": "69aa83ba",
   "metadata": {},
   "outputs": [],
   "source": [
    "!python -m wget http://deepyeti.ucsd.edu/jianmo/amazon/metaFiles2/meta_Software.json.gz"
   ]
  },
  {
   "cell_type": "code",
   "execution_count": null,
   "id": "63a9c741",
   "metadata": {},
   "outputs": [],
   "source": [
    "!python -m wget http://deepyeti.ucsd.edu/jianmo/amazon/metaFiles2/meta_Sports_and_Outdoors.json.gz"
   ]
  },
  {
   "cell_type": "code",
   "execution_count": null,
   "id": "165f16df",
   "metadata": {},
   "outputs": [],
   "source": [
    "!python -m wget http://deepyeti.ucsd.edu/jianmo/amazon/metaFiles2/meta_Toys_and_Games.json.gz"
   ]
  },
  {
   "cell_type": "code",
   "execution_count": null,
   "id": "f2350b1a",
   "metadata": {},
   "outputs": [],
   "source": [
    "!python -m wget http://deepyeti.ucsd.edu/jianmo/amazon/metaFiles2/meta_Tools_and_Home_Improvement.json.gz"
   ]
  },
  {
   "cell_type": "code",
   "execution_count": null,
   "id": "4483d6ed",
   "metadata": {},
   "outputs": [],
   "source": [
    "!python -m wget http://deepyeti.ucsd.edu/jianmo/amazon/metaFiles2/meta_Pet_Supplies.json.gz"
   ]
  },
  {
   "cell_type": "code",
   "execution_count": null,
   "id": "08eebe86",
   "metadata": {},
   "outputs": [],
   "source": [
    "!python -m wget http://deepyeti.ucsd.edu/jianmo/amazon/metaFiles2/meta_Office_Products.json.gz"
   ]
  },
  {
   "cell_type": "code",
   "execution_count": null,
   "id": "b20dbad0",
   "metadata": {},
   "outputs": [],
   "source": []
  }
 ],
 "metadata": {
  "kernelspec": {
   "display_name": "Python 3 (ipykernel)",
   "language": "python",
   "name": "python3"
  },
  "language_info": {
   "codemirror_mode": {
    "name": "ipython",
    "version": 3
   },
   "file_extension": ".py",
   "mimetype": "text/x-python",
   "name": "python",
   "nbconvert_exporter": "python",
   "pygments_lexer": "ipython3",
   "version": "3.9.7"
  }
 },
 "nbformat": 4,
 "nbformat_minor": 5
}
