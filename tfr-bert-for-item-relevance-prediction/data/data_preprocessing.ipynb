{
 "cells": [
  {
   "cell_type": "markdown",
   "id": "f6863ece",
   "metadata": {},
   "source": [
    "Ноутбук, в котором создаем train и test dataset для обучения TFR-Bert"
   ]
  },
  {
   "cell_type": "code",
   "execution_count": 1,
   "id": "6456815d",
   "metadata": {},
   "outputs": [],
   "source": [
    "import pandas as pd\n",
    "import numpy as np\n",
    "import seaborn as sns"
   ]
  },
  {
   "cell_type": "code",
   "execution_count": 2,
   "id": "ab8de4f1",
   "metadata": {},
   "outputs": [
    {
     "name": "stdout",
     "output_type": "stream",
     "text": [
      "Requirement already satisfied: tensorflow-ranking==0.3.2 in c:\\users\\artyo\\anaconda3\\envs\\tfr-bert-demo\\lib\\site-packages (0.3.2)\n",
      "Requirement already satisfied: numpy>=1.13.3 in c:\\users\\artyo\\anaconda3\\envs\\tfr-bert-demo\\lib\\site-packages (from tensorflow-ranking==0.3.2) (1.21.5)\n",
      "Requirement already satisfied: tensorflow-serving-api<3.0.0,>=2.0.0 in c:\\users\\artyo\\anaconda3\\envs\\tfr-bert-demo\\lib\\site-packages (from tensorflow-ranking==0.3.2) (2.8.0)\n",
      "Requirement already satisfied: six>=1.10.0 in c:\\users\\artyo\\anaconda3\\envs\\tfr-bert-demo\\lib\\site-packages (from tensorflow-ranking==0.3.2) (1.16.0)\n",
      "Requirement already satisfied: absl-py>=0.1.6 in c:\\users\\artyo\\anaconda3\\envs\\tfr-bert-demo\\lib\\site-packages (from tensorflow-ranking==0.3.2) (1.0.0)\n",
      "Requirement already satisfied: tf-models-official>=2.3.0 in c:\\users\\artyo\\anaconda3\\envs\\tfr-bert-demo\\lib\\site-packages (from tensorflow-ranking==0.3.2) (2.7.1)\n",
      "Requirement already satisfied: tensorflow<3,>=2.8.0 in c:\\users\\artyo\\anaconda3\\envs\\tfr-bert-demo\\lib\\site-packages (from tensorflow-serving-api<3.0.0,>=2.0.0->tensorflow-ranking==0.3.2) (2.8.0)\n",
      "Requirement already satisfied: grpcio<2,>=1.0 in c:\\users\\artyo\\anaconda3\\envs\\tfr-bert-demo\\lib\\site-packages (from tensorflow-serving-api<3.0.0,>=2.0.0->tensorflow-ranking==0.3.2) (1.45.0)\n",
      "Requirement already satisfied: protobuf>=3.6.0 in c:\\users\\artyo\\anaconda3\\envs\\tfr-bert-demo\\lib\\site-packages (from tensorflow-serving-api<3.0.0,>=2.0.0->tensorflow-ranking==0.3.2) (3.19.4)\n",
      "Requirement already satisfied: astunparse>=1.6.0 in c:\\users\\artyo\\anaconda3\\envs\\tfr-bert-demo\\lib\\site-packages (from tensorflow<3,>=2.8.0->tensorflow-serving-api<3.0.0,>=2.0.0->tensorflow-ranking==0.3.2) (1.6.3)\n",
      "Requirement already satisfied: setuptools in c:\\users\\artyo\\anaconda3\\envs\\tfr-bert-demo\\lib\\site-packages (from tensorflow<3,>=2.8.0->tensorflow-serving-api<3.0.0,>=2.0.0->tensorflow-ranking==0.3.2) (58.0.4)\n",
      "Requirement already satisfied: google-pasta>=0.1.1 in c:\\users\\artyo\\anaconda3\\envs\\tfr-bert-demo\\lib\\site-packages (from tensorflow<3,>=2.8.0->tensorflow-serving-api<3.0.0,>=2.0.0->tensorflow-ranking==0.3.2) (0.2.0)\n",
      "Requirement already satisfied: typing-extensions>=3.6.6 in c:\\users\\artyo\\anaconda3\\envs\\tfr-bert-demo\\lib\\site-packages (from tensorflow<3,>=2.8.0->tensorflow-serving-api<3.0.0,>=2.0.0->tensorflow-ranking==0.3.2) (4.1.1)\n",
      "Requirement already satisfied: flatbuffers>=1.12 in c:\\users\\artyo\\anaconda3\\envs\\tfr-bert-demo\\lib\\site-packages (from tensorflow<3,>=2.8.0->tensorflow-serving-api<3.0.0,>=2.0.0->tensorflow-ranking==0.3.2) (2.0)\n",
      "Requirement already satisfied: tensorboard<2.9,>=2.8 in c:\\users\\artyo\\anaconda3\\envs\\tfr-bert-demo\\lib\\site-packages (from tensorflow<3,>=2.8.0->tensorflow-serving-api<3.0.0,>=2.0.0->tensorflow-ranking==0.3.2) (2.8.0)\n",
      "Requirement already satisfied: keras-preprocessing>=1.1.1 in c:\\users\\artyo\\anaconda3\\envs\\tfr-bert-demo\\lib\\site-packages (from tensorflow<3,>=2.8.0->tensorflow-serving-api<3.0.0,>=2.0.0->tensorflow-ranking==0.3.2) (1.1.2)\n",
      "Requirement already satisfied: gast>=0.2.1 in c:\\users\\artyo\\anaconda3\\envs\\tfr-bert-demo\\lib\\site-packages (from tensorflow<3,>=2.8.0->tensorflow-serving-api<3.0.0,>=2.0.0->tensorflow-ranking==0.3.2) (0.5.3)\n",
      "Requirement already satisfied: wrapt>=1.11.0 in c:\\users\\artyo\\anaconda3\\envs\\tfr-bert-demo\\lib\\site-packages (from tensorflow<3,>=2.8.0->tensorflow-serving-api<3.0.0,>=2.0.0->tensorflow-ranking==0.3.2) (1.14.0)\n",
      "Requirement already satisfied: tensorflow-io-gcs-filesystem>=0.23.1 in c:\\users\\artyo\\anaconda3\\envs\\tfr-bert-demo\\lib\\site-packages (from tensorflow<3,>=2.8.0->tensorflow-serving-api<3.0.0,>=2.0.0->tensorflow-ranking==0.3.2) (0.24.0)\n",
      "Requirement already satisfied: h5py>=2.9.0 in c:\\users\\artyo\\anaconda3\\envs\\tfr-bert-demo\\lib\\site-packages (from tensorflow<3,>=2.8.0->tensorflow-serving-api<3.0.0,>=2.0.0->tensorflow-ranking==0.3.2) (3.6.0)\n",
      "Requirement already satisfied: libclang>=9.0.1 in c:\\users\\artyo\\anaconda3\\envs\\tfr-bert-demo\\lib\\site-packages (from tensorflow<3,>=2.8.0->tensorflow-serving-api<3.0.0,>=2.0.0->tensorflow-ranking==0.3.2) (13.0.0)\n",
      "Requirement already satisfied: tf-estimator-nightly==2.8.0.dev2021122109 in c:\\users\\artyo\\anaconda3\\envs\\tfr-bert-demo\\lib\\site-packages (from tensorflow<3,>=2.8.0->tensorflow-serving-api<3.0.0,>=2.0.0->tensorflow-ranking==0.3.2) (2.8.0.dev2021122109)\n",
      "Requirement already satisfied: termcolor>=1.1.0 in c:\\users\\artyo\\anaconda3\\envs\\tfr-bert-demo\\lib\\site-packages (from tensorflow<3,>=2.8.0->tensorflow-serving-api<3.0.0,>=2.0.0->tensorflow-ranking==0.3.2) (1.1.0)\n",
      "Requirement already satisfied: opt-einsum>=2.3.2 in c:\\users\\artyo\\anaconda3\\envs\\tfr-bert-demo\\lib\\site-packages (from tensorflow<3,>=2.8.0->tensorflow-serving-api<3.0.0,>=2.0.0->tensorflow-ranking==0.3.2) (3.3.0)\n",
      "Requirement already satisfied: keras<2.9,>=2.8.0rc0 in c:\\users\\artyo\\anaconda3\\envs\\tfr-bert-demo\\lib\\site-packages (from tensorflow<3,>=2.8.0->tensorflow-serving-api<3.0.0,>=2.0.0->tensorflow-ranking==0.3.2) (2.8.0)\n",
      "Requirement already satisfied: wheel<1.0,>=0.23.0 in c:\\users\\artyo\\anaconda3\\envs\\tfr-bert-demo\\lib\\site-packages (from astunparse>=1.6.0->tensorflow<3,>=2.8.0->tensorflow-serving-api<3.0.0,>=2.0.0->tensorflow-ranking==0.3.2) (0.37.1)\n",
      "Requirement already satisfied: tensorboard-data-server<0.7.0,>=0.6.0 in c:\\users\\artyo\\anaconda3\\envs\\tfr-bert-demo\\lib\\site-packages (from tensorboard<2.9,>=2.8->tensorflow<3,>=2.8.0->tensorflow-serving-api<3.0.0,>=2.0.0->tensorflow-ranking==0.3.2) (0.6.1)\n",
      "Requirement already satisfied: markdown>=2.6.8 in c:\\users\\artyo\\anaconda3\\envs\\tfr-bert-demo\\lib\\site-packages (from tensorboard<2.9,>=2.8->tensorflow<3,>=2.8.0->tensorflow-serving-api<3.0.0,>=2.0.0->tensorflow-ranking==0.3.2) (3.3.6)\n",
      "Requirement already satisfied: google-auth<3,>=1.6.3 in c:\\users\\artyo\\anaconda3\\envs\\tfr-bert-demo\\lib\\site-packages (from tensorboard<2.9,>=2.8->tensorflow<3,>=2.8.0->tensorflow-serving-api<3.0.0,>=2.0.0->tensorflow-ranking==0.3.2) (2.6.2)\n",
      "Requirement already satisfied: google-auth-oauthlib<0.5,>=0.4.1 in c:\\users\\artyo\\anaconda3\\envs\\tfr-bert-demo\\lib\\site-packages (from tensorboard<2.9,>=2.8->tensorflow<3,>=2.8.0->tensorflow-serving-api<3.0.0,>=2.0.0->tensorflow-ranking==0.3.2) (0.4.6)\n",
      "Requirement already satisfied: requests<3,>=2.21.0 in c:\\users\\artyo\\anaconda3\\envs\\tfr-bert-demo\\lib\\site-packages (from tensorboard<2.9,>=2.8->tensorflow<3,>=2.8.0->tensorflow-serving-api<3.0.0,>=2.0.0->tensorflow-ranking==0.3.2) (2.27.1)\n",
      "Requirement already satisfied: werkzeug>=0.11.15 in c:\\users\\artyo\\anaconda3\\envs\\tfr-bert-demo\\lib\\site-packages (from tensorboard<2.9,>=2.8->tensorflow<3,>=2.8.0->tensorflow-serving-api<3.0.0,>=2.0.0->tensorflow-ranking==0.3.2) (2.1.0)\n",
      "Requirement already satisfied: tensorboard-plugin-wit>=1.6.0 in c:\\users\\artyo\\anaconda3\\envs\\tfr-bert-demo\\lib\\site-packages (from tensorboard<2.9,>=2.8->tensorflow<3,>=2.8.0->tensorflow-serving-api<3.0.0,>=2.0.0->tensorflow-ranking==0.3.2) (1.8.1)\n",
      "Requirement already satisfied: pyasn1-modules>=0.2.1 in c:\\users\\artyo\\anaconda3\\envs\\tfr-bert-demo\\lib\\site-packages (from google-auth<3,>=1.6.3->tensorboard<2.9,>=2.8->tensorflow<3,>=2.8.0->tensorflow-serving-api<3.0.0,>=2.0.0->tensorflow-ranking==0.3.2) (0.2.8)\n",
      "Requirement already satisfied: rsa<5,>=3.1.4 in c:\\users\\artyo\\anaconda3\\envs\\tfr-bert-demo\\lib\\site-packages (from google-auth<3,>=1.6.3->tensorboard<2.9,>=2.8->tensorflow<3,>=2.8.0->tensorflow-serving-api<3.0.0,>=2.0.0->tensorflow-ranking==0.3.2) (4.8)\n",
      "Requirement already satisfied: cachetools<6.0,>=2.0.0 in c:\\users\\artyo\\anaconda3\\envs\\tfr-bert-demo\\lib\\site-packages (from google-auth<3,>=1.6.3->tensorboard<2.9,>=2.8->tensorflow<3,>=2.8.0->tensorflow-serving-api<3.0.0,>=2.0.0->tensorflow-ranking==0.3.2) (5.0.0)\n",
      "Requirement already satisfied: requests-oauthlib>=0.7.0 in c:\\users\\artyo\\anaconda3\\envs\\tfr-bert-demo\\lib\\site-packages (from google-auth-oauthlib<0.5,>=0.4.1->tensorboard<2.9,>=2.8->tensorflow<3,>=2.8.0->tensorflow-serving-api<3.0.0,>=2.0.0->tensorflow-ranking==0.3.2) (1.3.1)\n",
      "Requirement already satisfied: pyasn1<0.5.0,>=0.4.6 in c:\\users\\artyo\\anaconda3\\envs\\tfr-bert-demo\\lib\\site-packages (from pyasn1-modules>=0.2.1->google-auth<3,>=1.6.3->tensorboard<2.9,>=2.8->tensorflow<3,>=2.8.0->tensorflow-serving-api<3.0.0,>=2.0.0->tensorflow-ranking==0.3.2) (0.4.8)\n",
      "Requirement already satisfied: charset-normalizer~=2.0.0 in c:\\users\\artyo\\anaconda3\\envs\\tfr-bert-demo\\lib\\site-packages (from requests<3,>=2.21.0->tensorboard<2.9,>=2.8->tensorflow<3,>=2.8.0->tensorflow-serving-api<3.0.0,>=2.0.0->tensorflow-ranking==0.3.2) (2.0.12)\n",
      "Requirement already satisfied: certifi>=2017.4.17 in c:\\users\\artyo\\anaconda3\\envs\\tfr-bert-demo\\lib\\site-packages (from requests<3,>=2.21.0->tensorboard<2.9,>=2.8->tensorflow<3,>=2.8.0->tensorflow-serving-api<3.0.0,>=2.0.0->tensorflow-ranking==0.3.2) (2021.10.8)\n",
      "Requirement already satisfied: urllib3<1.27,>=1.21.1 in c:\\users\\artyo\\anaconda3\\envs\\tfr-bert-demo\\lib\\site-packages (from requests<3,>=2.21.0->tensorboard<2.9,>=2.8->tensorflow<3,>=2.8.0->tensorflow-serving-api<3.0.0,>=2.0.0->tensorflow-ranking==0.3.2) (1.26.9)\n",
      "Requirement already satisfied: idna<4,>=2.5 in c:\\users\\artyo\\anaconda3\\envs\\tfr-bert-demo\\lib\\site-packages (from requests<3,>=2.21.0->tensorboard<2.9,>=2.8->tensorflow<3,>=2.8.0->tensorflow-serving-api<3.0.0,>=2.0.0->tensorflow-ranking==0.3.2) (3.3)\n",
      "Requirement already satisfied: oauthlib>=3.0.0 in c:\\users\\artyo\\anaconda3\\envs\\tfr-bert-demo\\lib\\site-packages (from requests-oauthlib>=0.7.0->google-auth-oauthlib<0.5,>=0.4.1->tensorboard<2.9,>=2.8->tensorflow<3,>=2.8.0->tensorflow-serving-api<3.0.0,>=2.0.0->tensorflow-ranking==0.3.2) (3.2.0)\n",
      "Requirement already satisfied: tensorflow-text>=2.4.0 in c:\\users\\artyo\\anaconda3\\envs\\tfr-bert-demo\\lib\\site-packages (from tf-models-official>=2.3.0->tensorflow-ranking==0.3.2) (2.8.1)\n",
      "Requirement already satisfied: tf-slim>=1.1.0 in c:\\users\\artyo\\anaconda3\\envs\\tfr-bert-demo\\lib\\site-packages (from tf-models-official>=2.3.0->tensorflow-ranking==0.3.2) (1.1.0)\n",
      "Requirement already satisfied: tensorflow-addons in c:\\users\\artyo\\anaconda3\\envs\\tfr-bert-demo\\lib\\site-packages (from tf-models-official>=2.3.0->tensorflow-ranking==0.3.2) (0.16.1)\n",
      "Requirement already satisfied: oauth2client in c:\\users\\artyo\\anaconda3\\envs\\tfr-bert-demo\\lib\\site-packages (from tf-models-official>=2.3.0->tensorflow-ranking==0.3.2) (4.1.3)\n",
      "Requirement already satisfied: pyyaml>=5.1 in c:\\users\\artyo\\anaconda3\\envs\\tfr-bert-demo\\lib\\site-packages (from tf-models-official>=2.3.0->tensorflow-ranking==0.3.2) (6.0)\n",
      "Requirement already satisfied: seqeval in c:\\users\\artyo\\anaconda3\\envs\\tfr-bert-demo\\lib\\site-packages (from tf-models-official>=2.3.0->tensorflow-ranking==0.3.2) (1.2.2)\n",
      "Requirement already satisfied: kaggle>=1.3.9 in c:\\users\\artyo\\anaconda3\\envs\\tfr-bert-demo\\lib\\site-packages (from tf-models-official>=2.3.0->tensorflow-ranking==0.3.2) (1.5.12)\n",
      "Requirement already satisfied: py-cpuinfo>=3.3.0 in c:\\users\\artyo\\anaconda3\\envs\\tfr-bert-demo\\lib\\site-packages (from tf-models-official>=2.3.0->tensorflow-ranking==0.3.2) (8.0.0)\n",
      "Requirement already satisfied: sacrebleu in c:\\users\\artyo\\anaconda3\\envs\\tfr-bert-demo\\lib\\site-packages (from tf-models-official>=2.3.0->tensorflow-ranking==0.3.2) (2.0.0)\n",
      "Requirement already satisfied: opencv-python-headless in c:\\users\\artyo\\anaconda3\\envs\\tfr-bert-demo\\lib\\site-packages (from tf-models-official>=2.3.0->tensorflow-ranking==0.3.2) (4.5.5.64)\n",
      "Requirement already satisfied: sentencepiece in c:\\users\\artyo\\anaconda3\\envs\\tfr-bert-demo\\lib\\site-packages (from tf-models-official>=2.3.0->tensorflow-ranking==0.3.2) (0.1.96)\n",
      "Requirement already satisfied: psutil>=5.4.3 in c:\\users\\artyo\\anaconda3\\envs\\tfr-bert-demo\\lib\\site-packages (from tf-models-official>=2.3.0->tensorflow-ranking==0.3.2) (5.9.0)\n",
      "Requirement already satisfied: pandas>=0.22.0 in c:\\users\\artyo\\anaconda3\\envs\\tfr-bert-demo\\lib\\site-packages (from tf-models-official>=2.3.0->tensorflow-ranking==0.3.2) (1.4.1)\n",
      "Requirement already satisfied: tensorflow-hub>=0.6.0 in c:\\users\\artyo\\anaconda3\\envs\\tfr-bert-demo\\lib\\site-packages (from tf-models-official>=2.3.0->tensorflow-ranking==0.3.2) (0.12.0)\n",
      "Requirement already satisfied: pycocotools in c:\\users\\artyo\\anaconda3\\envs\\tfr-bert-demo\\lib\\site-packages (from tf-models-official>=2.3.0->tensorflow-ranking==0.3.2) (2.0.4)\n",
      "Requirement already satisfied: matplotlib in c:\\users\\artyo\\anaconda3\\envs\\tfr-bert-demo\\lib\\site-packages (from tf-models-official>=2.3.0->tensorflow-ranking==0.3.2) (3.5.1)\n",
      "Requirement already satisfied: gin-config in c:\\users\\artyo\\anaconda3\\envs\\tfr-bert-demo\\lib\\site-packages (from tf-models-official>=2.3.0->tensorflow-ranking==0.3.2) (0.5.0)\n",
      "Requirement already satisfied: tensorflow-datasets in c:\\users\\artyo\\anaconda3\\envs\\tfr-bert-demo\\lib\\site-packages (from tf-models-official>=2.3.0->tensorflow-ranking==0.3.2) (4.5.2)\n",
      "Requirement already satisfied: google-api-python-client>=1.6.7 in c:\\users\\artyo\\anaconda3\\envs\\tfr-bert-demo\\lib\\site-packages (from tf-models-official>=2.3.0->tensorflow-ranking==0.3.2) (2.42.0)\n",
      "Requirement already satisfied: Cython in c:\\users\\artyo\\anaconda3\\envs\\tfr-bert-demo\\lib\\site-packages (from tf-models-official>=2.3.0->tensorflow-ranking==0.3.2) (0.29.28)\n",
      "Requirement already satisfied: scipy>=0.19.1 in c:\\users\\artyo\\anaconda3\\envs\\tfr-bert-demo\\lib\\site-packages (from tf-models-official>=2.3.0->tensorflow-ranking==0.3.2) (1.8.0)\n",
      "Requirement already satisfied: Pillow in c:\\users\\artyo\\anaconda3\\envs\\tfr-bert-demo\\lib\\site-packages (from tf-models-official>=2.3.0->tensorflow-ranking==0.3.2) (9.0.1)\n",
      "Requirement already satisfied: tensorflow-model-optimization>=0.4.1 in c:\\users\\artyo\\anaconda3\\envs\\tfr-bert-demo\\lib\\site-packages (from tf-models-official>=2.3.0->tensorflow-ranking==0.3.2) (0.7.2)\n",
      "Requirement already satisfied: httplib2<1dev,>=0.15.0 in c:\\users\\artyo\\anaconda3\\envs\\tfr-bert-demo\\lib\\site-packages (from google-api-python-client>=1.6.7->tf-models-official>=2.3.0->tensorflow-ranking==0.3.2) (0.20.4)\n",
      "Requirement already satisfied: uritemplate<5,>=3.0.1 in c:\\users\\artyo\\anaconda3\\envs\\tfr-bert-demo\\lib\\site-packages (from google-api-python-client>=1.6.7->tf-models-official>=2.3.0->tensorflow-ranking==0.3.2) (4.1.1)\n",
      "Requirement already satisfied: google-api-core!=2.0.*,!=2.1.*,!=2.2.*,!=2.3.0,<3.0.0dev,>=1.31.5 in c:\\users\\artyo\\anaconda3\\envs\\tfr-bert-demo\\lib\\site-packages (from google-api-python-client>=1.6.7->tf-models-official>=2.3.0->tensorflow-ranking==0.3.2) (2.7.1)\n",
      "Requirement already satisfied: google-auth-httplib2>=0.1.0 in c:\\users\\artyo\\anaconda3\\envs\\tfr-bert-demo\\lib\\site-packages (from google-api-python-client>=1.6.7->tf-models-official>=2.3.0->tensorflow-ranking==0.3.2) (0.1.0)\n",
      "Requirement already satisfied: googleapis-common-protos<2.0dev,>=1.52.0 in c:\\users\\artyo\\anaconda3\\envs\\tfr-bert-demo\\lib\\site-packages (from google-api-core!=2.0.*,!=2.1.*,!=2.2.*,!=2.3.0,<3.0.0dev,>=1.31.5->google-api-python-client>=1.6.7->tf-models-official>=2.3.0->tensorflow-ranking==0.3.2) (1.56.0)\n",
      "Requirement already satisfied: pyparsing!=3.0.0,!=3.0.1,!=3.0.2,!=3.0.3,<4,>=2.4.2 in c:\\users\\artyo\\anaconda3\\envs\\tfr-bert-demo\\lib\\site-packages (from httplib2<1dev,>=0.15.0->google-api-python-client>=1.6.7->tf-models-official>=2.3.0->tensorflow-ranking==0.3.2) (3.0.4)\n",
      "Requirement already satisfied: tqdm in c:\\users\\artyo\\anaconda3\\envs\\tfr-bert-demo\\lib\\site-packages (from kaggle>=1.3.9->tf-models-official>=2.3.0->tensorflow-ranking==0.3.2) (4.63.1)\n",
      "Requirement already satisfied: python-slugify in c:\\users\\artyo\\anaconda3\\envs\\tfr-bert-demo\\lib\\site-packages (from kaggle>=1.3.9->tf-models-official>=2.3.0->tensorflow-ranking==0.3.2) (6.1.1)\n",
      "Requirement already satisfied: python-dateutil in c:\\users\\artyo\\anaconda3\\envs\\tfr-bert-demo\\lib\\site-packages (from kaggle>=1.3.9->tf-models-official>=2.3.0->tensorflow-ranking==0.3.2) (2.8.2)\n",
      "Requirement already satisfied: pytz>=2020.1 in c:\\users\\artyo\\anaconda3\\envs\\tfr-bert-demo\\lib\\site-packages (from pandas>=0.22.0->tf-models-official>=2.3.0->tensorflow-ranking==0.3.2) (2021.3)\n",
      "Requirement already satisfied: dm-tree~=0.1.1 in c:\\users\\artyo\\anaconda3\\envs\\tfr-bert-demo\\lib\\site-packages (from tensorflow-model-optimization>=0.4.1->tf-models-official>=2.3.0->tensorflow-ranking==0.3.2) (0.1.6)\n",
      "Requirement already satisfied: kiwisolver>=1.0.1 in c:\\users\\artyo\\anaconda3\\envs\\tfr-bert-demo\\lib\\site-packages (from matplotlib->tf-models-official>=2.3.0->tensorflow-ranking==0.3.2) (1.4.1)\n",
      "Requirement already satisfied: cycler>=0.10 in c:\\users\\artyo\\anaconda3\\envs\\tfr-bert-demo\\lib\\site-packages (from matplotlib->tf-models-official>=2.3.0->tensorflow-ranking==0.3.2) (0.11.0)\n",
      "Requirement already satisfied: fonttools>=4.22.0 in c:\\users\\artyo\\anaconda3\\envs\\tfr-bert-demo\\lib\\site-packages (from matplotlib->tf-models-official>=2.3.0->tensorflow-ranking==0.3.2) (4.31.2)\n",
      "Requirement already satisfied: packaging>=20.0 in c:\\users\\artyo\\anaconda3\\envs\\tfr-bert-demo\\lib\\site-packages (from matplotlib->tf-models-official>=2.3.0->tensorflow-ranking==0.3.2) (21.3)\n",
      "Requirement already satisfied: text-unidecode>=1.3 in c:\\users\\artyo\\anaconda3\\envs\\tfr-bert-demo\\lib\\site-packages (from python-slugify->kaggle>=1.3.9->tf-models-official>=2.3.0->tensorflow-ranking==0.3.2) (1.3)\n",
      "Requirement already satisfied: tabulate>=0.8.9 in c:\\users\\artyo\\anaconda3\\envs\\tfr-bert-demo\\lib\\site-packages (from sacrebleu->tf-models-official>=2.3.0->tensorflow-ranking==0.3.2) (0.8.9)\n",
      "Requirement already satisfied: portalocker in c:\\users\\artyo\\anaconda3\\envs\\tfr-bert-demo\\lib\\site-packages (from sacrebleu->tf-models-official>=2.3.0->tensorflow-ranking==0.3.2) (2.4.0)\n",
      "Requirement already satisfied: regex in c:\\users\\artyo\\anaconda3\\envs\\tfr-bert-demo\\lib\\site-packages (from sacrebleu->tf-models-official>=2.3.0->tensorflow-ranking==0.3.2) (2022.3.15)\n",
      "Requirement already satisfied: colorama in c:\\users\\artyo\\anaconda3\\envs\\tfr-bert-demo\\lib\\site-packages (from sacrebleu->tf-models-official>=2.3.0->tensorflow-ranking==0.3.2) (0.4.4)\n",
      "Requirement already satisfied: pywin32>=226 in c:\\users\\artyo\\anaconda3\\envs\\tfr-bert-demo\\lib\\site-packages (from portalocker->sacrebleu->tf-models-official>=2.3.0->tensorflow-ranking==0.3.2) (302)\n",
      "Requirement already satisfied: scikit-learn>=0.21.3 in c:\\users\\artyo\\anaconda3\\envs\\tfr-bert-demo\\lib\\site-packages (from seqeval->tf-models-official>=2.3.0->tensorflow-ranking==0.3.2) (1.0.2)\n",
      "Requirement already satisfied: threadpoolctl>=2.0.0 in c:\\users\\artyo\\anaconda3\\envs\\tfr-bert-demo\\lib\\site-packages (from scikit-learn>=0.21.3->seqeval->tf-models-official>=2.3.0->tensorflow-ranking==0.3.2) (3.1.0)\n",
      "Requirement already satisfied: joblib>=0.11 in c:\\users\\artyo\\anaconda3\\envs\\tfr-bert-demo\\lib\\site-packages (from scikit-learn>=0.21.3->seqeval->tf-models-official>=2.3.0->tensorflow-ranking==0.3.2) (1.1.0)\n",
      "Requirement already satisfied: typeguard>=2.7 in c:\\users\\artyo\\anaconda3\\envs\\tfr-bert-demo\\lib\\site-packages (from tensorflow-addons->tf-models-official>=2.3.0->tensorflow-ranking==0.3.2) (2.13.3)\n",
      "Requirement already satisfied: tensorflow-metadata in c:\\users\\artyo\\anaconda3\\envs\\tfr-bert-demo\\lib\\site-packages (from tensorflow-datasets->tf-models-official>=2.3.0->tensorflow-ranking==0.3.2) (1.7.0)\n",
      "Requirement already satisfied: dill in c:\\users\\artyo\\anaconda3\\envs\\tfr-bert-demo\\lib\\site-packages (from tensorflow-datasets->tf-models-official>=2.3.0->tensorflow-ranking==0.3.2) (0.3.4)\n",
      "Requirement already satisfied: promise in c:\\users\\artyo\\anaconda3\\envs\\tfr-bert-demo\\lib\\site-packages (from tensorflow-datasets->tf-models-official>=2.3.0->tensorflow-ranking==0.3.2) (2.3)\n"
     ]
    },
    {
     "name": "stdout",
     "output_type": "stream",
     "text": [
      "Requirement already satisfied: tf-models-official==2.7.1 in c:\\users\\artyo\\anaconda3\\envs\\tfr-bert-demo\\lib\\site-packages (2.7.1)\n",
      "Requirement already satisfied: psutil>=5.4.3 in c:\\users\\artyo\\anaconda3\\envs\\tfr-bert-demo\\lib\\site-packages (from tf-models-official==2.7.1) (5.9.0)\n",
      "Requirement already satisfied: py-cpuinfo>=3.3.0 in c:\\users\\artyo\\anaconda3\\envs\\tfr-bert-demo\\lib\\site-packages (from tf-models-official==2.7.1) (8.0.0)\n",
      "Requirement already satisfied: oauth2client in c:\\users\\artyo\\anaconda3\\envs\\tfr-bert-demo\\lib\\site-packages (from tf-models-official==2.7.1) (4.1.3)\n",
      "Requirement already satisfied: tensorflow-datasets in c:\\users\\artyo\\anaconda3\\envs\\tfr-bert-demo\\lib\\site-packages (from tf-models-official==2.7.1) (4.5.2)\n",
      "Requirement already satisfied: sacrebleu in c:\\users\\artyo\\anaconda3\\envs\\tfr-bert-demo\\lib\\site-packages (from tf-models-official==2.7.1) (2.0.0)\n",
      "Requirement already satisfied: tensorflow-text>=2.4.0 in c:\\users\\artyo\\anaconda3\\envs\\tfr-bert-demo\\lib\\site-packages (from tf-models-official==2.7.1) (2.8.1)\n",
      "Requirement already satisfied: pandas>=0.22.0 in c:\\users\\artyo\\anaconda3\\envs\\tfr-bert-demo\\lib\\site-packages (from tf-models-official==2.7.1) (1.4.1)\n",
      "Requirement already satisfied: pyyaml>=5.1 in c:\\users\\artyo\\anaconda3\\envs\\tfr-bert-demo\\lib\\site-packages (from tf-models-official==2.7.1) (6.0)\n",
      "Requirement already satisfied: seqeval in c:\\users\\artyo\\anaconda3\\envs\\tfr-bert-demo\\lib\\site-packages (from tf-models-official==2.7.1) (1.2.2)\n",
      "Requirement already satisfied: gin-config in c:\\users\\artyo\\anaconda3\\envs\\tfr-bert-demo\\lib\\site-packages (from tf-models-official==2.7.1) (0.5.0)\n",
      "Requirement already satisfied: sentencepiece in c:\\users\\artyo\\anaconda3\\envs\\tfr-bert-demo\\lib\\site-packages (from tf-models-official==2.7.1) (0.1.96)\n",
      "Requirement already satisfied: tf-slim>=1.1.0 in c:\\users\\artyo\\anaconda3\\envs\\tfr-bert-demo\\lib\\site-packages (from tf-models-official==2.7.1) (1.1.0)\n",
      "Requirement already satisfied: kaggle>=1.3.9 in c:\\users\\artyo\\anaconda3\\envs\\tfr-bert-demo\\lib\\site-packages (from tf-models-official==2.7.1) (1.5.12)\n",
      "Requirement already satisfied: tensorflow-addons in c:\\users\\artyo\\anaconda3\\envs\\tfr-bert-demo\\lib\\site-packages (from tf-models-official==2.7.1) (0.16.1)\n",
      "Requirement already satisfied: Pillow in c:\\users\\artyo\\anaconda3\\envs\\tfr-bert-demo\\lib\\site-packages (from tf-models-official==2.7.1) (9.0.1)\n",
      "Requirement already satisfied: tensorflow-model-optimization>=0.4.1 in c:\\users\\artyo\\anaconda3\\envs\\tfr-bert-demo\\lib\\site-packages (from tf-models-official==2.7.1) (0.7.2)\n",
      "Requirement already satisfied: numpy>=1.15.4 in c:\\users\\artyo\\anaconda3\\envs\\tfr-bert-demo\\lib\\site-packages (from tf-models-official==2.7.1) (1.21.5)\n",
      "Requirement already satisfied: matplotlib in c:\\users\\artyo\\anaconda3\\envs\\tfr-bert-demo\\lib\\site-packages (from tf-models-official==2.7.1) (3.5.1)\n",
      "Requirement already satisfied: six in c:\\users\\artyo\\anaconda3\\envs\\tfr-bert-demo\\lib\\site-packages (from tf-models-official==2.7.1) (1.16.0)\n",
      "Requirement already satisfied: opencv-python-headless in c:\\users\\artyo\\anaconda3\\envs\\tfr-bert-demo\\lib\\site-packages (from tf-models-official==2.7.1) (4.5.5.64)\n",
      "Requirement already satisfied: tensorflow>=2.4.0 in c:\\users\\artyo\\anaconda3\\envs\\tfr-bert-demo\\lib\\site-packages (from tf-models-official==2.7.1) (2.8.0)\n",
      "Requirement already satisfied: scipy>=0.19.1 in c:\\users\\artyo\\anaconda3\\envs\\tfr-bert-demo\\lib\\site-packages (from tf-models-official==2.7.1) (1.8.0)\n",
      "Requirement already satisfied: Cython in c:\\users\\artyo\\anaconda3\\envs\\tfr-bert-demo\\lib\\site-packages (from tf-models-official==2.7.1) (0.29.28)\n",
      "Requirement already satisfied: tensorflow-hub>=0.6.0 in c:\\users\\artyo\\anaconda3\\envs\\tfr-bert-demo\\lib\\site-packages (from tf-models-official==2.7.1) (0.12.0)\n",
      "Requirement already satisfied: google-api-python-client>=1.6.7 in c:\\users\\artyo\\anaconda3\\envs\\tfr-bert-demo\\lib\\site-packages (from tf-models-official==2.7.1) (2.42.0)\n",
      "Requirement already satisfied: pycocotools in c:\\users\\artyo\\anaconda3\\envs\\tfr-bert-demo\\lib\\site-packages (from tf-models-official==2.7.1) (2.0.4)\n",
      "Requirement already satisfied: uritemplate<5,>=3.0.1 in c:\\users\\artyo\\anaconda3\\envs\\tfr-bert-demo\\lib\\site-packages (from google-api-python-client>=1.6.7->tf-models-official==2.7.1) (4.1.1)\n",
      "Requirement already satisfied: httplib2<1dev,>=0.15.0 in c:\\users\\artyo\\anaconda3\\envs\\tfr-bert-demo\\lib\\site-packages (from google-api-python-client>=1.6.7->tf-models-official==2.7.1) (0.20.4)\n",
      "Requirement already satisfied: google-api-core!=2.0.*,!=2.1.*,!=2.2.*,!=2.3.0,<3.0.0dev,>=1.31.5 in c:\\users\\artyo\\anaconda3\\envs\\tfr-bert-demo\\lib\\site-packages (from google-api-python-client>=1.6.7->tf-models-official==2.7.1) (2.7.1)\n",
      "Requirement already satisfied: google-auth-httplib2>=0.1.0 in c:\\users\\artyo\\anaconda3\\envs\\tfr-bert-demo\\lib\\site-packages (from google-api-python-client>=1.6.7->tf-models-official==2.7.1) (0.1.0)\n",
      "Requirement already satisfied: google-auth<3.0.0dev,>=1.16.0 in c:\\users\\artyo\\anaconda3\\envs\\tfr-bert-demo\\lib\\site-packages (from google-api-python-client>=1.6.7->tf-models-official==2.7.1) (2.6.2)\n",
      "Requirement already satisfied: protobuf>=3.12.0 in c:\\users\\artyo\\anaconda3\\envs\\tfr-bert-demo\\lib\\site-packages (from google-api-core!=2.0.*,!=2.1.*,!=2.2.*,!=2.3.0,<3.0.0dev,>=1.31.5->google-api-python-client>=1.6.7->tf-models-official==2.7.1) (3.19.4)\n",
      "Requirement already satisfied: requests<3.0.0dev,>=2.18.0 in c:\\users\\artyo\\anaconda3\\envs\\tfr-bert-demo\\lib\\site-packages (from google-api-core!=2.0.*,!=2.1.*,!=2.2.*,!=2.3.0,<3.0.0dev,>=1.31.5->google-api-python-client>=1.6.7->tf-models-official==2.7.1) (2.27.1)\n",
      "Requirement already satisfied: googleapis-common-protos<2.0dev,>=1.52.0 in c:\\users\\artyo\\anaconda3\\envs\\tfr-bert-demo\\lib\\site-packages (from google-api-core!=2.0.*,!=2.1.*,!=2.2.*,!=2.3.0,<3.0.0dev,>=1.31.5->google-api-python-client>=1.6.7->tf-models-official==2.7.1) (1.56.0)\n",
      "Requirement already satisfied: rsa<5,>=3.1.4 in c:\\users\\artyo\\anaconda3\\envs\\tfr-bert-demo\\lib\\site-packages (from google-auth<3.0.0dev,>=1.16.0->google-api-python-client>=1.6.7->tf-models-official==2.7.1) (4.8)\n",
      "Requirement already satisfied: cachetools<6.0,>=2.0.0 in c:\\users\\artyo\\anaconda3\\envs\\tfr-bert-demo\\lib\\site-packages (from google-auth<3.0.0dev,>=1.16.0->google-api-python-client>=1.6.7->tf-models-official==2.7.1) (5.0.0)\n",
      "Requirement already satisfied: pyasn1-modules>=0.2.1 in c:\\users\\artyo\\anaconda3\\envs\\tfr-bert-demo\\lib\\site-packages (from google-auth<3.0.0dev,>=1.16.0->google-api-python-client>=1.6.7->tf-models-official==2.7.1) (0.2.8)\n",
      "Requirement already satisfied: pyparsing!=3.0.0,!=3.0.1,!=3.0.2,!=3.0.3,<4,>=2.4.2 in c:\\users\\artyo\\anaconda3\\envs\\tfr-bert-demo\\lib\\site-packages (from httplib2<1dev,>=0.15.0->google-api-python-client>=1.6.7->tf-models-official==2.7.1) (3.0.4)\n",
      "Requirement already satisfied: certifi in c:\\users\\artyo\\anaconda3\\envs\\tfr-bert-demo\\lib\\site-packages (from kaggle>=1.3.9->tf-models-official==2.7.1) (2021.10.8)\n",
      "Requirement already satisfied: python-slugify in c:\\users\\artyo\\anaconda3\\envs\\tfr-bert-demo\\lib\\site-packages (from kaggle>=1.3.9->tf-models-official==2.7.1) (6.1.1)\n",
      "Requirement already satisfied: urllib3 in c:\\users\\artyo\\anaconda3\\envs\\tfr-bert-demo\\lib\\site-packages (from kaggle>=1.3.9->tf-models-official==2.7.1) (1.26.9)\n",
      "Requirement already satisfied: python-dateutil in c:\\users\\artyo\\anaconda3\\envs\\tfr-bert-demo\\lib\\site-packages (from kaggle>=1.3.9->tf-models-official==2.7.1) (2.8.2)\n",
      "Requirement already satisfied: tqdm in c:\\users\\artyo\\anaconda3\\envs\\tfr-bert-demo\\lib\\site-packages (from kaggle>=1.3.9->tf-models-official==2.7.1) (4.63.1)\n",
      "Requirement already satisfied: pytz>=2020.1 in c:\\users\\artyo\\anaconda3\\envs\\tfr-bert-demo\\lib\\site-packages (from pandas>=0.22.0->tf-models-official==2.7.1) (2021.3)\n",
      "Requirement already satisfied: pyasn1<0.5.0,>=0.4.6 in c:\\users\\artyo\\anaconda3\\envs\\tfr-bert-demo\\lib\\site-packages (from pyasn1-modules>=0.2.1->google-auth<3.0.0dev,>=1.16.0->google-api-python-client>=1.6.7->tf-models-official==2.7.1) (0.4.8)\n",
      "Requirement already satisfied: charset-normalizer~=2.0.0 in c:\\users\\artyo\\anaconda3\\envs\\tfr-bert-demo\\lib\\site-packages (from requests<3.0.0dev,>=2.18.0->google-api-core!=2.0.*,!=2.1.*,!=2.2.*,!=2.3.0,<3.0.0dev,>=1.31.5->google-api-python-client>=1.6.7->tf-models-official==2.7.1) (2.0.12)\n",
      "Requirement already satisfied: idna<4,>=2.5 in c:\\users\\artyo\\anaconda3\\envs\\tfr-bert-demo\\lib\\site-packages (from requests<3.0.0dev,>=2.18.0->google-api-core!=2.0.*,!=2.1.*,!=2.2.*,!=2.3.0,<3.0.0dev,>=1.31.5->google-api-python-client>=1.6.7->tf-models-official==2.7.1) (3.3)\n",
      "Requirement already satisfied: setuptools in c:\\users\\artyo\\anaconda3\\envs\\tfr-bert-demo\\lib\\site-packages (from tensorflow>=2.4.0->tf-models-official==2.7.1) (58.0.4)\n",
      "Requirement already satisfied: tensorflow-io-gcs-filesystem>=0.23.1 in c:\\users\\artyo\\anaconda3\\envs\\tfr-bert-demo\\lib\\site-packages (from tensorflow>=2.4.0->tf-models-official==2.7.1) (0.24.0)\n",
      "Requirement already satisfied: gast>=0.2.1 in c:\\users\\artyo\\anaconda3\\envs\\tfr-bert-demo\\lib\\site-packages (from tensorflow>=2.4.0->tf-models-official==2.7.1) (0.5.3)\n",
      "Requirement already satisfied: termcolor>=1.1.0 in c:\\users\\artyo\\anaconda3\\envs\\tfr-bert-demo\\lib\\site-packages (from tensorflow>=2.4.0->tf-models-official==2.7.1) (1.1.0)\n",
      "Requirement already satisfied: absl-py>=0.4.0 in c:\\users\\artyo\\anaconda3\\envs\\tfr-bert-demo\\lib\\site-packages (from tensorflow>=2.4.0->tf-models-official==2.7.1) (1.0.0)\n",
      "Requirement already satisfied: grpcio<2.0,>=1.24.3 in c:\\users\\artyo\\anaconda3\\envs\\tfr-bert-demo\\lib\\site-packages (from tensorflow>=2.4.0->tf-models-official==2.7.1) (1.45.0)\n",
      "Requirement already satisfied: flatbuffers>=1.12 in c:\\users\\artyo\\anaconda3\\envs\\tfr-bert-demo\\lib\\site-packages (from tensorflow>=2.4.0->tf-models-official==2.7.1) (2.0)\n",
      "Requirement already satisfied: keras<2.9,>=2.8.0rc0 in c:\\users\\artyo\\anaconda3\\envs\\tfr-bert-demo\\lib\\site-packages (from tensorflow>=2.4.0->tf-models-official==2.7.1) (2.8.0)\n",
      "Requirement already satisfied: astunparse>=1.6.0 in c:\\users\\artyo\\anaconda3\\envs\\tfr-bert-demo\\lib\\site-packages (from tensorflow>=2.4.0->tf-models-official==2.7.1) (1.6.3)\n",
      "Requirement already satisfied: keras-preprocessing>=1.1.1 in c:\\users\\artyo\\anaconda3\\envs\\tfr-bert-demo\\lib\\site-packages (from tensorflow>=2.4.0->tf-models-official==2.7.1) (1.1.2)\n",
      "Requirement already satisfied: google-pasta>=0.1.1 in c:\\users\\artyo\\anaconda3\\envs\\tfr-bert-demo\\lib\\site-packages (from tensorflow>=2.4.0->tf-models-official==2.7.1) (0.2.0)\n",
      "Requirement already satisfied: wrapt>=1.11.0 in c:\\users\\artyo\\anaconda3\\envs\\tfr-bert-demo\\lib\\site-packages (from tensorflow>=2.4.0->tf-models-official==2.7.1) (1.14.0)\n",
      "Requirement already satisfied: libclang>=9.0.1 in c:\\users\\artyo\\anaconda3\\envs\\tfr-bert-demo\\lib\\site-packages (from tensorflow>=2.4.0->tf-models-official==2.7.1) (13.0.0)\n",
      "Requirement already satisfied: typing-extensions>=3.6.6 in c:\\users\\artyo\\anaconda3\\envs\\tfr-bert-demo\\lib\\site-packages (from tensorflow>=2.4.0->tf-models-official==2.7.1) (4.1.1)\n",
      "Requirement already satisfied: tf-estimator-nightly==2.8.0.dev2021122109 in c:\\users\\artyo\\anaconda3\\envs\\tfr-bert-demo\\lib\\site-packages (from tensorflow>=2.4.0->tf-models-official==2.7.1) (2.8.0.dev2021122109)\n",
      "Requirement already satisfied: tensorboard<2.9,>=2.8 in c:\\users\\artyo\\anaconda3\\envs\\tfr-bert-demo\\lib\\site-packages (from tensorflow>=2.4.0->tf-models-official==2.7.1) (2.8.0)\n",
      "Requirement already satisfied: h5py>=2.9.0 in c:\\users\\artyo\\anaconda3\\envs\\tfr-bert-demo\\lib\\site-packages (from tensorflow>=2.4.0->tf-models-official==2.7.1) (3.6.0)\n",
      "Requirement already satisfied: opt-einsum>=2.3.2 in c:\\users\\artyo\\anaconda3\\envs\\tfr-bert-demo\\lib\\site-packages (from tensorflow>=2.4.0->tf-models-official==2.7.1) (3.3.0)\n",
      "Requirement already satisfied: wheel<1.0,>=0.23.0 in c:\\users\\artyo\\anaconda3\\envs\\tfr-bert-demo\\lib\\site-packages (from astunparse>=1.6.0->tensorflow>=2.4.0->tf-models-official==2.7.1) (0.37.1)\n",
      "Requirement already satisfied: tensorboard-data-server<0.7.0,>=0.6.0 in c:\\users\\artyo\\anaconda3\\envs\\tfr-bert-demo\\lib\\site-packages (from tensorboard<2.9,>=2.8->tensorflow>=2.4.0->tf-models-official==2.7.1) (0.6.1)\n",
      "Requirement already satisfied: google-auth-oauthlib<0.5,>=0.4.1 in c:\\users\\artyo\\anaconda3\\envs\\tfr-bert-demo\\lib\\site-packages (from tensorboard<2.9,>=2.8->tensorflow>=2.4.0->tf-models-official==2.7.1) (0.4.6)\n",
      "Requirement already satisfied: markdown>=2.6.8 in c:\\users\\artyo\\anaconda3\\envs\\tfr-bert-demo\\lib\\site-packages (from tensorboard<2.9,>=2.8->tensorflow>=2.4.0->tf-models-official==2.7.1) (3.3.6)\n",
      "Requirement already satisfied: werkzeug>=0.11.15 in c:\\users\\artyo\\anaconda3\\envs\\tfr-bert-demo\\lib\\site-packages (from tensorboard<2.9,>=2.8->tensorflow>=2.4.0->tf-models-official==2.7.1) (2.1.0)\n",
      "Requirement already satisfied: tensorboard-plugin-wit>=1.6.0 in c:\\users\\artyo\\anaconda3\\envs\\tfr-bert-demo\\lib\\site-packages (from tensorboard<2.9,>=2.8->tensorflow>=2.4.0->tf-models-official==2.7.1) (1.8.1)\n",
      "Requirement already satisfied: requests-oauthlib>=0.7.0 in c:\\users\\artyo\\anaconda3\\envs\\tfr-bert-demo\\lib\\site-packages (from google-auth-oauthlib<0.5,>=0.4.1->tensorboard<2.9,>=2.8->tensorflow>=2.4.0->tf-models-official==2.7.1) (1.3.1)\n",
      "Requirement already satisfied: oauthlib>=3.0.0 in c:\\users\\artyo\\anaconda3\\envs\\tfr-bert-demo\\lib\\site-packages (from requests-oauthlib>=0.7.0->google-auth-oauthlib<0.5,>=0.4.1->tensorboard<2.9,>=2.8->tensorflow>=2.4.0->tf-models-official==2.7.1) (3.2.0)\n",
      "Requirement already satisfied: dm-tree~=0.1.1 in c:\\users\\artyo\\anaconda3\\envs\\tfr-bert-demo\\lib\\site-packages (from tensorflow-model-optimization>=0.4.1->tf-models-official==2.7.1) (0.1.6)\n",
      "Requirement already satisfied: kiwisolver>=1.0.1 in c:\\users\\artyo\\anaconda3\\envs\\tfr-bert-demo\\lib\\site-packages (from matplotlib->tf-models-official==2.7.1) (1.4.1)\n",
      "Requirement already satisfied: packaging>=20.0 in c:\\users\\artyo\\anaconda3\\envs\\tfr-bert-demo\\lib\\site-packages (from matplotlib->tf-models-official==2.7.1) (21.3)\n",
      "Requirement already satisfied: cycler>=0.10 in c:\\users\\artyo\\anaconda3\\envs\\tfr-bert-demo\\lib\\site-packages (from matplotlib->tf-models-official==2.7.1) (0.11.0)\n",
      "Requirement already satisfied: fonttools>=4.22.0 in c:\\users\\artyo\\anaconda3\\envs\\tfr-bert-demo\\lib\\site-packages (from matplotlib->tf-models-official==2.7.1) (4.31.2)\n",
      "Requirement already satisfied: text-unidecode>=1.3 in c:\\users\\artyo\\anaconda3\\envs\\tfr-bert-demo\\lib\\site-packages (from python-slugify->kaggle>=1.3.9->tf-models-official==2.7.1) (1.3)\n",
      "Requirement already satisfied: portalocker in c:\\users\\artyo\\anaconda3\\envs\\tfr-bert-demo\\lib\\site-packages (from sacrebleu->tf-models-official==2.7.1) (2.4.0)\n",
      "Requirement already satisfied: regex in c:\\users\\artyo\\anaconda3\\envs\\tfr-bert-demo\\lib\\site-packages (from sacrebleu->tf-models-official==2.7.1) (2022.3.15)\n",
      "Requirement already satisfied: colorama in c:\\users\\artyo\\anaconda3\\envs\\tfr-bert-demo\\lib\\site-packages (from sacrebleu->tf-models-official==2.7.1) (0.4.4)\n",
      "Requirement already satisfied: tabulate>=0.8.9 in c:\\users\\artyo\\anaconda3\\envs\\tfr-bert-demo\\lib\\site-packages (from sacrebleu->tf-models-official==2.7.1) (0.8.9)\n",
      "Requirement already satisfied: pywin32>=226 in c:\\users\\artyo\\anaconda3\\envs\\tfr-bert-demo\\lib\\site-packages (from portalocker->sacrebleu->tf-models-official==2.7.1) (302)\n",
      "Requirement already satisfied: scikit-learn>=0.21.3 in c:\\users\\artyo\\anaconda3\\envs\\tfr-bert-demo\\lib\\site-packages (from seqeval->tf-models-official==2.7.1) (1.0.2)\n",
      "Requirement already satisfied: joblib>=0.11 in c:\\users\\artyo\\anaconda3\\envs\\tfr-bert-demo\\lib\\site-packages (from scikit-learn>=0.21.3->seqeval->tf-models-official==2.7.1) (1.1.0)\n",
      "Requirement already satisfied: threadpoolctl>=2.0.0 in c:\\users\\artyo\\anaconda3\\envs\\tfr-bert-demo\\lib\\site-packages (from scikit-learn>=0.21.3->seqeval->tf-models-official==2.7.1) (3.1.0)\n",
      "Requirement already satisfied: typeguard>=2.7 in c:\\users\\artyo\\anaconda3\\envs\\tfr-bert-demo\\lib\\site-packages (from tensorflow-addons->tf-models-official==2.7.1) (2.13.3)\n",
      "Requirement already satisfied: dill in c:\\users\\artyo\\anaconda3\\envs\\tfr-bert-demo\\lib\\site-packages (from tensorflow-datasets->tf-models-official==2.7.1) (0.3.4)\n",
      "Requirement already satisfied: tensorflow-metadata in c:\\users\\artyo\\anaconda3\\envs\\tfr-bert-demo\\lib\\site-packages (from tensorflow-datasets->tf-models-official==2.7.1) (1.7.0)\n",
      "Requirement already satisfied: promise in c:\\users\\artyo\\anaconda3\\envs\\tfr-bert-demo\\lib\\site-packages (from tensorflow-datasets->tf-models-official==2.7.1) (2.3)\n"
     ]
    }
   ],
   "source": [
    "! pip install tensorflow-ranking==0.3.2\n",
    "! pip install tf-models-official==2.7.1"
   ]
  },
  {
   "cell_type": "code",
   "execution_count": 2,
   "id": "cd1b4460",
   "metadata": {},
   "outputs": [],
   "source": [
    "import tensorflow as tf\n",
    "import tensorflow_datasets as tfds\n",
    "import tensorflow_ranking as tfr"
   ]
  },
  {
   "cell_type": "code",
   "execution_count": 3,
   "id": "c72c56e9",
   "metadata": {},
   "outputs": [
    {
     "name": "stdout",
     "output_type": "stream",
     "text": [
      "Wall time: 6.42 s\n"
     ]
    }
   ],
   "source": [
    "%%time\n",
    "metadata_parsed = pd.read_csv('metadata_parsed_with_punctuation.csv')"
   ]
  },
  {
   "cell_type": "code",
   "execution_count": 4,
   "id": "f377d06b",
   "metadata": {},
   "outputs": [],
   "source": [
    "metadata_parsed = metadata_parsed.dropna()"
   ]
  },
  {
   "cell_type": "code",
   "execution_count": 5,
   "id": "745e50e6",
   "metadata": {},
   "outputs": [
    {
     "data": {
      "text/plain": [
       "(912229, 7)"
      ]
     },
     "execution_count": 5,
     "metadata": {},
     "output_type": "execute_result"
    }
   ],
   "source": [
    "metadata_parsed.shape"
   ]
  },
  {
   "cell_type": "code",
   "execution_count": 6,
   "id": "38895059",
   "metadata": {},
   "outputs": [
    {
     "data": {
      "text/html": [
       "<div>\n",
       "<style scoped>\n",
       "    .dataframe tbody tr th:only-of-type {\n",
       "        vertical-align: middle;\n",
       "    }\n",
       "\n",
       "    .dataframe tbody tr th {\n",
       "        vertical-align: top;\n",
       "    }\n",
       "\n",
       "    .dataframe thead th {\n",
       "        text-align: right;\n",
       "    }\n",
       "</style>\n",
       "<table border=\"1\" class=\"dataframe\">\n",
       "  <thead>\n",
       "    <tr style=\"text-align: right;\">\n",
       "      <th></th>\n",
       "      <th>rank</th>\n",
       "      <th>category</th>\n",
       "      <th>description</th>\n",
       "      <th>title</th>\n",
       "      <th>brand</th>\n",
       "      <th>feature</th>\n",
       "      <th>price</th>\n",
       "    </tr>\n",
       "  </thead>\n",
       "  <tbody>\n",
       "    <tr>\n",
       "      <th>0</th>\n",
       "      <td>175420</td>\n",
       "      <td>Beauty &amp; Personal Care (See Top 100 in Beauty ...</td>\n",
       "      <td>[\"These extra long backscratcher/shoehorns are...</td>\n",
       "      <td>BambooMN Brand - 1 x 25 Bamboo Backscratcher S...</td>\n",
       "      <td>BambooMN</td>\n",
       "      <td>[\"A perfect gift for a friend who could use an...</td>\n",
       "      <td>9.95</td>\n",
       "    </tr>\n",
       "    <tr>\n",
       "      <th>1</th>\n",
       "      <td>132516</td>\n",
       "      <td>Beauty &amp; Personal Care (See Top 100 in Beauty ...</td>\n",
       "      <td>[]</td>\n",
       "      <td>Infinity Jars 30 Ml (1 fl oz) Black Ultraviole...</td>\n",
       "      <td>Infinity Jars</td>\n",
       "      <td>LABORATORY TESTED AND APPROVED, ULTRAVIOLET GL...</td>\n",
       "      <td>13.00</td>\n",
       "    </tr>\n",
       "    <tr>\n",
       "      <th>2</th>\n",
       "      <td>41845</td>\n",
       "      <td>Beauty &amp; Personal Care (See Top 100 in Beauty ...</td>\n",
       "      <td>Bring a natural element into your bathroom or ...</td>\n",
       "      <td>InterDesign Twigz Free Standing Toilet Paper H...</td>\n",
       "      <td>InterDesign</td>\n",
       "      <td>VINTAGE LOOK: Silver finish steel wire toilet ...</td>\n",
       "      <td>24.37</td>\n",
       "    </tr>\n",
       "    <tr>\n",
       "      <th>3</th>\n",
       "      <td>302442</td>\n",
       "      <td>Grocery &amp; Gourmet Food (See Top 100 in Grocery...</td>\n",
       "      <td>[\". Simply heat bottle in a hot water bath unt...</td>\n",
       "      <td>F/X Gelatin-Graftobian</td>\n",
       "      <td>Graftobian</td>\n",
       "      <td>[\"F/X Gelatin is the ''heat and serve'' of gor...</td>\n",
       "      <td>29.99</td>\n",
       "    </tr>\n",
       "    <tr>\n",
       "      <th>4</th>\n",
       "      <td>250013</td>\n",
       "      <td>Beauty &amp; Personal Care (See Top 100 in Beauty ...</td>\n",
       "      <td>BOOK LOVER Street Sign books novels readers re...</td>\n",
       "      <td>SignMission Book Lover Street Sign Books Novel...</td>\n",
       "      <td>SignMission</td>\n",
       "      <td>Sign Size: 4\" X 18\"', 'Perfect Gift - Good for...</td>\n",
       "      <td>8.99</td>\n",
       "    </tr>\n",
       "  </tbody>\n",
       "</table>\n",
       "</div>"
      ],
      "text/plain": [
       "     rank                                           category  \\\n",
       "0  175420  Beauty & Personal Care (See Top 100 in Beauty ...   \n",
       "1  132516  Beauty & Personal Care (See Top 100 in Beauty ...   \n",
       "2   41845  Beauty & Personal Care (See Top 100 in Beauty ...   \n",
       "3  302442  Grocery & Gourmet Food (See Top 100 in Grocery...   \n",
       "4  250013  Beauty & Personal Care (See Top 100 in Beauty ...   \n",
       "\n",
       "                                         description  \\\n",
       "0  [\"These extra long backscratcher/shoehorns are...   \n",
       "1                                                 []   \n",
       "2  Bring a natural element into your bathroom or ...   \n",
       "3  [\". Simply heat bottle in a hot water bath unt...   \n",
       "4  BOOK LOVER Street Sign books novels readers re...   \n",
       "\n",
       "                                               title          brand  \\\n",
       "0  BambooMN Brand - 1 x 25 Bamboo Backscratcher S...       BambooMN   \n",
       "1  Infinity Jars 30 Ml (1 fl oz) Black Ultraviole...  Infinity Jars   \n",
       "2  InterDesign Twigz Free Standing Toilet Paper H...    InterDesign   \n",
       "3                             F/X Gelatin-Graftobian     Graftobian   \n",
       "4  SignMission Book Lover Street Sign Books Novel...    SignMission   \n",
       "\n",
       "                                             feature  price  \n",
       "0  [\"A perfect gift for a friend who could use an...   9.95  \n",
       "1  LABORATORY TESTED AND APPROVED, ULTRAVIOLET GL...  13.00  \n",
       "2  VINTAGE LOOK: Silver finish steel wire toilet ...  24.37  \n",
       "3  [\"F/X Gelatin is the ''heat and serve'' of gor...  29.99  \n",
       "4  Sign Size: 4\" X 18\"', 'Perfect Gift - Good for...   8.99  "
      ]
     },
     "execution_count": 6,
     "metadata": {},
     "output_type": "execute_result"
    }
   ],
   "source": [
    "metadata_parsed.head()"
   ]
  },
  {
   "cell_type": "code",
   "execution_count": 7,
   "id": "d3f4c681",
   "metadata": {},
   "outputs": [],
   "source": [
    "metadata_parsed = metadata_parsed[['category', 'description', 'title', 'brand', 'price', 'feature', 'rank']]"
   ]
  },
  {
   "cell_type": "code",
   "execution_count": 8,
   "id": "4136b497",
   "metadata": {},
   "outputs": [
    {
     "data": {
      "text/html": [
       "<div>\n",
       "<style scoped>\n",
       "    .dataframe tbody tr th:only-of-type {\n",
       "        vertical-align: middle;\n",
       "    }\n",
       "\n",
       "    .dataframe tbody tr th {\n",
       "        vertical-align: top;\n",
       "    }\n",
       "\n",
       "    .dataframe thead th {\n",
       "        text-align: right;\n",
       "    }\n",
       "</style>\n",
       "<table border=\"1\" class=\"dataframe\">\n",
       "  <thead>\n",
       "    <tr style=\"text-align: right;\">\n",
       "      <th></th>\n",
       "      <th>category</th>\n",
       "      <th>description</th>\n",
       "      <th>title</th>\n",
       "      <th>brand</th>\n",
       "      <th>price</th>\n",
       "      <th>feature</th>\n",
       "      <th>rank</th>\n",
       "    </tr>\n",
       "  </thead>\n",
       "  <tbody>\n",
       "    <tr>\n",
       "      <th>0</th>\n",
       "      <td>Beauty &amp; Personal Care (See Top 100 in Beauty ...</td>\n",
       "      <td>[\"These extra long backscratcher/shoehorns are...</td>\n",
       "      <td>BambooMN Brand - 1 x 25 Bamboo Backscratcher S...</td>\n",
       "      <td>BambooMN</td>\n",
       "      <td>9.95</td>\n",
       "      <td>[\"A perfect gift for a friend who could use an...</td>\n",
       "      <td>175420</td>\n",
       "    </tr>\n",
       "    <tr>\n",
       "      <th>1</th>\n",
       "      <td>Beauty &amp; Personal Care (See Top 100 in Beauty ...</td>\n",
       "      <td>[]</td>\n",
       "      <td>Infinity Jars 30 Ml (1 fl oz) Black Ultraviole...</td>\n",
       "      <td>Infinity Jars</td>\n",
       "      <td>13.00</td>\n",
       "      <td>LABORATORY TESTED AND APPROVED, ULTRAVIOLET GL...</td>\n",
       "      <td>132516</td>\n",
       "    </tr>\n",
       "    <tr>\n",
       "      <th>2</th>\n",
       "      <td>Beauty &amp; Personal Care (See Top 100 in Beauty ...</td>\n",
       "      <td>Bring a natural element into your bathroom or ...</td>\n",
       "      <td>InterDesign Twigz Free Standing Toilet Paper H...</td>\n",
       "      <td>InterDesign</td>\n",
       "      <td>24.37</td>\n",
       "      <td>VINTAGE LOOK: Silver finish steel wire toilet ...</td>\n",
       "      <td>41845</td>\n",
       "    </tr>\n",
       "    <tr>\n",
       "      <th>3</th>\n",
       "      <td>Grocery &amp; Gourmet Food (See Top 100 in Grocery...</td>\n",
       "      <td>[\". Simply heat bottle in a hot water bath unt...</td>\n",
       "      <td>F/X Gelatin-Graftobian</td>\n",
       "      <td>Graftobian</td>\n",
       "      <td>29.99</td>\n",
       "      <td>[\"F/X Gelatin is the ''heat and serve'' of gor...</td>\n",
       "      <td>302442</td>\n",
       "    </tr>\n",
       "    <tr>\n",
       "      <th>4</th>\n",
       "      <td>Beauty &amp; Personal Care (See Top 100 in Beauty ...</td>\n",
       "      <td>BOOK LOVER Street Sign books novels readers re...</td>\n",
       "      <td>SignMission Book Lover Street Sign Books Novel...</td>\n",
       "      <td>SignMission</td>\n",
       "      <td>8.99</td>\n",
       "      <td>Sign Size: 4\" X 18\"', 'Perfect Gift - Good for...</td>\n",
       "      <td>250013</td>\n",
       "    </tr>\n",
       "  </tbody>\n",
       "</table>\n",
       "</div>"
      ],
      "text/plain": [
       "                                            category  \\\n",
       "0  Beauty & Personal Care (See Top 100 in Beauty ...   \n",
       "1  Beauty & Personal Care (See Top 100 in Beauty ...   \n",
       "2  Beauty & Personal Care (See Top 100 in Beauty ...   \n",
       "3  Grocery & Gourmet Food (See Top 100 in Grocery...   \n",
       "4  Beauty & Personal Care (See Top 100 in Beauty ...   \n",
       "\n",
       "                                         description  \\\n",
       "0  [\"These extra long backscratcher/shoehorns are...   \n",
       "1                                                 []   \n",
       "2  Bring a natural element into your bathroom or ...   \n",
       "3  [\". Simply heat bottle in a hot water bath unt...   \n",
       "4  BOOK LOVER Street Sign books novels readers re...   \n",
       "\n",
       "                                               title          brand  price  \\\n",
       "0  BambooMN Brand - 1 x 25 Bamboo Backscratcher S...       BambooMN   9.95   \n",
       "1  Infinity Jars 30 Ml (1 fl oz) Black Ultraviole...  Infinity Jars  13.00   \n",
       "2  InterDesign Twigz Free Standing Toilet Paper H...    InterDesign  24.37   \n",
       "3                             F/X Gelatin-Graftobian     Graftobian  29.99   \n",
       "4  SignMission Book Lover Street Sign Books Novel...    SignMission   8.99   \n",
       "\n",
       "                                             feature    rank  \n",
       "0  [\"A perfect gift for a friend who could use an...  175420  \n",
       "1  LABORATORY TESTED AND APPROVED, ULTRAVIOLET GL...  132516  \n",
       "2  VINTAGE LOOK: Silver finish steel wire toilet ...   41845  \n",
       "3  [\"F/X Gelatin is the ''heat and serve'' of gor...  302442  \n",
       "4  Sign Size: 4\" X 18\"', 'Perfect Gift - Good for...  250013  "
      ]
     },
     "execution_count": 8,
     "metadata": {},
     "output_type": "execute_result"
    }
   ],
   "source": [
    "metadata_parsed.head()"
   ]
  },
  {
   "cell_type": "markdown",
   "id": "08ef8b4c",
   "metadata": {},
   "source": [
    "Создаём уникальные id для категорий"
   ]
  },
  {
   "cell_type": "code",
   "execution_count": 9,
   "id": "a3b97be8",
   "metadata": {},
   "outputs": [],
   "source": [
    "categories_list = metadata_parsed['category'].values.tolist()"
   ]
  },
  {
   "cell_type": "code",
   "execution_count": 10,
   "id": "6df35b8f",
   "metadata": {},
   "outputs": [
    {
     "data": {
      "text/plain": [
       "2809"
      ]
     },
     "execution_count": 10,
     "metadata": {},
     "output_type": "execute_result"
    }
   ],
   "source": [
    "len(set(categories_list))"
   ]
  },
  {
   "cell_type": "code",
   "execution_count": 11,
   "id": "35245159",
   "metadata": {},
   "outputs": [
    {
     "data": {
      "text/plain": [
       "2809"
      ]
     },
     "execution_count": 11,
     "metadata": {},
     "output_type": "execute_result"
    }
   ],
   "source": [
    "from collections import defaultdict\n",
    "  \n",
    "temp = defaultdict(lambda: len(temp))\n",
    "categories_ids = [temp[ele] for ele in categories_list]\n",
    "len(set(categories_ids))"
   ]
  },
  {
   "cell_type": "code",
   "execution_count": 12,
   "id": "9317a01e",
   "metadata": {},
   "outputs": [],
   "source": [
    "metadata_parsed['category_id'] = np.array(categories_ids)"
   ]
  },
  {
   "cell_type": "code",
   "execution_count": 13,
   "id": "8509d8d8",
   "metadata": {},
   "outputs": [
    {
     "data": {
      "text/plain": [
       "2808"
      ]
     },
     "execution_count": 13,
     "metadata": {},
     "output_type": "execute_result"
    }
   ],
   "source": [
    "metadata_parsed.category_id.max()"
   ]
  },
  {
   "cell_type": "code",
   "execution_count": 14,
   "id": "54c01472",
   "metadata": {},
   "outputs": [
    {
     "data": {
      "text/plain": [
       "count    9.122290e+05\n",
       "mean     2.575858e+05\n",
       "std      7.387145e+05\n",
       "min      1.000000e+00\n",
       "25%      2.821000e+03\n",
       "50%      2.029100e+04\n",
       "75%      1.626160e+05\n",
       "max      2.503485e+07\n",
       "Name: rank, dtype: float64"
      ]
     },
     "execution_count": 14,
     "metadata": {},
     "output_type": "execute_result"
    }
   ],
   "source": [
    "metadata_parsed['rank'].describe()"
   ]
  },
  {
   "cell_type": "markdown",
   "id": "f33f6dc6",
   "metadata": {},
   "source": [
    "### Уберём очень большие ранги"
   ]
  },
  {
   "cell_type": "code",
   "execution_count": 15,
   "id": "b170fd29",
   "metadata": {},
   "outputs": [],
   "source": [
    "metadata_parsed = metadata_parsed[metadata_parsed['rank'] <= 1000000]"
   ]
  },
  {
   "cell_type": "code",
   "execution_count": 16,
   "id": "aff88a62",
   "metadata": {},
   "outputs": [
    {
     "data": {
      "text/plain": [
       "<AxesSubplot:xlabel='rank', ylabel='Count'>"
      ]
     },
     "execution_count": 16,
     "metadata": {},
     "output_type": "execute_result"
    },
    {
     "data": {
      "image/png": "[encoded data removed]",
      "text/plain": [
       "<Figure size 432x288 with 1 Axes>"
      ]
     },
     "metadata": {
      "needs_background": "light"
     },
     "output_type": "display_data"
    }
   ],
   "source": [
    "sns.histplot(data=metadata_parsed[metadata_parsed['rank'] <= 1000], x=\"rank\")"
   ]
  },
  {
   "cell_type": "code",
   "execution_count": 17,
   "id": "563bbc6b",
   "metadata": {},
   "outputs": [
    {
     "data": {
      "text/plain": [
       "<AxesSubplot:xlabel='rank', ylabel='Count'>"
      ]
     },
     "execution_count": 17,
     "metadata": {},
     "output_type": "execute_result"
    },
    {
     "data": {
      "image/png": "[encoded data removed]",
      "text/plain": [
       "<Figure size 432x288 with 1 Axes>"
      ]
     },
     "metadata": {
      "needs_background": "light"
     },
     "output_type": "display_data"
    }
   ],
   "source": [
    "sns.histplot(data=metadata_parsed[metadata_parsed['rank'] <= 10000], x=\"rank\")"
   ]
  },
  {
   "cell_type": "markdown",
   "id": "a5e4a0c9",
   "metadata": {},
   "source": [
    "### Модели ранжирования в TF Ranking подразумевают, что чем больше скор, тем лучше, поэтому нужна функция, которая адекватно переводит ранги из отсортированных по возрастанию в отсортированные по убыванию, в идеале - ещё в небольшом диапавзоне, чтобы не было nan"
   ]
  },
  {
   "cell_type": "code",
   "execution_count": 18,
   "id": "314f7a76",
   "metadata": {},
   "outputs": [],
   "source": [
    "metadata_parsed['rank_scaled'] = np.log10(metadata_parsed['rank'])"
   ]
  },
  {
   "cell_type": "code",
   "execution_count": 19,
   "id": "c01af784",
   "metadata": {},
   "outputs": [
    {
     "data": {
      "text/html": [
       "<div>\n",
       "<style scoped>\n",
       "    .dataframe tbody tr th:only-of-type {\n",
       "        vertical-align: middle;\n",
       "    }\n",
       "\n",
       "    .dataframe tbody tr th {\n",
       "        vertical-align: top;\n",
       "    }\n",
       "\n",
       "    .dataframe thead th {\n",
       "        text-align: right;\n",
       "    }\n",
       "</style>\n",
       "<table border=\"1\" class=\"dataframe\">\n",
       "  <thead>\n",
       "    <tr style=\"text-align: right;\">\n",
       "      <th></th>\n",
       "      <th>category</th>\n",
       "      <th>description</th>\n",
       "      <th>title</th>\n",
       "      <th>brand</th>\n",
       "      <th>price</th>\n",
       "      <th>feature</th>\n",
       "      <th>rank</th>\n",
       "      <th>category_id</th>\n",
       "      <th>rank_scaled</th>\n",
       "    </tr>\n",
       "  </thead>\n",
       "  <tbody>\n",
       "    <tr>\n",
       "      <th>0</th>\n",
       "      <td>Beauty &amp; Personal Care (See Top 100 in Beauty ...</td>\n",
       "      <td>[\"These extra long backscratcher/shoehorns are...</td>\n",
       "      <td>BambooMN Brand - 1 x 25 Bamboo Backscratcher S...</td>\n",
       "      <td>BambooMN</td>\n",
       "      <td>9.95</td>\n",
       "      <td>[\"A perfect gift for a friend who could use an...</td>\n",
       "      <td>175420</td>\n",
       "      <td>0</td>\n",
       "      <td>5.244079</td>\n",
       "    </tr>\n",
       "    <tr>\n",
       "      <th>1</th>\n",
       "      <td>Beauty &amp; Personal Care (See Top 100 in Beauty ...</td>\n",
       "      <td>[]</td>\n",
       "      <td>Infinity Jars 30 Ml (1 fl oz) Black Ultraviole...</td>\n",
       "      <td>Infinity Jars</td>\n",
       "      <td>13.00</td>\n",
       "      <td>LABORATORY TESTED AND APPROVED, ULTRAVIOLET GL...</td>\n",
       "      <td>132516</td>\n",
       "      <td>0</td>\n",
       "      <td>5.122268</td>\n",
       "    </tr>\n",
       "    <tr>\n",
       "      <th>2</th>\n",
       "      <td>Beauty &amp; Personal Care (See Top 100 in Beauty ...</td>\n",
       "      <td>Bring a natural element into your bathroom or ...</td>\n",
       "      <td>InterDesign Twigz Free Standing Toilet Paper H...</td>\n",
       "      <td>InterDesign</td>\n",
       "      <td>24.37</td>\n",
       "      <td>VINTAGE LOOK: Silver finish steel wire toilet ...</td>\n",
       "      <td>41845</td>\n",
       "      <td>0</td>\n",
       "      <td>4.621644</td>\n",
       "    </tr>\n",
       "    <tr>\n",
       "      <th>3</th>\n",
       "      <td>Grocery &amp; Gourmet Food (See Top 100 in Grocery...</td>\n",
       "      <td>[\". Simply heat bottle in a hot water bath unt...</td>\n",
       "      <td>F/X Gelatin-Graftobian</td>\n",
       "      <td>Graftobian</td>\n",
       "      <td>29.99</td>\n",
       "      <td>[\"F/X Gelatin is the ''heat and serve'' of gor...</td>\n",
       "      <td>302442</td>\n",
       "      <td>1</td>\n",
       "      <td>5.480642</td>\n",
       "    </tr>\n",
       "    <tr>\n",
       "      <th>4</th>\n",
       "      <td>Beauty &amp; Personal Care (See Top 100 in Beauty ...</td>\n",
       "      <td>BOOK LOVER Street Sign books novels readers re...</td>\n",
       "      <td>SignMission Book Lover Street Sign Books Novel...</td>\n",
       "      <td>SignMission</td>\n",
       "      <td>8.99</td>\n",
       "      <td>Sign Size: 4\" X 18\"', 'Perfect Gift - Good for...</td>\n",
       "      <td>250013</td>\n",
       "      <td>0</td>\n",
       "      <td>5.397963</td>\n",
       "    </tr>\n",
       "    <tr>\n",
       "      <th>...</th>\n",
       "      <td>...</td>\n",
       "      <td>...</td>\n",
       "      <td>...</td>\n",
       "      <td>...</td>\n",
       "      <td>...</td>\n",
       "      <td>...</td>\n",
       "      <td>...</td>\n",
       "      <td>...</td>\n",
       "      <td>...</td>\n",
       "    </tr>\n",
       "    <tr>\n",
       "      <th>917608</th>\n",
       "      <td>Camera &amp; Photo &gt; Camera &amp; Photo Accessories &gt; ...</td>\n",
       "      <td>Key Features:  1. Compliable with most telesco...</td>\n",
       "      <td>Ueasy Smartphone Capturer Universal Cell Phone...</td>\n",
       "      <td>Ueasy</td>\n",
       "      <td>12.99</td>\n",
       "      <td>Compliable with most telescope, binocular, mon...</td>\n",
       "      <td>832</td>\n",
       "      <td>1188</td>\n",
       "      <td>2.920123</td>\n",
       "    </tr>\n",
       "    <tr>\n",
       "      <th>917609</th>\n",
       "      <td>Health &amp; Household (See Top 100 in Health &amp; Ho...</td>\n",
       "      <td>[]</td>\n",
       "      <td>Geilienergy BT-17333 BT-27333 Handset Telephon...</td>\n",
       "      <td>GEILIENERGY</td>\n",
       "      <td>4.98</td>\n",
       "      <td>Low power consumption IC design.', 'Compatible...</td>\n",
       "      <td>55256</td>\n",
       "      <td>29</td>\n",
       "      <td>4.742379</td>\n",
       "    </tr>\n",
       "    <tr>\n",
       "      <th>917610</th>\n",
       "      <td>Electronics &gt; Accessories &amp; Supplies &gt; Telepho...</td>\n",
       "      <td>[]</td>\n",
       "      <td>Geilienergy BT-17333 BT-27333 Handset Telephon...</td>\n",
       "      <td>GEILIENERGY</td>\n",
       "      <td>4.98</td>\n",
       "      <td>Low power consumption IC design.', 'Compatible...</td>\n",
       "      <td>118</td>\n",
       "      <td>1218</td>\n",
       "      <td>2.071882</td>\n",
       "    </tr>\n",
       "    <tr>\n",
       "      <th>917611</th>\n",
       "      <td>Computers &amp; Accessories &gt; Computer Accessories...</td>\n",
       "      <td>1.M.2 NGFF (SATA) SSD to 2.5 SATA Adapter Conv...</td>\n",
       "      <td>M.2 NGFF (SATA) SSD to 2.5 SATA Adapter SATA H...</td>\n",
       "      <td>TSK</td>\n",
       "      <td>9.99</td>\n",
       "      <td>M.2 NGFF (SATA) SSD to 2.5 SATA Adapter Conver...</td>\n",
       "      <td>1295</td>\n",
       "      <td>1053</td>\n",
       "      <td>3.112270</td>\n",
       "    </tr>\n",
       "    <tr>\n",
       "      <th>917612</th>\n",
       "      <td>Electronics &gt; Portable Audio &amp; Video &gt; MP3 &amp; M...</td>\n",
       "      <td>Charge your USB-enabled devices on the go with...</td>\n",
       "      <td>Domo 12 Volt Dual USB Car Charger</td>\n",
       "      <td>Domo</td>\n",
       "      <td>11.99</td>\n",
       "      <td>Charge your USB-enabled devices on the go with...</td>\n",
       "      <td>3124</td>\n",
       "      <td>1798</td>\n",
       "      <td>3.494711</td>\n",
       "    </tr>\n",
       "  </tbody>\n",
       "</table>\n",
       "<p>849052 rows × 9 columns</p>\n",
       "</div>"
      ],
      "text/plain": [
       "                                                 category  \\\n",
       "0       Beauty & Personal Care (See Top 100 in Beauty ...   \n",
       "1       Beauty & Personal Care (See Top 100 in Beauty ...   \n",
       "2       Beauty & Personal Care (See Top 100 in Beauty ...   \n",
       "3       Grocery & Gourmet Food (See Top 100 in Grocery...   \n",
       "4       Beauty & Personal Care (See Top 100 in Beauty ...   \n",
       "...                                                   ...   \n",
       "917608  Camera & Photo > Camera & Photo Accessories > ...   \n",
       "917609  Health & Household (See Top 100 in Health & Ho...   \n",
       "917610  Electronics > Accessories & Supplies > Telepho...   \n",
       "917611  Computers & Accessories > Computer Accessories...   \n",
       "917612  Electronics > Portable Audio & Video > MP3 & M...   \n",
       "\n",
       "                                              description  \\\n",
       "0       [\"These extra long backscratcher/shoehorns are...   \n",
       "1                                                      []   \n",
       "2       Bring a natural element into your bathroom or ...   \n",
       "3       [\". Simply heat bottle in a hot water bath unt...   \n",
       "4       BOOK LOVER Street Sign books novels readers re...   \n",
       "...                                                   ...   \n",
       "917608  Key Features:  1. Compliable with most telesco...   \n",
       "917609                                                 []   \n",
       "917610                                                 []   \n",
       "917611  1.M.2 NGFF (SATA) SSD to 2.5 SATA Adapter Conv...   \n",
       "917612  Charge your USB-enabled devices on the go with...   \n",
       "\n",
       "                                                    title          brand  \\\n",
       "0       BambooMN Brand - 1 x 25 Bamboo Backscratcher S...       BambooMN   \n",
       "1       Infinity Jars 30 Ml (1 fl oz) Black Ultraviole...  Infinity Jars   \n",
       "2       InterDesign Twigz Free Standing Toilet Paper H...    InterDesign   \n",
       "3                                  F/X Gelatin-Graftobian     Graftobian   \n",
       "4       SignMission Book Lover Street Sign Books Novel...    SignMission   \n",
       "...                                                   ...            ...   \n",
       "917608  Ueasy Smartphone Capturer Universal Cell Phone...          Ueasy   \n",
       "917609  Geilienergy BT-17333 BT-27333 Handset Telephon...    GEILIENERGY   \n",
       "917610  Geilienergy BT-17333 BT-27333 Handset Telephon...    GEILIENERGY   \n",
       "917611  M.2 NGFF (SATA) SSD to 2.5 SATA Adapter SATA H...            TSK   \n",
       "917612                  Domo 12 Volt Dual USB Car Charger           Domo   \n",
       "\n",
       "        price                                            feature    rank  \\\n",
       "0        9.95  [\"A perfect gift for a friend who could use an...  175420   \n",
       "1       13.00  LABORATORY TESTED AND APPROVED, ULTRAVIOLET GL...  132516   \n",
       "2       24.37  VINTAGE LOOK: Silver finish steel wire toilet ...   41845   \n",
       "3       29.99  [\"F/X Gelatin is the ''heat and serve'' of gor...  302442   \n",
       "4        8.99  Sign Size: 4\" X 18\"', 'Perfect Gift - Good for...  250013   \n",
       "...       ...                                                ...     ...   \n",
       "917608  12.99  Compliable with most telescope, binocular, mon...     832   \n",
       "917609   4.98  Low power consumption IC design.', 'Compatible...   55256   \n",
       "917610   4.98  Low power consumption IC design.', 'Compatible...     118   \n",
       "917611   9.99  M.2 NGFF (SATA) SSD to 2.5 SATA Adapter Conver...    1295   \n",
       "917612  11.99  Charge your USB-enabled devices on the go with...    3124   \n",
       "\n",
       "        category_id  rank_scaled  \n",
       "0                 0     5.244079  \n",
       "1                 0     5.122268  \n",
       "2                 0     4.621644  \n",
       "3                 1     5.480642  \n",
       "4                 0     5.397963  \n",
       "...             ...          ...  \n",
       "917608         1188     2.920123  \n",
       "917609           29     4.742379  \n",
       "917610         1218     2.071882  \n",
       "917611         1053     3.112270  \n",
       "917612         1798     3.494711  \n",
       "\n",
       "[849052 rows x 9 columns]"
      ]
     },
     "execution_count": 19,
     "metadata": {},
     "output_type": "execute_result"
    }
   ],
   "source": [
    "metadata_parsed"
   ]
  },
  {
   "cell_type": "code",
   "execution_count": 20,
   "id": "f8ad786a",
   "metadata": {},
   "outputs": [
    {
     "data": {
      "text/plain": [
       "count    849052.000000\n",
       "mean          4.138569\n",
       "std           1.097620\n",
       "min           0.000000\n",
       "25%           3.385249\n",
       "50%           4.191954\n",
       "75%           5.000074\n",
       "max           5.999997\n",
       "Name: rank_scaled, dtype: float64"
      ]
     },
     "execution_count": 20,
     "metadata": {},
     "output_type": "execute_result"
    }
   ],
   "source": [
    "metadata_parsed['rank_scaled'].describe()"
   ]
  },
  {
   "cell_type": "code",
   "execution_count": 21,
   "id": "28b39f68",
   "metadata": {},
   "outputs": [],
   "source": [
    "metadata_parsed['rank_scaled'] = -metadata_parsed['rank_scaled'] + metadata_parsed['rank_scaled'].max() "
   ]
  },
  {
   "cell_type": "code",
   "execution_count": 22,
   "id": "5de2a92b",
   "metadata": {},
   "outputs": [
    {
     "data": {
      "text/plain": [
       "count    849052.000000\n",
       "mean          1.861427\n",
       "std           1.097620\n",
       "min           0.000000\n",
       "25%           0.999923\n",
       "50%           1.808043\n",
       "75%           2.614748\n",
       "max           5.999997\n",
       "Name: rank_scaled, dtype: float64"
      ]
     },
     "execution_count": 22,
     "metadata": {},
     "output_type": "execute_result"
    }
   ],
   "source": [
    "metadata_parsed['rank_scaled'].describe()"
   ]
  },
  {
   "cell_type": "code",
   "execution_count": 23,
   "id": "4039ae26",
   "metadata": {},
   "outputs": [
    {
     "data": {
      "text/html": [
       "<div>\n",
       "<style scoped>\n",
       "    .dataframe tbody tr th:only-of-type {\n",
       "        vertical-align: middle;\n",
       "    }\n",
       "\n",
       "    .dataframe tbody tr th {\n",
       "        vertical-align: top;\n",
       "    }\n",
       "\n",
       "    .dataframe thead th {\n",
       "        text-align: right;\n",
       "    }\n",
       "</style>\n",
       "<table border=\"1\" class=\"dataframe\">\n",
       "  <thead>\n",
       "    <tr style=\"text-align: right;\">\n",
       "      <th></th>\n",
       "      <th>category</th>\n",
       "      <th>description</th>\n",
       "      <th>title</th>\n",
       "      <th>brand</th>\n",
       "      <th>price</th>\n",
       "      <th>feature</th>\n",
       "      <th>rank</th>\n",
       "      <th>category_id</th>\n",
       "      <th>rank_scaled</th>\n",
       "    </tr>\n",
       "  </thead>\n",
       "  <tbody>\n",
       "    <tr>\n",
       "      <th>0</th>\n",
       "      <td>Beauty &amp; Personal Care (See Top 100 in Beauty ...</td>\n",
       "      <td>[\"These extra long backscratcher/shoehorns are...</td>\n",
       "      <td>BambooMN Brand - 1 x 25 Bamboo Backscratcher S...</td>\n",
       "      <td>BambooMN</td>\n",
       "      <td>9.95</td>\n",
       "      <td>[\"A perfect gift for a friend who could use an...</td>\n",
       "      <td>175420</td>\n",
       "      <td>0</td>\n",
       "      <td>0.755917</td>\n",
       "    </tr>\n",
       "    <tr>\n",
       "      <th>1</th>\n",
       "      <td>Beauty &amp; Personal Care (See Top 100 in Beauty ...</td>\n",
       "      <td>[]</td>\n",
       "      <td>Infinity Jars 30 Ml (1 fl oz) Black Ultraviole...</td>\n",
       "      <td>Infinity Jars</td>\n",
       "      <td>13.00</td>\n",
       "      <td>LABORATORY TESTED AND APPROVED, ULTRAVIOLET GL...</td>\n",
       "      <td>132516</td>\n",
       "      <td>0</td>\n",
       "      <td>0.877728</td>\n",
       "    </tr>\n",
       "    <tr>\n",
       "      <th>2</th>\n",
       "      <td>Beauty &amp; Personal Care (See Top 100 in Beauty ...</td>\n",
       "      <td>Bring a natural element into your bathroom or ...</td>\n",
       "      <td>InterDesign Twigz Free Standing Toilet Paper H...</td>\n",
       "      <td>InterDesign</td>\n",
       "      <td>24.37</td>\n",
       "      <td>VINTAGE LOOK: Silver finish steel wire toilet ...</td>\n",
       "      <td>41845</td>\n",
       "      <td>0</td>\n",
       "      <td>1.378353</td>\n",
       "    </tr>\n",
       "    <tr>\n",
       "      <th>3</th>\n",
       "      <td>Grocery &amp; Gourmet Food (See Top 100 in Grocery...</td>\n",
       "      <td>[\". Simply heat bottle in a hot water bath unt...</td>\n",
       "      <td>F/X Gelatin-Graftobian</td>\n",
       "      <td>Graftobian</td>\n",
       "      <td>29.99</td>\n",
       "      <td>[\"F/X Gelatin is the ''heat and serve'' of gor...</td>\n",
       "      <td>302442</td>\n",
       "      <td>1</td>\n",
       "      <td>0.519354</td>\n",
       "    </tr>\n",
       "    <tr>\n",
       "      <th>4</th>\n",
       "      <td>Beauty &amp; Personal Care (See Top 100 in Beauty ...</td>\n",
       "      <td>BOOK LOVER Street Sign books novels readers re...</td>\n",
       "      <td>SignMission Book Lover Street Sign Books Novel...</td>\n",
       "      <td>SignMission</td>\n",
       "      <td>8.99</td>\n",
       "      <td>Sign Size: 4\" X 18\"', 'Perfect Gift - Good for...</td>\n",
       "      <td>250013</td>\n",
       "      <td>0</td>\n",
       "      <td>0.602034</td>\n",
       "    </tr>\n",
       "    <tr>\n",
       "      <th>...</th>\n",
       "      <td>...</td>\n",
       "      <td>...</td>\n",
       "      <td>...</td>\n",
       "      <td>...</td>\n",
       "      <td>...</td>\n",
       "      <td>...</td>\n",
       "      <td>...</td>\n",
       "      <td>...</td>\n",
       "      <td>...</td>\n",
       "    </tr>\n",
       "    <tr>\n",
       "      <th>917608</th>\n",
       "      <td>Camera &amp; Photo &gt; Camera &amp; Photo Accessories &gt; ...</td>\n",
       "      <td>Key Features:  1. Compliable with most telesco...</td>\n",
       "      <td>Ueasy Smartphone Capturer Universal Cell Phone...</td>\n",
       "      <td>Ueasy</td>\n",
       "      <td>12.99</td>\n",
       "      <td>Compliable with most telescope, binocular, mon...</td>\n",
       "      <td>832</td>\n",
       "      <td>1188</td>\n",
       "      <td>3.079873</td>\n",
       "    </tr>\n",
       "    <tr>\n",
       "      <th>917609</th>\n",
       "      <td>Health &amp; Household (See Top 100 in Health &amp; Ho...</td>\n",
       "      <td>[]</td>\n",
       "      <td>Geilienergy BT-17333 BT-27333 Handset Telephon...</td>\n",
       "      <td>GEILIENERGY</td>\n",
       "      <td>4.98</td>\n",
       "      <td>Low power consumption IC design.', 'Compatible...</td>\n",
       "      <td>55256</td>\n",
       "      <td>29</td>\n",
       "      <td>1.257617</td>\n",
       "    </tr>\n",
       "    <tr>\n",
       "      <th>917610</th>\n",
       "      <td>Electronics &gt; Accessories &amp; Supplies &gt; Telepho...</td>\n",
       "      <td>[]</td>\n",
       "      <td>Geilienergy BT-17333 BT-27333 Handset Telephon...</td>\n",
       "      <td>GEILIENERGY</td>\n",
       "      <td>4.98</td>\n",
       "      <td>Low power consumption IC design.', 'Compatible...</td>\n",
       "      <td>118</td>\n",
       "      <td>1218</td>\n",
       "      <td>3.928115</td>\n",
       "    </tr>\n",
       "    <tr>\n",
       "      <th>917611</th>\n",
       "      <td>Computers &amp; Accessories &gt; Computer Accessories...</td>\n",
       "      <td>1.M.2 NGFF (SATA) SSD to 2.5 SATA Adapter Conv...</td>\n",
       "      <td>M.2 NGFF (SATA) SSD to 2.5 SATA Adapter SATA H...</td>\n",
       "      <td>TSK</td>\n",
       "      <td>9.99</td>\n",
       "      <td>M.2 NGFF (SATA) SSD to 2.5 SATA Adapter Conver...</td>\n",
       "      <td>1295</td>\n",
       "      <td>1053</td>\n",
       "      <td>2.887727</td>\n",
       "    </tr>\n",
       "    <tr>\n",
       "      <th>917612</th>\n",
       "      <td>Electronics &gt; Portable Audio &amp; Video &gt; MP3 &amp; M...</td>\n",
       "      <td>Charge your USB-enabled devices on the go with...</td>\n",
       "      <td>Domo 12 Volt Dual USB Car Charger</td>\n",
       "      <td>Domo</td>\n",
       "      <td>11.99</td>\n",
       "      <td>Charge your USB-enabled devices on the go with...</td>\n",
       "      <td>3124</td>\n",
       "      <td>1798</td>\n",
       "      <td>2.505286</td>\n",
       "    </tr>\n",
       "  </tbody>\n",
       "</table>\n",
       "<p>849052 rows × 9 columns</p>\n",
       "</div>"
      ],
      "text/plain": [
       "                                                 category  \\\n",
       "0       Beauty & Personal Care (See Top 100 in Beauty ...   \n",
       "1       Beauty & Personal Care (See Top 100 in Beauty ...   \n",
       "2       Beauty & Personal Care (See Top 100 in Beauty ...   \n",
       "3       Grocery & Gourmet Food (See Top 100 in Grocery...   \n",
       "4       Beauty & Personal Care (See Top 100 in Beauty ...   \n",
       "...                                                   ...   \n",
       "917608  Camera & Photo > Camera & Photo Accessories > ...   \n",
       "917609  Health & Household (See Top 100 in Health & Ho...   \n",
       "917610  Electronics > Accessories & Supplies > Telepho...   \n",
       "917611  Computers & Accessories > Computer Accessories...   \n",
       "917612  Electronics > Portable Audio & Video > MP3 & M...   \n",
       "\n",
       "                                              description  \\\n",
       "0       [\"These extra long backscratcher/shoehorns are...   \n",
       "1                                                      []   \n",
       "2       Bring a natural element into your bathroom or ...   \n",
       "3       [\". Simply heat bottle in a hot water bath unt...   \n",
       "4       BOOK LOVER Street Sign books novels readers re...   \n",
       "...                                                   ...   \n",
       "917608  Key Features:  1. Compliable with most telesco...   \n",
       "917609                                                 []   \n",
       "917610                                                 []   \n",
       "917611  1.M.2 NGFF (SATA) SSD to 2.5 SATA Adapter Conv...   \n",
       "917612  Charge your USB-enabled devices on the go with...   \n",
       "\n",
       "                                                    title          brand  \\\n",
       "0       BambooMN Brand - 1 x 25 Bamboo Backscratcher S...       BambooMN   \n",
       "1       Infinity Jars 30 Ml (1 fl oz) Black Ultraviole...  Infinity Jars   \n",
       "2       InterDesign Twigz Free Standing Toilet Paper H...    InterDesign   \n",
       "3                                  F/X Gelatin-Graftobian     Graftobian   \n",
       "4       SignMission Book Lover Street Sign Books Novel...    SignMission   \n",
       "...                                                   ...            ...   \n",
       "917608  Ueasy Smartphone Capturer Universal Cell Phone...          Ueasy   \n",
       "917609  Geilienergy BT-17333 BT-27333 Handset Telephon...    GEILIENERGY   \n",
       "917610  Geilienergy BT-17333 BT-27333 Handset Telephon...    GEILIENERGY   \n",
       "917611  M.2 NGFF (SATA) SSD to 2.5 SATA Adapter SATA H...            TSK   \n",
       "917612                  Domo 12 Volt Dual USB Car Charger           Domo   \n",
       "\n",
       "        price                                            feature    rank  \\\n",
       "0        9.95  [\"A perfect gift for a friend who could use an...  175420   \n",
       "1       13.00  LABORATORY TESTED AND APPROVED, ULTRAVIOLET GL...  132516   \n",
       "2       24.37  VINTAGE LOOK: Silver finish steel wire toilet ...   41845   \n",
       "3       29.99  [\"F/X Gelatin is the ''heat and serve'' of gor...  302442   \n",
       "4        8.99  Sign Size: 4\" X 18\"', 'Perfect Gift - Good for...  250013   \n",
       "...       ...                                                ...     ...   \n",
       "917608  12.99  Compliable with most telescope, binocular, mon...     832   \n",
       "917609   4.98  Low power consumption IC design.', 'Compatible...   55256   \n",
       "917610   4.98  Low power consumption IC design.', 'Compatible...     118   \n",
       "917611   9.99  M.2 NGFF (SATA) SSD to 2.5 SATA Adapter Conver...    1295   \n",
       "917612  11.99  Charge your USB-enabled devices on the go with...    3124   \n",
       "\n",
       "        category_id  rank_scaled  \n",
       "0                 0     0.755917  \n",
       "1                 0     0.877728  \n",
       "2                 0     1.378353  \n",
       "3                 1     0.519354  \n",
       "4                 0     0.602034  \n",
       "...             ...          ...  \n",
       "917608         1188     3.079873  \n",
       "917609           29     1.257617  \n",
       "917610         1218     3.928115  \n",
       "917611         1053     2.887727  \n",
       "917612         1798     2.505286  \n",
       "\n",
       "[849052 rows x 9 columns]"
      ]
     },
     "execution_count": 23,
     "metadata": {},
     "output_type": "execute_result"
    }
   ],
   "source": [
    "metadata_parsed"
   ]
  },
  {
   "cell_type": "code",
   "execution_count": 24,
   "id": "2144c711",
   "metadata": {},
   "outputs": [],
   "source": [
    "df = metadata_parsed.groupby('category_id')['title'].count() > 40"
   ]
  },
  {
   "cell_type": "code",
   "execution_count": 25,
   "id": "5845c710",
   "metadata": {},
   "outputs": [],
   "source": [
    "df = df.reset_index()"
   ]
  },
  {
   "cell_type": "code",
   "execution_count": 26,
   "id": "2aa5e6e1",
   "metadata": {},
   "outputs": [],
   "source": [
    "category_ids = list(df[df['title'] == True].category_id)"
   ]
  },
  {
   "cell_type": "code",
   "execution_count": 28,
   "id": "933db9de",
   "metadata": {},
   "outputs": [],
   "source": [
    "metadata_parsed = metadata_parsed[metadata_parsed['category_id'].isin(category_ids)]"
   ]
  },
  {
   "cell_type": "markdown",
   "id": "dca6e441",
   "metadata": {},
   "source": [
    "### Посчитаем NDCG рандомного предсказания"
   ]
  },
  {
   "cell_type": "markdown",
   "id": "b68945f4",
   "metadata": {},
   "source": [
    "Для начала нужно понять, что такое рандомное предсказание. По-хорошему BERT будет предсказывать новые ранги, а не просто сортировать уже имеющиеся. В качестве довольно плохого приближения можно исплользовать равномерное распределение на [0, 6]\n",
    "А есть нормальная идея: взять весь список рангов и выбирать из него рандомные"
   ]
  },
  {
   "cell_type": "code",
   "execution_count": 29,
   "id": "fe054a96",
   "metadata": {},
   "outputs": [],
   "source": [
    "all_ranks = list(metadata_parsed[\"rank_scaled\"])"
   ]
  },
  {
   "cell_type": "code",
   "execution_count": 30,
   "id": "4d5dbf95",
   "metadata": {},
   "outputs": [
    {
     "data": {
      "text/plain": [
       "834683"
      ]
     },
     "execution_count": 30,
     "metadata": {},
     "output_type": "execute_result"
    }
   ],
   "source": [
    "len(all_ranks)"
   ]
  },
  {
   "cell_type": "code",
   "execution_count": 31,
   "id": "5e14e4d2",
   "metadata": {},
   "outputs": [
    {
     "data": {
      "text/plain": [
       "[3.031513577076312,\n",
       " 2.8005156107678912,\n",
       " 1.8673206765372852,\n",
       " 1.8519494320309118,\n",
       " 1.6795801881740777,\n",
       " 1.5972022769893446,\n",
       " 1.4948058341110642,\n",
       " 1.4446118379130999,\n",
       " 1.378352953435674,\n",
       " 1.3256314800116975]"
      ]
     },
     "execution_count": 31,
     "metadata": {},
     "output_type": "execute_result"
    }
   ],
   "source": [
    "list(metadata_parsed[metadata_parsed['category_id'] == category_ids[0]].sort_values(by='rank').iloc[0:40]['rank_scaled'])[0:10]"
   ]
  },
  {
   "cell_type": "code",
   "execution_count": 32,
   "id": "028ddd1d",
   "metadata": {},
   "outputs": [],
   "source": [
    "import random\n",
    "\n",
    "NUM_ITEMS = 40\n",
    "\n",
    "real_ranks = []\n",
    "random_ranks = []\n",
    "\n",
    "for category in category_ids:\n",
    "    real_ranks.append(list(metadata_parsed[metadata_parsed['category_id'] == category].sort_values(by='rank').iloc[0:NUM_ITEMS]['rank_scaled']))\n",
    "    random_ranks.append(random.sample(all_ranks, NUM_ITEMS))"
   ]
  },
  {
   "cell_type": "code",
   "execution_count": 33,
   "id": "34b13fb2",
   "metadata": {},
   "outputs": [
    {
     "name": "stdout",
     "output_type": "stream",
     "text": [
      "(1181, 40)\n",
      "(1181, 40)\n"
     ]
    }
   ],
   "source": [
    "print(np.array(real_ranks).shape)\n",
    "print(np.array(random_ranks).shape)"
   ]
  },
  {
   "cell_type": "code",
   "execution_count": 44,
   "id": "73e85b12",
   "metadata": {},
   "outputs": [
    {
     "name": "stdout",
     "output_type": "stream",
     "text": [
      "NDCG@1: 0.4023810625076294\n",
      "NDCG@2: 0.4354186952114105\n",
      "NDCG@3: 0.46190279722213745\n",
      "NDCG@4: 0.4863879084587097\n",
      "NDCG@5: 0.505688488483429\n",
      "NDCG@6: 0.5230868458747864\n",
      "NDCG@7: 0.5389911532402039\n",
      "NDCG@8: 0.552715539932251\n",
      "NDCG@9: 0.566389262676239\n",
      "NDCG@10: 0.5799574255943298\n",
      "NDCG@11: 0.5926433801651001\n",
      "NDCG@12: 0.6051404476165771\n",
      "NDCG@13: 0.6167564392089844\n",
      "NDCG@14: 0.6270198822021484\n",
      "NDCG@15: 0.6375774145126343\n",
      "NDCG@16: 0.6475955247879028\n",
      "NDCG@17: 0.656817615032196\n",
      "NDCG@18: 0.6660481691360474\n",
      "NDCG@19: 0.6754860281944275\n",
      "NDCG@20: 0.6845948100090027\n",
      "NDCG@21: 0.6931846737861633\n",
      "NDCG@22: 0.7019683122634888\n",
      "NDCG@23: 0.7100473046302795\n",
      "NDCG@24: 0.7183712124824524\n",
      "NDCG@25: 0.7264122366905212\n",
      "NDCG@26: 0.7339683771133423\n",
      "NDCG@27: 0.7415992617607117\n",
      "NDCG@28: 0.7491804361343384\n",
      "NDCG@29: 0.7564801573753357\n",
      "NDCG@30: 0.7632758617401123\n",
      "NDCG@31: 0.7704277038574219\n",
      "NDCG@32: 0.7771943807601929\n",
      "NDCG@33: 0.7838699221611023\n",
      "NDCG@34: 0.7911373972892761\n",
      "NDCG@35: 0.7975350618362427\n",
      "NDCG@36: 0.8039128184318542\n",
      "NDCG@37: 0.8104788064956665\n",
      "NDCG@38: 0.8166907429695129\n",
      "NDCG@39: 0.8230032920837402\n",
      "NDCG@40: 0.8293717503547668\n"
     ]
    }
   ],
   "source": [
    "for i in range(1, 41):\n",
    "    ndcg = tfr.keras.metrics.NDCGMetric(topn=i)\n",
    "    print(f\"NDCG@{i}: {ndcg(real_ranks, random_ranks).numpy()}\")"
   ]
  },
  {
   "cell_type": "markdown",
   "id": "a782cac0",
   "metadata": {},
   "source": [
    "### Хочу в принципе посмотреть на поведение метрики NDCG, чтобы понимать, что происходит"
   ]
  },
  {
   "cell_type": "code",
   "execution_count": 45,
   "id": "d376ef8d",
   "metadata": {},
   "outputs": [
    {
     "data": {
      "text/plain": [
       "1.0"
      ]
     },
     "execution_count": 45,
     "metadata": {},
     "output_type": "execute_result"
    }
   ],
   "source": [
    "y_true = [[0., 1., 1.]]\n",
    "y_pred = [[1., 2., 3.]]\n",
    "ndcg = tfr.keras.metrics.NDCGMetric()\n",
    "ndcg(y_true, y_pred).numpy()"
   ]
  },
  {
   "cell_type": "code",
   "execution_count": 47,
   "id": "422aed10",
   "metadata": {},
   "outputs": [
    {
     "data": {
      "text/plain": [
       "1.0"
      ]
     },
     "execution_count": 47,
     "metadata": {},
     "output_type": "execute_result"
    }
   ],
   "source": [
    "y_true = [[0., 1., 100.]]\n",
    "y_pred = [[1., 2., 300.]]\n",
    "ndcg = tfr.keras.metrics.NDCGMetric()\n",
    "ndcg(y_true, y_pred).numpy()"
   ]
  },
  {
   "cell_type": "code",
   "execution_count": 48,
   "id": "8762560d",
   "metadata": {},
   "outputs": [
    {
     "data": {
      "text/plain": [
       "1.0"
      ]
     },
     "execution_count": 48,
     "metadata": {},
     "output_type": "execute_result"
    }
   ],
   "source": [
    "y_true = [[0., 1., 4., 2.]]\n",
    "y_pred = [[1., 2., 300., 3.]]\n",
    "ndcg = tfr.keras.metrics.NDCGMetric()\n",
    "ndcg(y_true, y_pred).numpy()"
   ]
  },
  {
   "cell_type": "code",
   "execution_count": 49,
   "id": "acc7cb61",
   "metadata": {},
   "outputs": [
    {
     "data": {
      "text/plain": [
       "0.98494434"
      ]
     },
     "execution_count": 49,
     "metadata": {},
     "output_type": "execute_result"
    }
   ],
   "source": [
    "y_true = [[0., 1., 4., 2.]]\n",
    "y_pred = [[1., 2., 300., 1.]]\n",
    "ndcg = tfr.keras.metrics.NDCGMetric()\n",
    "ndcg(y_true, y_pred).numpy()"
   ]
  },
  {
   "cell_type": "code",
   "execution_count": 50,
   "id": "eb775201",
   "metadata": {},
   "outputs": [
    {
     "data": {
      "text/plain": [
       "0.98494434"
      ]
     },
     "execution_count": 50,
     "metadata": {},
     "output_type": "execute_result"
    }
   ],
   "source": [
    "y_true = [[0., 2., 4., 1.]]\n",
    "y_pred = [[1., 1., 300., 2.]]\n",
    "ndcg = tfr.keras.metrics.NDCGMetric()\n",
    "ndcg(y_true, y_pred).numpy()"
   ]
  },
  {
   "cell_type": "code",
   "execution_count": 52,
   "id": "4f0d561d",
   "metadata": {},
   "outputs": [
    {
     "data": {
      "text/plain": [
       "0.96055645"
      ]
     },
     "execution_count": 52,
     "metadata": {},
     "output_type": "execute_result"
    }
   ],
   "source": [
    "y_true = [[0., 3., 4., 1.]]\n",
    "y_pred = [[1., 1., 300., 2.]]\n",
    "ndcg = tfr.keras.metrics.NDCGMetric()\n",
    "ndcg(y_true, y_pred).numpy()"
   ]
  },
  {
   "cell_type": "code",
   "execution_count": 58,
   "id": "4021be39",
   "metadata": {},
   "outputs": [
    {
     "data": {
      "text/plain": [
       "0.93619156"
      ]
     },
     "execution_count": 58,
     "metadata": {},
     "output_type": "execute_result"
    }
   ],
   "source": [
    "y_true = [[0., 3., 4., 1.]]\n",
    "y_pred = [[1., 1., 2.5, 2.]]\n",
    "ndcg = tfr.keras.metrics.NDCGMetric()\n",
    "ndcg(y_true, y_pred).numpy()"
   ]
  },
  {
   "cell_type": "code",
   "execution_count": 59,
   "id": "ca1abc3a",
   "metadata": {},
   "outputs": [
    {
     "data": {
      "text/plain": [
       "0.96055645"
      ]
     },
     "execution_count": 59,
     "metadata": {},
     "output_type": "execute_result"
    }
   ],
   "source": [
    "y_true = [[0., 3., 4., 1.]]\n",
    "y_pred = [[1., 1., 3., 2.]]\n",
    "ndcg = tfr.keras.metrics.NDCGMetric()\n",
    "ndcg(y_true, y_pred).numpy()"
   ]
  },
  {
   "cell_type": "markdown",
   "id": "15c36f7d",
   "metadata": {},
   "source": [
    "__Вывод__: на вход можно подавать не в отсортированном порядке "
   ]
  },
  {
   "cell_type": "markdown",
   "id": "27aa9d1e",
   "metadata": {},
   "source": [
    "Подмешиваем какой-то процент рандомных рангов в настоящие. При этом хорошо бы настоящие ранги заменить на другие, но тоже отсортированные "
   ]
  },
  {
   "cell_type": "code",
   "execution_count": null,
   "id": "e15d47e7",
   "metadata": {},
   "outputs": [],
   "source": []
  },
  {
   "cell_type": "code",
   "execution_count": 39,
   "id": "c607da2b",
   "metadata": {
    "scrolled": true
   },
   "outputs": [
    {
     "name": "stdout",
     "output_type": "stream",
     "text": [
      "Percentage: 0.0\n",
      "NDCG@3: 1.0\n",
      "NDCG@5: 1.0\n",
      "NDCG@10: 1.0\n",
      "NDCG@20: 1.0\n",
      "NDCG@40: 1.0\n",
      "Percentage: 10.0\n",
      "NDCG@3: 0.8211092948913574\n",
      "NDCG@5: 0.847979724407196\n",
      "NDCG@10: 0.8984596729278564\n",
      "NDCG@20: 0.9311524033546448\n",
      "NDCG@40: 0.9522101283073425\n",
      "Percentage: 20.0\n",
      "NDCG@3: 0.7059953808784485\n",
      "NDCG@5: 0.7436279654502869\n",
      "NDCG@10: 0.8176823258399963\n",
      "NDCG@20: 0.8791712522506714\n",
      "NDCG@40: 0.9179748892784119\n",
      "Percentage: 25.0\n",
      "NDCG@3: 0.6630180478096008\n",
      "NDCG@5: 0.7076815366744995\n",
      "NDCG@10: 0.7847868204116821\n",
      "NDCG@20: 0.8585457801818848\n",
      "NDCG@40: 0.9053007960319519\n",
      "Percentage: 30.0\n",
      "NDCG@3: 0.627774715423584\n",
      "NDCG@5: 0.677333652973175\n",
      "NDCG@10: 0.7556678056716919\n",
      "NDCG@20: 0.8400372266769409\n",
      "NDCG@40: 0.8945969343185425\n",
      "Percentage: 50.0\n",
      "NDCG@3: 0.5251226425170898\n",
      "NDCG@5: 0.5896186232566833\n",
      "NDCG@10: 0.6685792207717896\n",
      "NDCG@20: 0.778605580329895\n",
      "NDCG@40: 0.8628160357475281\n",
      "Percentage: 100.0\n",
      "NDCG@3: 0.46151524782180786\n",
      "NDCG@5: 0.5051537752151489\n",
      "NDCG@10: 0.5809990167617798\n",
      "NDCG@20: 0.6849804520606995\n",
      "NDCG@40: 0.8293998837471008\n"
     ]
    }
   ],
   "source": [
    "import random\n",
    "percentage = [0., 10., 20., 25., 30., 50., 100.]\n",
    "\n",
    "for p in percentage:\n",
    "    target_ranks = []\n",
    "    predicted_ranks = []\n",
    "    for i, (real, rand) in enumerate(zip(real_ranks, random_ranks)): \n",
    "        for i in range(10):  \n",
    "            nice = [] \n",
    "            for g, b in zip(real_ranks[(i + 1) // len(real_ranks)], rand):\n",
    "                n = random.random()    \n",
    "                if n >= p / 100.:\n",
    "                    nice.append(g)\n",
    "                else:\n",
    "                    nice.append(b) \n",
    "            predicted_ranks.append(nice)\n",
    "            target_ranks.append(real)\n",
    "\n",
    "    ndcg = tfr.keras.metrics.NDCGMetric()\n",
    "    print(f\"Percentage: {p}\")\n",
    "    for i in [3, 5, 10, 20, 40]:\n",
    "        ndcg = tfr.keras.metrics.NDCGMetric(topn=i)\n",
    "        print(f\"NDCG@{i}: {ndcg(target_ranks, predicted_ranks).numpy()}\")"
   ]
  },
  {
   "cell_type": "code",
   "execution_count": 40,
   "id": "a8666752",
   "metadata": {},
   "outputs": [
    {
     "name": "stdout",
     "output_type": "stream",
     "text": [
      "(11810, 40)\n",
      "(11810, 40)\n"
     ]
    }
   ],
   "source": [
    "print(np.array(target_ranks).shape)\n",
    "print(np.array(predicted_ranks).shape)"
   ]
  },
  {
   "cell_type": "markdown",
   "id": "60577a66",
   "metadata": {},
   "source": [
    "Получается, что я стремлюсь всего лишь к \n",
    "Percentage: 30.0  \n",
    "NDCG@3: 0.627774715423584  \n",
    "NDCG@5: 0.677333652973175  \n",
    "NDCG@10: 0.7556678056716919  \n",
    "NDCG@20: 0.8400372266769409  \n",
    "NDCG@40: 0.8945969343185425  "
   ]
  },
  {
   "cell_type": "markdown",
   "id": "603234ff",
   "metadata": {},
   "source": [
    "Сейчас на уровне 50%, что конечно нехорошо, но и не ужасно"
   ]
  },
  {
   "cell_type": "code",
   "execution_count": 45,
   "id": "abcbf028",
   "metadata": {},
   "outputs": [
    {
     "data": {
      "text/plain": [
       "[0.7720789846333389,\n",
       " 3.382996184509348,\n",
       " 4.1870831689873915,\n",
       " 1.7780869790421132,\n",
       " 1.150190289071654,\n",
       " 2.989696568990435,\n",
       " 2.801614395621953,\n",
       " 0.4388498059126693,\n",
       " 1.3799958833301798,\n",
       " 0.4910307112279524,\n",
       " 0.5939829270325374,\n",
       " 3.2358203932399165,\n",
       " 1.2047632197479867,\n",
       " 0.03317360243420531,\n",
       " 2.1752850821655128,\n",
       " 1.0991216512977564,\n",
       " 1.1450835033223914,\n",
       " 3.6903663582043484,\n",
       " 2.888062249297566,\n",
       " 0.5750724412370838,\n",
       " 2.566386682306529,\n",
       " 0.8493567317535797,\n",
       " 2.5996312522803082,\n",
       " 1.2186720699632598,\n",
       " 2.1665943963983887,\n",
       " 1.1532451135937851,\n",
       " 2.074426616086871,\n",
       " 4.229144513988103,\n",
       " 1.5816455087815386,\n",
       " 2.9926755727075025,\n",
       " 1.1355981859140032,\n",
       " 2.2428283334159747,\n",
       " 3.44369402486296,\n",
       " 2.4597922257881875,\n",
       " 2.4701813289856167,\n",
       " 2.2714804208704806,\n",
       " 1.1731575188391759,\n",
       " 1.4012388383299914,\n",
       " 1.3850044498038212,\n",
       " 0.6869586292679895]"
      ]
     },
     "execution_count": 45,
     "metadata": {},
     "output_type": "execute_result"
    }
   ],
   "source": [
    "predicted_ranks[1]"
   ]
  },
  {
   "cell_type": "code",
   "execution_count": 27,
   "id": "6b395a94",
   "metadata": {},
   "outputs": [],
   "source": [
    "from sklearn.model_selection import GroupShuffleSplit"
   ]
  },
  {
   "cell_type": "code",
   "execution_count": 28,
   "id": "64ed7f1a",
   "metadata": {},
   "outputs": [],
   "source": [
    "gss = GroupShuffleSplit(test_size=.33, n_splits=1, random_state = 7).split(metadata_parsed, groups=metadata_parsed['category_id'])\n",
    "\n",
    "X_train_inds, X_test_inds = next(gss)\n",
    "\n",
    "train_data = metadata_parsed.iloc[X_train_inds]\n",
    "test_data = metadata_parsed.iloc[X_test_inds]"
   ]
  },
  {
   "cell_type": "code",
   "execution_count": 63,
   "id": "75e13d88",
   "metadata": {},
   "outputs": [],
   "source": [
    "train_data.to_csv('train.csv', index=False)"
   ]
  },
  {
   "cell_type": "code",
   "execution_count": 64,
   "id": "d40957e2",
   "metadata": {},
   "outputs": [],
   "source": [
    "test_data.to_csv('test.csv', index=False)"
   ]
  },
  {
   "cell_type": "code",
   "execution_count": 3,
   "id": "946cf3a3",
   "metadata": {},
   "outputs": [],
   "source": [
    "test_data = pd.read_csv('test.csv')"
   ]
  },
  {
   "cell_type": "code",
   "execution_count": 16,
   "id": "e157fd8a",
   "metadata": {},
   "outputs": [
    {
     "data": {
      "text/plain": [
       "897"
      ]
     },
     "execution_count": 16,
     "metadata": {},
     "output_type": "execute_result"
    }
   ],
   "source": [
    "len(set(test_data.category_id))"
   ]
  },
  {
   "cell_type": "code",
   "execution_count": 35,
   "id": "e2b1256b",
   "metadata": {},
   "outputs": [],
   "source": [
    "eval_categories = []\n",
    "\n",
    "for i in range(96):\n",
    "    eval_categories.append(test_data[test_data['category_id'] == i].sort_values(by='rank').iloc[0:23].sample(frac=1))    \n",
    "eval_data = pd.concat(eval_categories)"
   ]
  },
  {
   "cell_type": "code",
   "execution_count": 36,
   "id": "4b91ae2e",
   "metadata": {},
   "outputs": [
    {
     "data": {
      "text/plain": [
       "30"
      ]
     },
     "execution_count": 36,
     "metadata": {},
     "output_type": "execute_result"
    }
   ],
   "source": [
    "len(set(eval_data.category_id))"
   ]
  },
  {
   "cell_type": "code",
   "execution_count": 37,
   "id": "e1cd0f83",
   "metadata": {},
   "outputs": [],
   "source": [
    "eval_data.to_csv('eval.csv', index=False)"
   ]
  }
 ],
 "metadata": {
  "kernelspec": {
   "display_name": "Python 3 (ipykernel)",
   "language": "python",
   "name": "python3"
  },
  "language_info": {
   "codemirror_mode": {
    "name": "ipython",
    "version": 3
   },
   "file_extension": ".py",
   "mimetype": "text/x-python",
   "name": "python",
   "nbconvert_exporter": "python",
   "pygments_lexer": "ipython3",
   "version": "3.9.7"
  }
 },
 "nbformat": 4,
 "nbformat_minor": 5
}
