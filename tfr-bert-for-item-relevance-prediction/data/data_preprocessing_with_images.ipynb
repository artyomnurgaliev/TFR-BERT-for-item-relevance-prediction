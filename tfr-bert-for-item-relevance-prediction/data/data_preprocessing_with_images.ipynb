{
 "cells": [
  {
   "cell_type": "code",
   "execution_count": 1,
   "id": "3529aa1d",
   "metadata": {
    "id": "3529aa1d"
   },
   "outputs": [],
   "source": [
    "import pandas as pd\n",
    "import gzip\n",
    "import json\n",
    "import seaborn as sns\n",
    "import numpy as np\n",
    "import time\n",
    "import html\n",
    "import re\n",
    "import os\n",
    "from typing import *\n",
    "import urllib.request\n",
    "from PIL import Image\n",
    "import cv2 as cv\n",
    "from matplotlib import pyplot as plt\n",
    "from tqdm import tqdm, trange\n",
    "tqdm.pandas()"
   ]
  },
  {
   "cell_type": "code",
   "execution_count": 2,
   "id": "6796a317",
   "metadata": {},
   "outputs": [
    {
     "name": "stdout",
     "output_type": "stream",
     "text": [
      "Wall time: 10.3 s\n"
     ]
    }
   ],
   "source": [
    "%%time\n",
    "metadata_test = pd.read_csv('../../metadata_parsed_with_images.csv')"
   ]
  },
  {
   "cell_type": "code",
   "execution_count": 3,
   "id": "87215a1a",
   "metadata": {},
   "outputs": [],
   "source": [
    "metadata_test = metadata_test.iloc[0:300000]"
   ]
  },
  {
   "cell_type": "code",
   "execution_count": 4,
   "id": "ef98cd6c",
   "metadata": {},
   "outputs": [
    {
     "data": {
      "text/plain": [
       "(300000, 12)"
      ]
     },
     "execution_count": 4,
     "metadata": {},
     "output_type": "execute_result"
    }
   ],
   "source": [
    "metadata_test.shape"
   ]
  },
  {
   "cell_type": "code",
   "execution_count": 5,
   "id": "69faa1f8",
   "metadata": {},
   "outputs": [],
   "source": [
    "metadata_test = metadata_test.fillna('')"
   ]
  },
  {
   "cell_type": "code",
   "execution_count": 6,
   "id": "4a923fac",
   "metadata": {},
   "outputs": [],
   "source": [
    "import ast"
   ]
  },
  {
   "cell_type": "code",
   "execution_count": 7,
   "id": "b697ed7d",
   "metadata": {},
   "outputs": [
    {
     "name": "stdout",
     "output_type": "stream",
     "text": [
      "Wall time: 2.39 s\n"
     ]
    }
   ],
   "source": [
    "%%time\n",
    "metadata_test['images'] = metadata_test['images'].apply(lambda x: ast.literal_eval(x))"
   ]
  },
  {
   "cell_type": "code",
   "execution_count": 8,
   "id": "9ae6ac90",
   "metadata": {},
   "outputs": [
    {
     "name": "stdout",
     "output_type": "stream",
     "text": [
      "Wall time: 2.33 s\n"
     ]
    }
   ],
   "source": [
    "%%time\n",
    "metadata_test['imagesHighRes'] = metadata_test['imagesHighRes'].apply(lambda x: ast.literal_eval(x))"
   ]
  },
  {
   "cell_type": "code",
   "execution_count": 9,
   "id": "d572b51b",
   "metadata": {},
   "outputs": [],
   "source": [
    "part = metadata_test.copy()"
   ]
  },
  {
   "cell_type": "code",
   "execution_count": 10,
   "id": "a43732a1",
   "metadata": {},
   "outputs": [],
   "source": [
    "import traceback\n",
    "from functools import partial"
   ]
  },
  {
   "cell_type": "code",
   "execution_count": 11,
   "id": "8a7c429e",
   "metadata": {},
   "outputs": [
    {
     "name": "stdout",
     "output_type": "stream",
     "text": [
      "CPU RAM Free: 10.5 GB\n"
     ]
    }
   ],
   "source": [
    "import psutil, humanize\n",
    "\n",
    "def mem_report():\n",
    "    print(\"CPU RAM Free: \" + humanize.naturalsize( psutil.virtual_memory().available ))\n",
    "\n",
    "mem_report()"
   ]
  },
  {
   "cell_type": "code",
   "execution_count": 12,
   "id": "2818a29d",
   "metadata": {},
   "outputs": [],
   "source": [
    "import mapply"
   ]
  },
  {
   "cell_type": "code",
   "execution_count": 13,
   "id": "3a65ae43",
   "metadata": {},
   "outputs": [
    {
     "data": {
      "text/html": [
       "<div>\n",
       "<style scoped>\n",
       "    .dataframe tbody tr th:only-of-type {\n",
       "        vertical-align: middle;\n",
       "    }\n",
       "\n",
       "    .dataframe tbody tr th {\n",
       "        vertical-align: top;\n",
       "    }\n",
       "\n",
       "    .dataframe thead th {\n",
       "        text-align: right;\n",
       "    }\n",
       "</style>\n",
       "<table border=\"1\" class=\"dataframe\">\n",
       "  <thead>\n",
       "    <tr style=\"text-align: right;\">\n",
       "      <th></th>\n",
       "      <th>rank</th>\n",
       "      <th>category</th>\n",
       "      <th>description</th>\n",
       "      <th>title</th>\n",
       "      <th>brand</th>\n",
       "      <th>feature</th>\n",
       "      <th>price</th>\n",
       "      <th>asin</th>\n",
       "      <th>images</th>\n",
       "      <th>imagesHighRes</th>\n",
       "      <th>category_id</th>\n",
       "      <th>rank_scaled</th>\n",
       "    </tr>\n",
       "  </thead>\n",
       "  <tbody>\n",
       "    <tr>\n",
       "      <th>0</th>\n",
       "      <td>11120.0</td>\n",
       "      <td>Arts, Crafts &amp; Sewing &gt; Craft Supplies &gt; Soap ...</td>\n",
       "      <td></td>\n",
       "      <td>Pinkie Tm girl flower Handmade soap silicone m...</td>\n",
       "      <td></td>\n",
       "      <td></td>\n",
       "      <td>35.00</td>\n",
       "      <td>7121277158</td>\n",
       "      <td>[https://images-na.ssl-images-amazon.com/image...</td>\n",
       "      <td>[https://images-na.ssl-images-amazon.com/image...</td>\n",
       "      <td>1</td>\n",
       "      <td>1.953892</td>\n",
       "    </tr>\n",
       "    <tr>\n",
       "      <th>1</th>\n",
       "      <td>2574.0</td>\n",
       "      <td>Arts, Crafts &amp; Sewing &gt; Craft Supplies &gt; Soap ...</td>\n",
       "      <td></td>\n",
       "      <td>Pinkie Tm 3D blooming chrysanthemums Flower So...</td>\n",
       "      <td></td>\n",
       "      <td></td>\n",
       "      <td>35.00</td>\n",
       "      <td>7121280027</td>\n",
       "      <td>[https://images-na.ssl-images-amazon.com/image...</td>\n",
       "      <td>[https://images-na.ssl-images-amazon.com/image...</td>\n",
       "      <td>1</td>\n",
       "      <td>2.589388</td>\n",
       "    </tr>\n",
       "    <tr>\n",
       "      <th>2</th>\n",
       "      <td>761776.0</td>\n",
       "      <td>Kitchen &amp; Dining (See Top 100 in Kitchen &amp; Din...</td>\n",
       "      <td>moldsize:L7.2xW3.7xH4.8cm(L2.83xW1.46xH1.89inc...</td>\n",
       "      <td>Pinkie Tm Rabbit animal silicone soap mold for...</td>\n",
       "      <td>pinkie</td>\n",
       "      <td>Made in 100% pure silicone,softness and comfor...</td>\n",
       "      <td>7.99</td>\n",
       "      <td>7121281821</td>\n",
       "      <td>[https://images-na.ssl-images-amazon.com/image...</td>\n",
       "      <td>[https://images-na.ssl-images-amazon.com/image...</td>\n",
       "      <td>2</td>\n",
       "      <td>0.118169</td>\n",
       "    </tr>\n",
       "    <tr>\n",
       "      <th>3</th>\n",
       "      <td>636.0</td>\n",
       "      <td>Arts, Crafts &amp; Sewing &gt; Craft Supplies &gt; Ceram...</td>\n",
       "      <td>moldsize:L7.2xW3.7xH4.8cm(L2.83xW1.46xH1.89inc...</td>\n",
       "      <td>Pinkie Tm Rabbit animal silicone soap mold for...</td>\n",
       "      <td>pinkie</td>\n",
       "      <td>Made in 100% pure silicone,softness and comfor...</td>\n",
       "      <td>7.99</td>\n",
       "      <td>7121281821</td>\n",
       "      <td>[https://images-na.ssl-images-amazon.com/image...</td>\n",
       "      <td>[https://images-na.ssl-images-amazon.com/image...</td>\n",
       "      <td>3</td>\n",
       "      <td>3.196539</td>\n",
       "    </tr>\n",
       "    <tr>\n",
       "      <th>4</th>\n",
       "      <td>7303.0</td>\n",
       "      <td>Arts, Crafts &amp; Sewing &gt; Craft Supplies &gt; Soap ...</td>\n",
       "      <td></td>\n",
       "      <td>Pinkie Tm Womens Wallets handbag purse shaped ...</td>\n",
       "      <td></td>\n",
       "      <td></td>\n",
       "      <td>35.00</td>\n",
       "      <td>7121282534</td>\n",
       "      <td>[]</td>\n",
       "      <td>[]</td>\n",
       "      <td>1</td>\n",
       "      <td>2.136495</td>\n",
       "    </tr>\n",
       "  </tbody>\n",
       "</table>\n",
       "</div>"
      ],
      "text/plain": [
       "       rank                                           category  \\\n",
       "0   11120.0  Arts, Crafts & Sewing > Craft Supplies > Soap ...   \n",
       "1    2574.0  Arts, Crafts & Sewing > Craft Supplies > Soap ...   \n",
       "2  761776.0  Kitchen & Dining (See Top 100 in Kitchen & Din...   \n",
       "3     636.0  Arts, Crafts & Sewing > Craft Supplies > Ceram...   \n",
       "4    7303.0  Arts, Crafts & Sewing > Craft Supplies > Soap ...   \n",
       "\n",
       "                                         description  \\\n",
       "0                                                      \n",
       "1                                                      \n",
       "2  moldsize:L7.2xW3.7xH4.8cm(L2.83xW1.46xH1.89inc...   \n",
       "3  moldsize:L7.2xW3.7xH4.8cm(L2.83xW1.46xH1.89inc...   \n",
       "4                                                      \n",
       "\n",
       "                                               title   brand  \\\n",
       "0  Pinkie Tm girl flower Handmade soap silicone m...           \n",
       "1  Pinkie Tm 3D blooming chrysanthemums Flower So...           \n",
       "2  Pinkie Tm Rabbit animal silicone soap mold for...  pinkie   \n",
       "3  Pinkie Tm Rabbit animal silicone soap mold for...  pinkie   \n",
       "4  Pinkie Tm Womens Wallets handbag purse shaped ...           \n",
       "\n",
       "                                             feature  price        asin  \\\n",
       "0                                                     35.00  7121277158   \n",
       "1                                                     35.00  7121280027   \n",
       "2  Made in 100% pure silicone,softness and comfor...   7.99  7121281821   \n",
       "3  Made in 100% pure silicone,softness and comfor...   7.99  7121281821   \n",
       "4                                                     35.00  7121282534   \n",
       "\n",
       "                                              images  \\\n",
       "0  [https://images-na.ssl-images-amazon.com/image...   \n",
       "1  [https://images-na.ssl-images-amazon.com/image...   \n",
       "2  [https://images-na.ssl-images-amazon.com/image...   \n",
       "3  [https://images-na.ssl-images-amazon.com/image...   \n",
       "4                                                 []   \n",
       "\n",
       "                                       imagesHighRes  category_id  rank_scaled  \n",
       "0  [https://images-na.ssl-images-amazon.com/image...            1     1.953892  \n",
       "1  [https://images-na.ssl-images-amazon.com/image...            1     2.589388  \n",
       "2  [https://images-na.ssl-images-amazon.com/image...            2     0.118169  \n",
       "3  [https://images-na.ssl-images-amazon.com/image...            3     3.196539  \n",
       "4                                                 []            1     2.136495  "
      ]
     },
     "execution_count": 13,
     "metadata": {},
     "output_type": "execute_result"
    }
   ],
   "source": [
    "part.head()"
   ]
  },
  {
   "cell_type": "code",
   "execution_count": 14,
   "id": "cbdbd1e7",
   "metadata": {},
   "outputs": [
    {
     "data": {
      "text/plain": [
       "(300000, 12)"
      ]
     },
     "execution_count": 14,
     "metadata": {},
     "output_type": "execute_result"
    }
   ],
   "source": [
    "metadata_test.shape"
   ]
  },
  {
   "cell_type": "code",
   "execution_count": 15,
   "id": "a0ca2f5c",
   "metadata": {},
   "outputs": [],
   "source": [
    "import traceback\n",
    "\n",
    "def image_url(urls, path='images_0/'):\n",
    "    import traceback\n",
    "    try:\n",
    "        if len(urls) == 0:\n",
    "            return ''\n",
    "        url = urls[0]\n",
    "        return path + url[49:]\n",
    "    except Exception:\n",
    "        print(f'{traceback.format_exc()}')\n",
    "        return ''"
   ]
  },
  {
   "cell_type": "code",
   "execution_count": 16,
   "id": "f4499c61",
   "metadata": {},
   "outputs": [],
   "source": [
    "metadata_test['image_count'] = metadata_test.images.apply(lambda x: len(x))"
   ]
  },
  {
   "cell_type": "code",
   "execution_count": 17,
   "id": "72035863",
   "metadata": {},
   "outputs": [
    {
     "name": "stderr",
     "output_type": "stream",
     "text": [
      "  0%|          | 0/3 [00:00<?, ?it/s]C:\\Users\\artyo\\AppData\\Local\\Temp/ipykernel_3320/2156869551.py:10: SettingWithCopyWarning: \n",
      "A value is trying to be set on a copy of a slice from a DataFrame.\n",
      "Try using .loc[row_indexer,col_indexer] = value instead\n",
      "\n",
      "See the caveats in the documentation: https://pandas.pydata.org/pandas-docs/stable/user_guide/indexing.html#returning-a-view-versus-a-copy\n",
      "  part['image_url'] = part.images.apply(partial(image_url, path=f'images_{i}/'))\n",
      "C:\\Users\\artyo\\AppData\\Local\\Temp/ipykernel_3320/2156869551.py:12: SettingWithCopyWarning: \n",
      "A value is trying to be set on a copy of a slice from a DataFrame.\n",
      "Try using .loc[row_indexer,col_indexer] = value instead\n",
      "\n",
      "See the caveats in the documentation: https://pandas.pydata.org/pandas-docs/stable/user_guide/indexing.html#returning-a-view-versus-a-copy\n",
      "  part['image_url_high_res'] = part.imagesHighRes.apply(partial(image_url, path=f'images_high_res_{i}/'))\n",
      " 67%|██████▋   | 2/3 [00:00<00:00, 11.26it/s]"
     ]
    },
    {
     "name": "stdout",
     "output_type": "stream",
     "text": [
      "[0:100000]\n",
      "CPU RAM Free: 10.5 GB\n",
      "images\n",
      "images high res\n",
      "[100000:200000]\n",
      "CPU RAM Free: 10.4 GB\n",
      "images\n",
      "images high res\n",
      "[200000:300000]\n",
      "CPU RAM Free: 10.4 GB\n",
      "images\n"
     ]
    },
    {
     "name": "stderr",
     "output_type": "stream",
     "text": [
      "\r",
      "100%|██████████| 3/3 [00:00<00:00, 10.42it/s]"
     ]
    },
    {
     "name": "stdout",
     "output_type": "stream",
     "text": [
      "images high res\n"
     ]
    },
    {
     "name": "stderr",
     "output_type": "stream",
     "text": [
      "\n"
     ]
    }
   ],
   "source": [
    "parts = []\n",
    "\n",
    "for i in trange(3):\n",
    "    l = i * 100000\n",
    "    r = min(l + 100000, metadata_test.shape[0])\n",
    "    print(f\"[{l}:{r}]\")\n",
    "    mem_report()\n",
    "    part = metadata_test.iloc[l:r]\n",
    "    print('images')\n",
    "    part['image_url'] = part.images.apply(partial(image_url, path=f'images_{i}/'))\n",
    "    print('images high res')\n",
    "    part['image_url_high_res'] = part.imagesHighRes.apply(partial(image_url, path=f'images_high_res_{i}/'))\n",
    "    parts.append(part)\n",
    "    \n",
    "df = pd.concat(parts)"
   ]
  },
  {
   "cell_type": "code",
   "execution_count": 18,
   "id": "7282831e",
   "metadata": {},
   "outputs": [
    {
     "data": {
      "text/plain": [
       "(97618, 15)"
      ]
     },
     "execution_count": 18,
     "metadata": {},
     "output_type": "execute_result"
    }
   ],
   "source": [
    "df[df['category_id'] == 4].shape"
   ]
  },
  {
   "cell_type": "code",
   "execution_count": 19,
   "id": "7e77442c",
   "metadata": {},
   "outputs": [],
   "source": [
    "df = df.sort_values(by='category_id')"
   ]
  },
  {
   "cell_type": "code",
   "execution_count": 20,
   "id": "3dabb85b",
   "metadata": {},
   "outputs": [],
   "source": [
    "df['category_rank'] = df.groupby(['category_id']).cumcount()"
   ]
  },
  {
   "cell_type": "code",
   "execution_count": 21,
   "id": "a1e030dc",
   "metadata": {},
   "outputs": [],
   "source": [
    "df['category_id_batched'] = df.category_rank.apply(lambda x: x // 40)"
   ]
  },
  {
   "cell_type": "code",
   "execution_count": 22,
   "id": "997f49a3",
   "metadata": {},
   "outputs": [],
   "source": [
    "df['category_id'] = (df['category_id'] + 1) * 10000 + df['category_id_batched'] "
   ]
  },
  {
   "cell_type": "code",
   "execution_count": 23,
   "id": "4467d838",
   "metadata": {},
   "outputs": [
    {
     "data": {
      "text/plain": [
       "7694"
      ]
     },
     "execution_count": 23,
     "metadata": {},
     "output_type": "execute_result"
    }
   ],
   "source": [
    "len(set(df.category_id))"
   ]
  },
  {
   "cell_type": "code",
   "execution_count": 24,
   "id": "8979c16b",
   "metadata": {},
   "outputs": [],
   "source": [
    "metadata_parsed = df.copy()"
   ]
  },
  {
   "cell_type": "code",
   "execution_count": null,
   "id": "65583df4",
   "metadata": {},
   "outputs": [],
   "source": []
  },
  {
   "cell_type": "code",
   "execution_count": 25,
   "id": "c3837720",
   "metadata": {},
   "outputs": [
    {
     "data": {
      "text/plain": [
       "'Home & Kitchen (See Top 100 in Home & Kitchen)'"
      ]
     },
     "execution_count": 25,
     "metadata": {},
     "output_type": "execute_result"
    }
   ],
   "source": [
    "metadata_parsed['category'].iloc[0]"
   ]
  },
  {
   "cell_type": "code",
   "execution_count": 26,
   "id": "5da73c6a",
   "metadata": {},
   "outputs": [],
   "source": [
    "def remove_seetop100(x):\n",
    "    start = x.lower().find('see top 100') \n",
    "    if start != -1:\n",
    "        return x[:start - 1]\n",
    "    return x"
   ]
  },
  {
   "cell_type": "code",
   "execution_count": 27,
   "id": "aba0aef5",
   "metadata": {},
   "outputs": [],
   "source": [
    "metadata_parsed['category'] = metadata_parsed['category'].apply(lambda x: remove_seetop100(x))"
   ]
  },
  {
   "cell_type": "code",
   "execution_count": 28,
   "id": "4f382679",
   "metadata": {},
   "outputs": [
    {
     "data": {
      "text/html": [
       "<div>\n",
       "<style scoped>\n",
       "    .dataframe tbody tr th:only-of-type {\n",
       "        vertical-align: middle;\n",
       "    }\n",
       "\n",
       "    .dataframe tbody tr th {\n",
       "        vertical-align: top;\n",
       "    }\n",
       "\n",
       "    .dataframe thead th {\n",
       "        text-align: right;\n",
       "    }\n",
       "</style>\n",
       "<table border=\"1\" class=\"dataframe\">\n",
       "  <thead>\n",
       "    <tr style=\"text-align: right;\">\n",
       "      <th></th>\n",
       "      <th>rank</th>\n",
       "      <th>category</th>\n",
       "      <th>description</th>\n",
       "      <th>title</th>\n",
       "      <th>brand</th>\n",
       "      <th>feature</th>\n",
       "      <th>price</th>\n",
       "      <th>asin</th>\n",
       "      <th>images</th>\n",
       "      <th>imagesHighRes</th>\n",
       "      <th>category_id</th>\n",
       "      <th>rank_scaled</th>\n",
       "      <th>image_count</th>\n",
       "      <th>image_url</th>\n",
       "      <th>image_url_high_res</th>\n",
       "      <th>category_rank</th>\n",
       "      <th>category_id_batched</th>\n",
       "    </tr>\n",
       "  </thead>\n",
       "  <tbody>\n",
       "    <tr>\n",
       "      <th>126217</th>\n",
       "      <td>653496.0</td>\n",
       "      <td>Home &amp; Kitchen</td>\n",
       "      <td>This lightweight, 1 oz, natural goatskin rawhi...</td>\n",
       "      <td>LeatherUnltd Rawhide Goatskin, 1 oz, 7-8 sq ft</td>\n",
       "      <td>LeatherUnltd</td>\n",
       "      <td>1 oz natural goatskin rawhide, Ideal for Lace,...</td>\n",
       "      <td>49.00</td>\n",
       "      <td>B00B1G5LJC</td>\n",
       "      <td>[]</td>\n",
       "      <td>[]</td>\n",
       "      <td>10000</td>\n",
       "      <td>0.184754</td>\n",
       "      <td>0</td>\n",
       "      <td></td>\n",
       "      <td></td>\n",
       "      <td>0</td>\n",
       "      <td>0</td>\n",
       "    </tr>\n",
       "    <tr>\n",
       "      <th>91611</th>\n",
       "      <td>250169.0</td>\n",
       "      <td>Home &amp; Kitchen</td>\n",
       "      <td>, Excellent for Applications where Accurate Sp...</td>\n",
       "      <td>Master Airbrush Model G44 High Precision Detai...</td>\n",
       "      <td>Master Airbrush</td>\n",
       "      <td>\"Masters best selling detail airbrush thats lo...</td>\n",
       "      <td>1.09</td>\n",
       "      <td>B006CVSPJ4</td>\n",
       "      <td>[https://images-na.ssl-images-amazon.com/image...</td>\n",
       "      <td>[https://images-na.ssl-images-amazon.com/image...</td>\n",
       "      <td>10000</td>\n",
       "      <td>0.601763</td>\n",
       "      <td>6</td>\n",
       "      <td>images_0/411PKunVn7L._SS40_.jpg</td>\n",
       "      <td>images_high_res_0/411PKunVn7L.jpg</td>\n",
       "      <td>1</td>\n",
       "      <td>0</td>\n",
       "    </tr>\n",
       "    <tr>\n",
       "      <th>91625</th>\n",
       "      <td>87207.0</td>\n",
       "      <td>Home &amp; Kitchen</td>\n",
       "      <td>Fold out melamine table with 1 in. gridded sur...</td>\n",
       "      <td>Sullivans Quilters Table</td>\n",
       "      <td>Sullivans</td>\n",
       "      <td>Fold out melamine table with 1 in. gridded sur...</td>\n",
       "      <td>240.99</td>\n",
       "      <td>B006CX19X6</td>\n",
       "      <td>[https://images-na.ssl-images-amazon.com/image...</td>\n",
       "      <td>[https://images-na.ssl-images-amazon.com/image...</td>\n",
       "      <td>10000</td>\n",
       "      <td>1.059445</td>\n",
       "      <td>5</td>\n",
       "      <td>images_0/41iYnhdU-wL._SS40_.jpg</td>\n",
       "      <td>images_high_res_0/41iYnhdU-wL.jpg</td>\n",
       "      <td>2</td>\n",
       "      <td>0</td>\n",
       "    </tr>\n",
       "    <tr>\n",
       "      <th>91637</th>\n",
       "      <td>274037.0</td>\n",
       "      <td>Home &amp; Kitchen</td>\n",
       "      <td>, Pack includes two sheets of top quality Mill...</td>\n",
       "      <td>Mill Hill Perforated Paper - Antique Brown - 9...</td>\n",
       "      <td>Mill Hill</td>\n",
       "      <td>Package includes two sheets of top quality per...</td>\n",
       "      <td>10.25</td>\n",
       "      <td>B006CYU4ZY</td>\n",
       "      <td>[https://images-na.ssl-images-amazon.com/image...</td>\n",
       "      <td>[https://images-na.ssl-images-amazon.com/image...</td>\n",
       "      <td>10000</td>\n",
       "      <td>0.562187</td>\n",
       "      <td>1</td>\n",
       "      <td>images_0/61evD-HCAZL._SS40_.jpg</td>\n",
       "      <td>images_high_res_0/61evD-HCAZL.jpg</td>\n",
       "      <td>3</td>\n",
       "      <td>0</td>\n",
       "    </tr>\n",
       "    <tr>\n",
       "      <th>91653</th>\n",
       "      <td>750470.0</td>\n",
       "      <td>Home &amp; Kitchen</td>\n",
       "      <td>Yarn Content: 50% Microfiber Acrylic 50% Nylon...</td>\n",
       "      <td>Dreambaby D.K. Yarn 100 White</td>\n",
       "      <td>Plymouth Yarn</td>\n",
       "      <td></td>\n",
       "      <td>9.95</td>\n",
       "      <td>B006D06S48</td>\n",
       "      <td>[https://images-na.ssl-images-amazon.com/image...</td>\n",
       "      <td>[https://images-na.ssl-images-amazon.com/image...</td>\n",
       "      <td>10000</td>\n",
       "      <td>0.124663</td>\n",
       "      <td>8</td>\n",
       "      <td>images_0/41ouquTN1qL._SS40_.jpg</td>\n",
       "      <td>images_high_res_0/41ouquTN1qL.jpg</td>\n",
       "      <td>4</td>\n",
       "      <td>0</td>\n",
       "    </tr>\n",
       "    <tr>\n",
       "      <th>...</th>\n",
       "      <td>...</td>\n",
       "      <td>...</td>\n",
       "      <td>...</td>\n",
       "      <td>...</td>\n",
       "      <td>...</td>\n",
       "      <td>...</td>\n",
       "      <td>...</td>\n",
       "      <td>...</td>\n",
       "      <td>...</td>\n",
       "      <td>...</td>\n",
       "      <td>...</td>\n",
       "      <td>...</td>\n",
       "      <td>...</td>\n",
       "      <td>...</td>\n",
       "      <td>...</td>\n",
       "      <td>...</td>\n",
       "      <td>...</td>\n",
       "    </tr>\n",
       "    <tr>\n",
       "      <th>241328</th>\n",
       "      <td>73454.0</td>\n",
       "      <td>Electronics &gt; Home Audio &amp; Theater</td>\n",
       "      <td>\"Finally, a wool-free sock yarn! Knitters and ...</td>\n",
       "      <td>HiKoo CoBaSi Multi (814 Wave Caps)</td>\n",
       "      <td>HiKoo</td>\n",
       "      <td>Yarn: Fingering Weight Sock yarn, 55% Cotton y...</td>\n",
       "      <td>8.95</td>\n",
       "      <td>B00SHSXX7O</td>\n",
       "      <td>[https://images-na.ssl-images-amazon.com/image...</td>\n",
       "      <td>[https://images-na.ssl-images-amazon.com/image...</td>\n",
       "      <td>7790000</td>\n",
       "      <td>1.133981</td>\n",
       "      <td>7</td>\n",
       "      <td>images_2/51vXaWnGEWL._SS40_.jpg</td>\n",
       "      <td>images_high_res_2/51vXaWnGEWL.jpg</td>\n",
       "      <td>0</td>\n",
       "      <td>0</td>\n",
       "    </tr>\n",
       "    <tr>\n",
       "      <th>250873</th>\n",
       "      <td>492290.0</td>\n",
       "      <td>Electronics</td>\n",
       "      <td>Quick Overview \\nThis 127*30cm 3D carbon fiber...</td>\n",
       "      <td>EverTrust(TM) 127*30CM 3D Carbon Fiber Film Vi...</td>\n",
       "      <td>EverTrust</td>\n",
       "      <td>100% brand new and high quality, 127*30cm 3D c...</td>\n",
       "      <td>12.38</td>\n",
       "      <td>B00UV57VA6</td>\n",
       "      <td>[https://images-na.ssl-images-amazon.com/image...</td>\n",
       "      <td>[https://images-na.ssl-images-amazon.com/image...</td>\n",
       "      <td>7860000</td>\n",
       "      <td>0.307776</td>\n",
       "      <td>4</td>\n",
       "      <td>images_2/412nZ%2BNk43L._SS36_.jpg</td>\n",
       "      <td>images_high_res_2/412nZ%2BNk43L.jpg</td>\n",
       "      <td>0</td>\n",
       "      <td>0</td>\n",
       "    </tr>\n",
       "    <tr>\n",
       "      <th>253359</th>\n",
       "      <td>6231.0</td>\n",
       "      <td>Computers &amp; Accessories</td>\n",
       "      <td>Size: 6mm Color: Black and White Self-adhesive...</td>\n",
       "      <td>DECORA 6mm Round Wiggly Toy Eye with Self-adhe...</td>\n",
       "      <td>DECORA</td>\n",
       "      <td>1000pcs 6mm googly eyes in a resealable zip ba...</td>\n",
       "      <td>5.99</td>\n",
       "      <td>B00VG51N1I</td>\n",
       "      <td>[https://images-na.ssl-images-amazon.com/image...</td>\n",
       "      <td>[https://images-na.ssl-images-amazon.com/image...</td>\n",
       "      <td>7890000</td>\n",
       "      <td>2.205439</td>\n",
       "      <td>6</td>\n",
       "      <td>images_2/41qHDxQqi%2BL._SS40_.jpg</td>\n",
       "      <td>images_high_res_2/41qHDxQqi%2BL.jpg</td>\n",
       "      <td>0</td>\n",
       "      <td>0</td>\n",
       "    </tr>\n",
       "    <tr>\n",
       "      <th>253357</th>\n",
       "      <td>8736.0</td>\n",
       "      <td>Computers &amp; Accessories</td>\n",
       "      <td>Size: 12mm  Color: Black and White  Self-adhes...</td>\n",
       "      <td>DECORA 1000 Pieces 12mm Round Wiggle Googly Ey...</td>\n",
       "      <td>DECORA</td>\n",
       "      <td>Black/White Wiggle Eyes With Self-adhesive, Th...</td>\n",
       "      <td>8.99</td>\n",
       "      <td>B00VG51WY6</td>\n",
       "      <td>[https://images-na.ssl-images-amazon.com/image...</td>\n",
       "      <td>[https://images-na.ssl-images-amazon.com/image...</td>\n",
       "      <td>7890000</td>\n",
       "      <td>2.058684</td>\n",
       "      <td>6</td>\n",
       "      <td>images_2/41qHDxQqi%2BL._SS40_.jpg</td>\n",
       "      <td>images_high_res_2/41qHDxQqi%2BL.jpg</td>\n",
       "      <td>1</td>\n",
       "      <td>0</td>\n",
       "    </tr>\n",
       "    <tr>\n",
       "      <th>253361</th>\n",
       "      <td>7485.0</td>\n",
       "      <td>Computers &amp; Accessories</td>\n",
       "      <td>Size: 18mm  Color: Black and White  Self-adhes...</td>\n",
       "      <td>DECORA 1000 Pieces 18mm Round Wiggle Toy Eye P...</td>\n",
       "      <td>DECORA</td>\n",
       "      <td>Material: all these black and white wiggle eye...</td>\n",
       "      <td>11.99</td>\n",
       "      <td>B00VG523IU</td>\n",
       "      <td>[https://images-na.ssl-images-amazon.com/image...</td>\n",
       "      <td>[https://images-na.ssl-images-amazon.com/image...</td>\n",
       "      <td>7890000</td>\n",
       "      <td>2.125805</td>\n",
       "      <td>6</td>\n",
       "      <td>images_2/41qHDxQqi%2BL._SS40_.jpg</td>\n",
       "      <td>images_high_res_2/41qHDxQqi%2BL.jpg</td>\n",
       "      <td>2</td>\n",
       "      <td>0</td>\n",
       "    </tr>\n",
       "  </tbody>\n",
       "</table>\n",
       "<p>300000 rows × 17 columns</p>\n",
       "</div>"
      ],
      "text/plain": [
       "            rank                            category  \\\n",
       "126217  653496.0                     Home & Kitchen    \n",
       "91611   250169.0                     Home & Kitchen    \n",
       "91625    87207.0                     Home & Kitchen    \n",
       "91637   274037.0                     Home & Kitchen    \n",
       "91653   750470.0                     Home & Kitchen    \n",
       "...          ...                                 ...   \n",
       "241328   73454.0  Electronics > Home Audio & Theater   \n",
       "250873  492290.0                        Electronics    \n",
       "253359    6231.0            Computers & Accessories    \n",
       "253357    8736.0            Computers & Accessories    \n",
       "253361    7485.0            Computers & Accessories    \n",
       "\n",
       "                                              description  \\\n",
       "126217  This lightweight, 1 oz, natural goatskin rawhi...   \n",
       "91611   , Excellent for Applications where Accurate Sp...   \n",
       "91625   Fold out melamine table with 1 in. gridded sur...   \n",
       "91637   , Pack includes two sheets of top quality Mill...   \n",
       "91653   Yarn Content: 50% Microfiber Acrylic 50% Nylon...   \n",
       "...                                                   ...   \n",
       "241328  \"Finally, a wool-free sock yarn! Knitters and ...   \n",
       "250873  Quick Overview \\nThis 127*30cm 3D carbon fiber...   \n",
       "253359  Size: 6mm Color: Black and White Self-adhesive...   \n",
       "253357  Size: 12mm  Color: Black and White  Self-adhes...   \n",
       "253361  Size: 18mm  Color: Black and White  Self-adhes...   \n",
       "\n",
       "                                                    title            brand  \\\n",
       "126217     LeatherUnltd Rawhide Goatskin, 1 oz, 7-8 sq ft     LeatherUnltd   \n",
       "91611   Master Airbrush Model G44 High Precision Detai...  Master Airbrush   \n",
       "91625                            Sullivans Quilters Table        Sullivans   \n",
       "91637   Mill Hill Perforated Paper - Antique Brown - 9...        Mill Hill   \n",
       "91653                       Dreambaby D.K. Yarn 100 White    Plymouth Yarn   \n",
       "...                                                   ...              ...   \n",
       "241328                 HiKoo CoBaSi Multi (814 Wave Caps)            HiKoo   \n",
       "250873  EverTrust(TM) 127*30CM 3D Carbon Fiber Film Vi...        EverTrust   \n",
       "253359  DECORA 6mm Round Wiggly Toy Eye with Self-adhe...           DECORA   \n",
       "253357  DECORA 1000 Pieces 12mm Round Wiggle Googly Ey...           DECORA   \n",
       "253361  DECORA 1000 Pieces 18mm Round Wiggle Toy Eye P...           DECORA   \n",
       "\n",
       "                                                  feature   price        asin  \\\n",
       "126217  1 oz natural goatskin rawhide, Ideal for Lace,...   49.00  B00B1G5LJC   \n",
       "91611   \"Masters best selling detail airbrush thats lo...    1.09  B006CVSPJ4   \n",
       "91625   Fold out melamine table with 1 in. gridded sur...  240.99  B006CX19X6   \n",
       "91637   Package includes two sheets of top quality per...   10.25  B006CYU4ZY   \n",
       "91653                                                        9.95  B006D06S48   \n",
       "...                                                   ...     ...         ...   \n",
       "241328  Yarn: Fingering Weight Sock yarn, 55% Cotton y...    8.95  B00SHSXX7O   \n",
       "250873  100% brand new and high quality, 127*30cm 3D c...   12.38  B00UV57VA6   \n",
       "253359  1000pcs 6mm googly eyes in a resealable zip ba...    5.99  B00VG51N1I   \n",
       "253357  Black/White Wiggle Eyes With Self-adhesive, Th...    8.99  B00VG51WY6   \n",
       "253361  Material: all these black and white wiggle eye...   11.99  B00VG523IU   \n",
       "\n",
       "                                                   images  \\\n",
       "126217                                                 []   \n",
       "91611   [https://images-na.ssl-images-amazon.com/image...   \n",
       "91625   [https://images-na.ssl-images-amazon.com/image...   \n",
       "91637   [https://images-na.ssl-images-amazon.com/image...   \n",
       "91653   [https://images-na.ssl-images-amazon.com/image...   \n",
       "...                                                   ...   \n",
       "241328  [https://images-na.ssl-images-amazon.com/image...   \n",
       "250873  [https://images-na.ssl-images-amazon.com/image...   \n",
       "253359  [https://images-na.ssl-images-amazon.com/image...   \n",
       "253357  [https://images-na.ssl-images-amazon.com/image...   \n",
       "253361  [https://images-na.ssl-images-amazon.com/image...   \n",
       "\n",
       "                                            imagesHighRes  category_id  \\\n",
       "126217                                                 []        10000   \n",
       "91611   [https://images-na.ssl-images-amazon.com/image...        10000   \n",
       "91625   [https://images-na.ssl-images-amazon.com/image...        10000   \n",
       "91637   [https://images-na.ssl-images-amazon.com/image...        10000   \n",
       "91653   [https://images-na.ssl-images-amazon.com/image...        10000   \n",
       "...                                                   ...          ...   \n",
       "241328  [https://images-na.ssl-images-amazon.com/image...      7790000   \n",
       "250873  [https://images-na.ssl-images-amazon.com/image...      7860000   \n",
       "253359  [https://images-na.ssl-images-amazon.com/image...      7890000   \n",
       "253357  [https://images-na.ssl-images-amazon.com/image...      7890000   \n",
       "253361  [https://images-na.ssl-images-amazon.com/image...      7890000   \n",
       "\n",
       "        rank_scaled  image_count                          image_url  \\\n",
       "126217     0.184754            0                                      \n",
       "91611      0.601763            6    images_0/411PKunVn7L._SS40_.jpg   \n",
       "91625      1.059445            5    images_0/41iYnhdU-wL._SS40_.jpg   \n",
       "91637      0.562187            1    images_0/61evD-HCAZL._SS40_.jpg   \n",
       "91653      0.124663            8    images_0/41ouquTN1qL._SS40_.jpg   \n",
       "...             ...          ...                                ...   \n",
       "241328     1.133981            7    images_2/51vXaWnGEWL._SS40_.jpg   \n",
       "250873     0.307776            4  images_2/412nZ%2BNk43L._SS36_.jpg   \n",
       "253359     2.205439            6  images_2/41qHDxQqi%2BL._SS40_.jpg   \n",
       "253357     2.058684            6  images_2/41qHDxQqi%2BL._SS40_.jpg   \n",
       "253361     2.125805            6  images_2/41qHDxQqi%2BL._SS40_.jpg   \n",
       "\n",
       "                         image_url_high_res  category_rank  \\\n",
       "126217                                                   0   \n",
       "91611     images_high_res_0/411PKunVn7L.jpg              1   \n",
       "91625     images_high_res_0/41iYnhdU-wL.jpg              2   \n",
       "91637     images_high_res_0/61evD-HCAZL.jpg              3   \n",
       "91653     images_high_res_0/41ouquTN1qL.jpg              4   \n",
       "...                                     ...            ...   \n",
       "241328    images_high_res_2/51vXaWnGEWL.jpg              0   \n",
       "250873  images_high_res_2/412nZ%2BNk43L.jpg              0   \n",
       "253359  images_high_res_2/41qHDxQqi%2BL.jpg              0   \n",
       "253357  images_high_res_2/41qHDxQqi%2BL.jpg              1   \n",
       "253361  images_high_res_2/41qHDxQqi%2BL.jpg              2   \n",
       "\n",
       "        category_id_batched  \n",
       "126217                    0  \n",
       "91611                     0  \n",
       "91625                     0  \n",
       "91637                     0  \n",
       "91653                     0  \n",
       "...                     ...  \n",
       "241328                    0  \n",
       "250873                    0  \n",
       "253359                    0  \n",
       "253357                    0  \n",
       "253361                    0  \n",
       "\n",
       "[300000 rows x 17 columns]"
      ]
     },
     "execution_count": 28,
     "metadata": {},
     "output_type": "execute_result"
    }
   ],
   "source": [
    "metadata_parsed"
   ]
  },
  {
   "cell_type": "markdown",
   "id": "dca6e441",
   "metadata": {},
   "source": [
    "### Посчитаем NDCG рандомного предсказания"
   ]
  },
  {
   "cell_type": "markdown",
   "id": "b68945f4",
   "metadata": {},
   "source": [
    "Для начала нужно понять, что такое рандомное предсказание. По-хорошему BERT будет предсказывать новые ранги, а не просто сортировать уже имеющиеся. В качестве довольно плохого приближения можно исплользовать равномерное распределение на [0, 6]\n",
    "А есть нормальная идея: взять весь список рангов и выбирать из него рандомные"
   ]
  },
  {
   "cell_type": "code",
   "execution_count": 29,
   "id": "003096ae",
   "metadata": {},
   "outputs": [],
   "source": [
    "category_ids = set(list(metadata_parsed.category_id))"
   ]
  },
  {
   "cell_type": "code",
   "execution_count": 30,
   "id": "e54746f9",
   "metadata": {},
   "outputs": [],
   "source": [
    "all_ranks = list(metadata_parsed[\"rank_scaled\"])"
   ]
  },
  {
   "cell_type": "code",
   "execution_count": 31,
   "id": "c35c0844",
   "metadata": {},
   "outputs": [
    {
     "name": "stdout",
     "output_type": "stream",
     "text": [
      "300000\n"
     ]
    }
   ],
   "source": [
    "print(len(all_ranks))"
   ]
  },
  {
   "cell_type": "code",
   "execution_count": 32,
   "id": "028ddd1d",
   "metadata": {},
   "outputs": [],
   "source": [
    "import random\n",
    "\n",
    "NUM_ITEMS = 40\n",
    "\n",
    "real_ranks = []\n",
    "random_ranks = []\n",
    "\n",
    "for category in category_ids:\n",
    "    a = list(metadata_parsed[metadata_parsed['category_id'] == category].sort_values(by='rank').iloc[0:NUM_ITEMS]['rank_scaled'])\n",
    "    if len(a) < 40:\n",
    "        continue\n",
    "    real_ranks.append(a)\n",
    "    random_ranks.append(random.sample(all_ranks, NUM_ITEMS))"
   ]
  },
  {
   "cell_type": "code",
   "execution_count": 33,
   "id": "34b13fb2",
   "metadata": {},
   "outputs": [
    {
     "name": "stdout",
     "output_type": "stream",
     "text": [
      "(7317, 40)\n",
      "(7317, 40)\n"
     ]
    }
   ],
   "source": [
    "print(np.array(real_ranks).shape)\n",
    "print(np.array(random_ranks).shape)"
   ]
  },
  {
   "cell_type": "code",
   "execution_count": 34,
   "id": "7d5e7870",
   "metadata": {},
   "outputs": [],
   "source": [
    "import tensorflow as tf\n",
    "import tensorflow_datasets as tfds\n",
    "import tensorflow_ranking as tfr"
   ]
  },
  {
   "cell_type": "code",
   "execution_count": 35,
   "id": "9924df8d",
   "metadata": {},
   "outputs": [],
   "source": [
    "from tqdm import trange"
   ]
  },
  {
   "cell_type": "code",
   "execution_count": 91,
   "id": "4939ed45",
   "metadata": {},
   "outputs": [
    {
     "name": "stderr",
     "output_type": "stream",
     "text": [
      "100%|██████████| 7317/7317 [01:49<00:00, 66.88it/s]\n"
     ]
    }
   ],
   "source": [
    "ndcg = tfr.keras.metrics.NDCGMetric(topn=5)\n",
    "ngcgs = []\n",
    "for i in trange(len(real_ranks)):\n",
    "    ngcgs.append(ndcg(real_ranks[i:i+1], random_ranks[i:i+1]).numpy())"
   ]
  },
  {
   "cell_type": "code",
   "execution_count": 92,
   "id": "5459036b",
   "metadata": {},
   "outputs": [
    {
     "data": {
      "text/plain": [
       "0.37005424"
      ]
     },
     "execution_count": 92,
     "metadata": {},
     "output_type": "execute_result"
    }
   ],
   "source": [
    "np.array(ngcgs).mean()"
   ]
  },
  {
   "cell_type": "code",
   "execution_count": 62,
   "id": "73e85b12",
   "metadata": {},
   "outputs": [
    {
     "name": "stdout",
     "output_type": "stream",
     "text": [
      "NDCG@1: 0.27741721272468567\n",
      "NDCG@2: 0.303310364484787\n",
      "NDCG@3: 0.32507145404815674\n",
      "NDCG@4: 0.3434201180934906\n",
      "NDCG@5: 0.3600502014160156\n",
      "NDCG@6: 0.3761254549026489\n",
      "NDCG@7: 0.39083534479141235\n",
      "NDCG@8: 0.4047471880912781\n",
      "NDCG@9: 0.4179899990558624\n",
      "NDCG@10: 0.43005138635635376\n",
      "NDCG@11: 0.44192999601364136\n",
      "NDCG@12: 0.4535923898220062\n",
      "NDCG@13: 0.4647643268108368\n",
      "NDCG@14: 0.4757555425167084\n",
      "NDCG@15: 0.48630157113075256\n",
      "NDCG@16: 0.4966924786567688\n",
      "NDCG@17: 0.5067606568336487\n",
      "NDCG@18: 0.5164785385131836\n",
      "NDCG@19: 0.5263077020645142\n",
      "NDCG@20: 0.5360348224639893\n",
      "NDCG@21: 0.5454726219177246\n",
      "NDCG@22: 0.5549251437187195\n",
      "NDCG@23: 0.5642771124839783\n",
      "NDCG@24: 0.5732648968696594\n",
      "NDCG@25: 0.5825837850570679\n",
      "NDCG@26: 0.5915178060531616\n",
      "NDCG@27: 0.60047447681427\n",
      "NDCG@28: 0.6096016764640808\n",
      "NDCG@29: 0.6185185313224792\n",
      "NDCG@30: 0.6272718906402588\n",
      "NDCG@31: 0.636314332485199\n",
      "NDCG@32: 0.6452332735061646\n",
      "NDCG@33: 0.6542215943336487\n",
      "NDCG@34: 0.663281261920929\n",
      "NDCG@35: 0.6723036170005798\n",
      "NDCG@36: 0.6814430356025696\n",
      "NDCG@37: 0.6906871199607849\n",
      "NDCG@38: 0.6999668478965759\n",
      "NDCG@39: 0.7092713117599487\n",
      "NDCG@40: 0.7186993360519409\n"
     ]
    }
   ],
   "source": [
    "for i in range(1, 41):\n",
    "    ndcg = tfr.keras.metrics.NDCGMetric(topn=i)\n",
    "    print(f\"NDCG@{i}: {ndcg(real_ranks, random_ranks).numpy()}\")"
   ]
  },
  {
   "cell_type": "markdown",
   "id": "27aa9d1e",
   "metadata": {},
   "source": [
    "Подмешиваем какой-то процент рандомных рангов в настоящие. При этом хорошо бы настоящие ранги заменить на другие, но тоже отсортированные "
   ]
  },
  {
   "cell_type": "markdown",
   "id": "8e4ed479",
   "metadata": {},
   "source": [
    "### Хочу нормально насчитать NDCG@1, NDCG@3, NDCG@5 и NDCG@10 для 30% рандомных рангов, но кажется это мем"
   ]
  },
  {
   "cell_type": "code",
   "execution_count": 36,
   "id": "eeaf037a",
   "metadata": {},
   "outputs": [],
   "source": [
    "real_ranks = np.array(pd.DataFrame(real_ranks).sample(frac=1))"
   ]
  },
  {
   "cell_type": "code",
   "execution_count": null,
   "id": "1bc37470",
   "metadata": {},
   "outputs": [],
   "source": []
  },
  {
   "cell_type": "code",
   "execution_count": 37,
   "id": "2a16bcb4",
   "metadata": {},
   "outputs": [],
   "source": [
    "random_ranks = np.array(pd.DataFrame(random_ranks).sample(frac=1))"
   ]
  },
  {
   "cell_type": "code",
   "execution_count": 38,
   "id": "fb3779f0",
   "metadata": {},
   "outputs": [
    {
     "name": "stdout",
     "output_type": "stream",
     "text": [
      "(7317, 40)\n",
      "(7317, 40)\n"
     ]
    }
   ],
   "source": [
    "print(np.array(real_ranks).shape)\n",
    "print(np.array(random_ranks).shape)"
   ]
  },
  {
   "cell_type": "code",
   "execution_count": 39,
   "id": "2942b2d4",
   "metadata": {},
   "outputs": [
    {
     "data": {
      "text/plain": [
       "array([[3.18574893, 2.86264241, 2.50375898, ..., 1.63079923, 1.6082677 ,\n",
       "        1.60791541],\n",
       "       [3.51712294, 3.3362956 , 3.01772529, ..., 0.97485458, 0.61518092,\n",
       "        0.61044064],\n",
       "       [3.15242387, 2.70575081, 1.56184989, ..., 0.0307456 , 0.02940653,\n",
       "        0.01873076],\n",
       "       ...,\n",
       "       [2.22973379, 1.89873074, 1.7070541 , ..., 0.05658264, 0.04191642,\n",
       "        0.03452436],\n",
       "       [3.59345635, 3.08883892, 2.88239383, ..., 0.61486055, 0.56934108,\n",
       "        0.56034021],\n",
       "       [2.00537147, 1.98421777, 1.96169435, ..., 0.59928761, 0.56080125,\n",
       "        0.55533197]])"
      ]
     },
     "execution_count": 39,
     "metadata": {},
     "output_type": "execute_result"
    }
   ],
   "source": [
    "real_ranks"
   ]
  },
  {
   "cell_type": "code",
   "execution_count": 40,
   "id": "c607da2b",
   "metadata": {
    "scrolled": true
   },
   "outputs": [
    {
     "name": "stdout",
     "output_type": "stream",
     "text": [
      "Percentage: 0.0\n",
      "NDCG@1: 1.0\n",
      "NDCG@3: 1.0\n",
      "NDCG@5: 1.0\n",
      "NDCG@10: 1.0\n",
      "NDCG@40: 1.0\n",
      "Percentage: 10.0\n",
      "NDCG@1: 0.7496519684791565\n",
      "NDCG@3: 0.834526002407074\n",
      "NDCG@5: 0.8668624758720398\n",
      "NDCG@10: 0.8979381322860718\n",
      "NDCG@40: 0.9390802383422852\n",
      "Percentage: 20.0\n",
      "NDCG@1: 0.5768909454345703\n",
      "NDCG@3: 0.7048552632331848\n",
      "NDCG@5: 0.7554416060447693\n",
      "NDCG@10: 0.8117515444755554\n",
      "NDCG@40: 0.8898542523384094\n",
      "Percentage: 25.0\n",
      "NDCG@1: 0.5121918320655823\n",
      "NDCG@3: 0.649610161781311\n",
      "NDCG@5: 0.7060869932174683\n",
      "NDCG@10: 0.772880494594574\n",
      "NDCG@40: 0.8685073256492615\n",
      "Percentage: 30.0\n",
      "NDCG@1: 0.4576380252838135\n",
      "NDCG@3: 0.5997496247291565\n",
      "NDCG@5: 0.6610116362571716\n",
      "NDCG@10: 0.7365870475769043\n",
      "NDCG@40: 0.8490076661109924\n",
      "Percentage: 50.0\n",
      "NDCG@1: 0.3358527719974518\n",
      "NDCG@3: 0.45553356409072876\n",
      "NDCG@5: 0.5236450433731079\n",
      "NDCG@10: 0.6170800924301147\n",
      "NDCG@40: 0.7898462414741516\n",
      "Percentage: 100.0\n",
      "NDCG@1: 0.2747800052165985\n",
      "NDCG@3: 0.3228565752506256\n",
      "NDCG@5: 0.35969698429107666\n",
      "NDCG@10: 0.4283210337162018\n",
      "NDCG@40: 0.7180346250534058\n"
     ]
    }
   ],
   "source": [
    "import random\n",
    "percentage = [0., 10., 20., 25., 30., 50., 100.]\n",
    "\n",
    "for p in percentage:\n",
    "    target_ranks = []\n",
    "    predicted_ranks = []\n",
    "    for i, (real, rand) in enumerate(zip(real_ranks, random_ranks)): \n",
    "        for i in range(10):  \n",
    "            nice = [] \n",
    "            for g, b in zip(real_ranks[(i + 1) // len(real_ranks)], rand):\n",
    "                n = random.random()    \n",
    "                if n >= p / 100.:\n",
    "                    nice.append(g)\n",
    "                else:\n",
    "                    nice.append(b) \n",
    "            predicted_ranks.append(nice)\n",
    "            target_ranks.append(real)\n",
    "\n",
    "    ndcg = tfr.keras.metrics.NDCGMetric()\n",
    "    print(f\"Percentage: {p}\")\n",
    "    for i in [1, 3, 5, 10, 40]:\n",
    "        ndcg = tfr.keras.metrics.NDCGMetric(topn=i)\n",
    "        print(f\"NDCG@{i}: {ndcg(target_ranks, predicted_ranks).numpy()}\")"
   ]
  },
  {
   "cell_type": "code",
   "execution_count": 40,
   "id": "a8666752",
   "metadata": {},
   "outputs": [
    {
     "name": "stdout",
     "output_type": "stream",
     "text": [
      "(11810, 40)\n",
      "(11810, 40)\n"
     ]
    }
   ],
   "source": [
    "print(np.array(target_ranks).shape)\n",
    "print(np.array(predicted_ranks).shape)"
   ]
  },
  {
   "cell_type": "markdown",
   "id": "60577a66",
   "metadata": {},
   "source": [
    "Получается, что я стремлюсь всего лишь к \n",
    "Percentage: 30.0  \n",
    "NDCG@3: 0.627774715423584  \n",
    "NDCG@5: 0.677333652973175  \n",
    "NDCG@10: 0.7556678056716919  \n",
    "NDCG@20: 0.8400372266769409  \n",
    "NDCG@40: 0.8945969343185425  "
   ]
  },
  {
   "cell_type": "markdown",
   "id": "603234ff",
   "metadata": {},
   "source": [
    "Сейчас на уровне 50%, что конечно нехорошо, но и не ужасно"
   ]
  },
  {
   "cell_type": "code",
   "execution_count": null,
   "id": "a8ec6eef",
   "metadata": {},
   "outputs": [],
   "source": []
  },
  {
   "cell_type": "code",
   "execution_count": 46,
   "id": "6b395a94",
   "metadata": {},
   "outputs": [],
   "source": [
    "from sklearn.model_selection import GroupShuffleSplit"
   ]
  },
  {
   "cell_type": "code",
   "execution_count": 47,
   "id": "64ed7f1a",
   "metadata": {},
   "outputs": [],
   "source": [
    "gss = GroupShuffleSplit(test_size=.33, n_splits=1, random_state = 7).split(metadata_parsed, groups=metadata_parsed['category_id'])\n",
    "\n",
    "X_train_inds, X_test_inds = next(gss)\n",
    "\n",
    "train_data = metadata_parsed.iloc[X_train_inds]\n",
    "test_data = metadata_parsed.iloc[X_test_inds]"
   ]
  },
  {
   "cell_type": "code",
   "execution_count": 48,
   "id": "75e13d88",
   "metadata": {},
   "outputs": [],
   "source": [
    "train_data.to_csv('train_with_images.csv', index=False)"
   ]
  },
  {
   "cell_type": "code",
   "execution_count": 49,
   "id": "d40957e2",
   "metadata": {},
   "outputs": [],
   "source": [
    "test_data.to_csv('test_with_images.csv', index=False)"
   ]
  },
  {
   "cell_type": "code",
   "execution_count": 50,
   "id": "946cf3a3",
   "metadata": {},
   "outputs": [],
   "source": [
    "test_data = pd.read_csv('test_with_images.csv')"
   ]
  },
  {
   "cell_type": "code",
   "execution_count": 51,
   "id": "0ab7478e",
   "metadata": {},
   "outputs": [
    {
     "data": {
      "text/plain": [
       "(99166, 17)"
      ]
     },
     "execution_count": 51,
     "metadata": {},
     "output_type": "execute_result"
    }
   ],
   "source": [
    "test_data.shape"
   ]
  },
  {
   "cell_type": "code",
   "execution_count": 52,
   "id": "e157fd8a",
   "metadata": {},
   "outputs": [
    {
     "data": {
      "text/plain": [
       "2540"
      ]
     },
     "execution_count": 52,
     "metadata": {},
     "output_type": "execute_result"
    }
   ],
   "source": [
    "len(set(test_data.category_id))"
   ]
  },
  {
   "cell_type": "code",
   "execution_count": 53,
   "id": "e2b1256b",
   "metadata": {},
   "outputs": [],
   "source": [
    "eval_categories = []\n",
    "\n",
    "for i in set(test_data.category_id):\n",
    "    l = test_data[test_data['category_id'] == i].sort_values(by='rank').sample(frac=1)\n",
    "    assert l.shape[0] <= 40\n",
    "    eval_categories.append(l)    \n",
    "eval_data = pd.concat(eval_categories)"
   ]
  },
  {
   "cell_type": "code",
   "execution_count": 54,
   "id": "4b91ae2e",
   "metadata": {},
   "outputs": [
    {
     "data": {
      "text/plain": [
       "2540"
      ]
     },
     "execution_count": 54,
     "metadata": {},
     "output_type": "execute_result"
    }
   ],
   "source": [
    "len(set(eval_data.category_id))"
   ]
  },
  {
   "cell_type": "code",
   "execution_count": 55,
   "id": "5b10c8b5",
   "metadata": {},
   "outputs": [
    {
     "data": {
      "text/plain": [
       "(99166, 17)"
      ]
     },
     "execution_count": 55,
     "metadata": {},
     "output_type": "execute_result"
    }
   ],
   "source": [
    "eval_data.shape"
   ]
  },
  {
   "cell_type": "code",
   "execution_count": 56,
   "id": "e1cd0f83",
   "metadata": {},
   "outputs": [],
   "source": [
    "eval_data.to_csv('eval_with_images.csv', index=False)"
   ]
  },
  {
   "cell_type": "code",
   "execution_count": 57,
   "id": "e49bfdfc",
   "metadata": {},
   "outputs": [
    {
     "data": {
      "text/html": [
       "<div>\n",
       "<style scoped>\n",
       "    .dataframe tbody tr th:only-of-type {\n",
       "        vertical-align: middle;\n",
       "    }\n",
       "\n",
       "    .dataframe tbody tr th {\n",
       "        vertical-align: top;\n",
       "    }\n",
       "\n",
       "    .dataframe thead th {\n",
       "        text-align: right;\n",
       "    }\n",
       "</style>\n",
       "<table border=\"1\" class=\"dataframe\">\n",
       "  <thead>\n",
       "    <tr style=\"text-align: right;\">\n",
       "      <th></th>\n",
       "      <th>rank</th>\n",
       "      <th>category</th>\n",
       "      <th>description</th>\n",
       "      <th>title</th>\n",
       "      <th>brand</th>\n",
       "      <th>feature</th>\n",
       "      <th>price</th>\n",
       "      <th>asin</th>\n",
       "      <th>images</th>\n",
       "      <th>imagesHighRes</th>\n",
       "      <th>category_id</th>\n",
       "      <th>rank_scaled</th>\n",
       "      <th>image_count</th>\n",
       "      <th>image_url</th>\n",
       "      <th>image_url_high_res</th>\n",
       "      <th>category_rank</th>\n",
       "      <th>category_id_batched</th>\n",
       "    </tr>\n",
       "  </thead>\n",
       "  <tbody>\n",
       "    <tr>\n",
       "      <th>71977</th>\n",
       "      <td>219.0</td>\n",
       "      <td>Arts, Crafts &amp; Sewing &gt; Printmaking &gt; Etching ...</td>\n",
       "      <td>This steel ball burnisher is ideal for flatten...</td>\n",
       "      <td>Steel Tip Ball Burnisher with Wood Handle</td>\n",
       "      <td>FineArtStore</td>\n",
       "      <td>NaN</td>\n",
       "      <td>9.99</td>\n",
       "      <td>B001KWAXLI</td>\n",
       "      <td>['https://images-na.ssl-images-amazon.com/imag...</td>\n",
       "      <td>['https://images-na.ssl-images-amazon.com/imag...</td>\n",
       "      <td>1450001</td>\n",
       "      <td>3.659552</td>\n",
       "      <td>1</td>\n",
       "      <td>images_0/41b4xDcKyyL._SS40_.jpg</td>\n",
       "      <td>images_high_res_0/41b4xDcKyyL.jpg</td>\n",
       "      <td>64</td>\n",
       "      <td>1</td>\n",
       "    </tr>\n",
       "    <tr>\n",
       "      <th>71967</th>\n",
       "      <td>87.0</td>\n",
       "      <td>Arts, Crafts &amp; Sewing &gt; Printmaking &gt; Etching ...</td>\n",
       "      <td>Steel Double Ended Spiral Twist Etching Needle...</td>\n",
       "      <td>Steel Twisted Double Pointed Etching Needle (7...</td>\n",
       "      <td>FineArtStore</td>\n",
       "      <td>Solid steel double ended etching needle, Spira...</td>\n",
       "      <td>10.99</td>\n",
       "      <td>B001KM4Z8A</td>\n",
       "      <td>[]</td>\n",
       "      <td>[]</td>\n",
       "      <td>1450001</td>\n",
       "      <td>4.060477</td>\n",
       "      <td>0</td>\n",
       "      <td>NaN</td>\n",
       "      <td>NaN</td>\n",
       "      <td>54</td>\n",
       "      <td>1</td>\n",
       "    </tr>\n",
       "    <tr>\n",
       "      <th>71976</th>\n",
       "      <td>453.0</td>\n",
       "      <td>Arts, Crafts &amp; Sewing &gt; Printmaking &gt; Etching ...</td>\n",
       "      <td>Glass Etching Starter Kit- .ARMOUR PRODUCTS-St...</td>\n",
       "      <td>Armour Products - Glass Etching Starter Kit-</td>\n",
       "      <td>Armour</td>\n",
       "      <td>Armour Products - Glass Etching Starter Kit-, ...</td>\n",
       "      <td>23.06</td>\n",
       "      <td>B00I3AYF8M</td>\n",
       "      <td>[]</td>\n",
       "      <td>[]</td>\n",
       "      <td>1450001</td>\n",
       "      <td>3.343898</td>\n",
       "      <td>0</td>\n",
       "      <td>NaN</td>\n",
       "      <td>NaN</td>\n",
       "      <td>63</td>\n",
       "      <td>1</td>\n",
       "    </tr>\n",
       "    <tr>\n",
       "      <th>71956</th>\n",
       "      <td>177.0</td>\n",
       "      <td>Arts, Crafts &amp; Sewing &gt; Printmaking &gt; Etching ...</td>\n",
       "      <td>Get the Versatility of a Diamond Engraver with...</td>\n",
       "      <td>Armour Diamond Point Glass Engraving Set</td>\n",
       "      <td>Delphi Glass</td>\n",
       "      <td>Get the versatility of an engraver with the co...</td>\n",
       "      <td>2.65</td>\n",
       "      <td>B000YQMS14</td>\n",
       "      <td>['https://images-na.ssl-images-amazon.com/imag...</td>\n",
       "      <td>['https://images-na.ssl-images-amazon.com/imag...</td>\n",
       "      <td>1450001</td>\n",
       "      <td>3.752023</td>\n",
       "      <td>3</td>\n",
       "      <td>images_0/31UmAqL7XxL._SS40_.jpg</td>\n",
       "      <td>images_high_res_0/31UmAqL7XxL.jpg</td>\n",
       "      <td>43</td>\n",
       "      <td>1</td>\n",
       "    </tr>\n",
       "    <tr>\n",
       "      <th>71981</th>\n",
       "      <td>95.0</td>\n",
       "      <td>Arts, Crafts &amp; Sewing &gt; Printmaking &gt; Etching ...</td>\n",
       "      <td>You are buying 8 Ounces (by weight) of Nickel ...</td>\n",
       "      <td>Nickel Sulfate NiSO4 99.9% ACS Grade Crystals ...</td>\n",
       "      <td>Eisen-Golden Laboratories</td>\n",
       "      <td>NaN</td>\n",
       "      <td>3.00</td>\n",
       "      <td>B00WUDS14M</td>\n",
       "      <td>['https://images-na.ssl-images-amazon.com/imag...</td>\n",
       "      <td>['https://images-na.ssl-images-amazon.com/imag...</td>\n",
       "      <td>1450001</td>\n",
       "      <td>4.022273</td>\n",
       "      <td>4</td>\n",
       "      <td>images_2/41mthIHpq8L._SS40_.jpg</td>\n",
       "      <td>images_high_res_2/41mthIHpq8L.jpg</td>\n",
       "      <td>68</td>\n",
       "      <td>1</td>\n",
       "    </tr>\n",
       "  </tbody>\n",
       "</table>\n",
       "</div>"
      ],
      "text/plain": [
       "        rank                                           category  \\\n",
       "71977  219.0  Arts, Crafts & Sewing > Printmaking > Etching ...   \n",
       "71967   87.0  Arts, Crafts & Sewing > Printmaking > Etching ...   \n",
       "71976  453.0  Arts, Crafts & Sewing > Printmaking > Etching ...   \n",
       "71956  177.0  Arts, Crafts & Sewing > Printmaking > Etching ...   \n",
       "71981   95.0  Arts, Crafts & Sewing > Printmaking > Etching ...   \n",
       "\n",
       "                                             description  \\\n",
       "71977  This steel ball burnisher is ideal for flatten...   \n",
       "71967  Steel Double Ended Spiral Twist Etching Needle...   \n",
       "71976  Glass Etching Starter Kit- .ARMOUR PRODUCTS-St...   \n",
       "71956  Get the Versatility of a Diamond Engraver with...   \n",
       "71981  You are buying 8 Ounces (by weight) of Nickel ...   \n",
       "\n",
       "                                                   title  \\\n",
       "71977          Steel Tip Ball Burnisher with Wood Handle   \n",
       "71967  Steel Twisted Double Pointed Etching Needle (7...   \n",
       "71976       Armour Products - Glass Etching Starter Kit-   \n",
       "71956           Armour Diamond Point Glass Engraving Set   \n",
       "71981  Nickel Sulfate NiSO4 99.9% ACS Grade Crystals ...   \n",
       "\n",
       "                           brand  \\\n",
       "71977               FineArtStore   \n",
       "71967               FineArtStore   \n",
       "71976                     Armour   \n",
       "71956               Delphi Glass   \n",
       "71981  Eisen-Golden Laboratories   \n",
       "\n",
       "                                                 feature  price        asin  \\\n",
       "71977                                                NaN   9.99  B001KWAXLI   \n",
       "71967  Solid steel double ended etching needle, Spira...  10.99  B001KM4Z8A   \n",
       "71976  Armour Products - Glass Etching Starter Kit-, ...  23.06  B00I3AYF8M   \n",
       "71956  Get the versatility of an engraver with the co...   2.65  B000YQMS14   \n",
       "71981                                                NaN   3.00  B00WUDS14M   \n",
       "\n",
       "                                                  images  \\\n",
       "71977  ['https://images-na.ssl-images-amazon.com/imag...   \n",
       "71967                                                 []   \n",
       "71976                                                 []   \n",
       "71956  ['https://images-na.ssl-images-amazon.com/imag...   \n",
       "71981  ['https://images-na.ssl-images-amazon.com/imag...   \n",
       "\n",
       "                                           imagesHighRes  category_id  \\\n",
       "71977  ['https://images-na.ssl-images-amazon.com/imag...      1450001   \n",
       "71967                                                 []      1450001   \n",
       "71976                                                 []      1450001   \n",
       "71956  ['https://images-na.ssl-images-amazon.com/imag...      1450001   \n",
       "71981  ['https://images-na.ssl-images-amazon.com/imag...      1450001   \n",
       "\n",
       "       rank_scaled  image_count                        image_url  \\\n",
       "71977     3.659552            1  images_0/41b4xDcKyyL._SS40_.jpg   \n",
       "71967     4.060477            0                              NaN   \n",
       "71976     3.343898            0                              NaN   \n",
       "71956     3.752023            3  images_0/31UmAqL7XxL._SS40_.jpg   \n",
       "71981     4.022273            4  images_2/41mthIHpq8L._SS40_.jpg   \n",
       "\n",
       "                      image_url_high_res  category_rank  category_id_batched  \n",
       "71977  images_high_res_0/41b4xDcKyyL.jpg             64                    1  \n",
       "71967                                NaN             54                    1  \n",
       "71976                                NaN             63                    1  \n",
       "71956  images_high_res_0/31UmAqL7XxL.jpg             43                    1  \n",
       "71981  images_high_res_2/41mthIHpq8L.jpg             68                    1  "
      ]
     },
     "execution_count": 57,
     "metadata": {},
     "output_type": "execute_result"
    }
   ],
   "source": [
    "eval_data.head()"
   ]
  },
  {
   "cell_type": "code",
   "execution_count": null,
   "id": "b7804dab",
   "metadata": {},
   "outputs": [],
   "source": []
  }
 ],
 "metadata": {
  "kernelspec": {
   "display_name": "Python 3 (ipykernel)",
   "language": "python",
   "name": "python3"
  },
  "language_info": {
   "codemirror_mode": {
    "name": "ipython",
    "version": 3
   },
   "file_extension": ".py",
   "mimetype": "text/x-python",
   "name": "python",
   "nbconvert_exporter": "python",
   "pygments_lexer": "ipython3",
   "version": "3.9.7"
  }
 },
 "nbformat": 4,
 "nbformat_minor": 5
}
