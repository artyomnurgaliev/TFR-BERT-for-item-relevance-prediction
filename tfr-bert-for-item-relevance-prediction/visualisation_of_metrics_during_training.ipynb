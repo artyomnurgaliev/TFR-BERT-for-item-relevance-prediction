{
 "cells": [
  {
   "cell_type": "code",
   "execution_count": 1,
   "id": "9ef92ccb",
   "metadata": {},
   "outputs": [
    {
     "name": "stdout",
     "output_type": "stream",
     "text": [
      "# conda environments:\n",
      "#\n",
      "base                  *  C:\\Users\\artyo\\anaconda3\n",
      "NIR_model                C:\\Users\\artyo\\anaconda3\\envs\\NIR_model\n",
      "pythonProject            C:\\Users\\artyo\\anaconda3\\envs\\pythonProject\n",
      "tfr-bert-demo            C:\\Users\\artyo\\anaconda3\\envs\\tfr-bert-demo\n",
      "\n"
     ]
    }
   ],
   "source": [
    "! conda info --envs"
   ]
  },
  {
   "cell_type": "code",
   "execution_count": 3,
   "id": "2a7549cf",
   "metadata": {},
   "outputs": [
    {
     "name": "stdout",
     "output_type": "stream",
     "text": [
      "Collecting wget\n",
      "  Using cached wget-3.2.zip (10 kB)\n",
      "Building wheels for collected packages: wget\n",
      "  Building wheel for wget (setup.py): started\n",
      "  Building wheel for wget (setup.py): finished with status 'done'\n",
      "  Created wheel for wget: filename=wget-3.2-py3-none-any.whl size=9675 sha256=d9eadb4d42ae34bca4ab58c61f5506b210deb45ae4d3fd38ff7056f26c33626b\n",
      "  Stored in directory: c:\\users\\artyo\\appdata\\local\\pip\\cache\\wheels\\8b\\f1\\7f\\5c94f0a7a505ca1c81cd1d9208ae2064675d97582078e6c769\n",
      "Successfully built wget\n",
      "Installing collected packages: wget\n",
      "Successfully installed wget-3.2\n"
     ]
    }
   ],
   "source": [
    "! pip install wget"
   ]
  },
  {
   "cell_type": "code",
   "execution_count": 2,
   "id": "98b0747c",
   "metadata": {},
   "outputs": [
    {
     "name": "stdout",
     "output_type": "stream",
     "text": [
      "Requirement already satisfied: tensorflow in c:\\users\\artyo\\anaconda3\\envs\\tfr-bert-demo\\lib\\site-packages (2.8.0)\n",
      "Requirement already satisfied: keras-preprocessing>=1.1.1 in c:\\users\\artyo\\anaconda3\\envs\\tfr-bert-demo\\lib\\site-packages (from tensorflow) (1.1.2)\n",
      "Requirement already satisfied: six>=1.12.0 in c:\\users\\artyo\\anaconda3\\envs\\tfr-bert-demo\\lib\\site-packages (from tensorflow) (1.16.0)\n",
      "Requirement already satisfied: keras<2.9,>=2.8.0rc0 in c:\\users\\artyo\\anaconda3\\envs\\tfr-bert-demo\\lib\\site-packages (from tensorflow) (2.8.0)\n",
      "Requirement already satisfied: google-pasta>=0.1.1 in c:\\users\\artyo\\anaconda3\\envs\\tfr-bert-demo\\lib\\site-packages (from tensorflow) (0.2.0)\n",
      "Requirement already satisfied: opt-einsum>=2.3.2 in c:\\users\\artyo\\anaconda3\\envs\\tfr-bert-demo\\lib\\site-packages (from tensorflow) (3.3.0)\n",
      "Requirement already satisfied: typing-extensions>=3.6.6 in c:\\users\\artyo\\anaconda3\\envs\\tfr-bert-demo\\lib\\site-packages (from tensorflow) (4.1.1)\n",
      "Requirement already satisfied: grpcio<2.0,>=1.24.3 in c:\\users\\artyo\\anaconda3\\envs\\tfr-bert-demo\\lib\\site-packages (from tensorflow) (1.45.0)\n",
      "Requirement already satisfied: termcolor>=1.1.0 in c:\\users\\artyo\\anaconda3\\envs\\tfr-bert-demo\\lib\\site-packages (from tensorflow) (1.1.0)\n",
      "Requirement already satisfied: h5py>=2.9.0 in c:\\users\\artyo\\anaconda3\\envs\\tfr-bert-demo\\lib\\site-packages (from tensorflow) (3.6.0)\n",
      "Requirement already satisfied: flatbuffers>=1.12 in c:\\users\\artyo\\anaconda3\\envs\\tfr-bert-demo\\lib\\site-packages (from tensorflow) (2.0)\n",
      "Requirement already satisfied: tf-estimator-nightly==2.8.0.dev2021122109 in c:\\users\\artyo\\anaconda3\\envs\\tfr-bert-demo\\lib\\site-packages (from tensorflow) (2.8.0.dev2021122109)\n",
      "Requirement already satisfied: wrapt>=1.11.0 in c:\\users\\artyo\\anaconda3\\envs\\tfr-bert-demo\\lib\\site-packages (from tensorflow) (1.14.0)\n",
      "Requirement already satisfied: tensorflow-io-gcs-filesystem>=0.23.1 in c:\\users\\artyo\\anaconda3\\envs\\tfr-bert-demo\\lib\\site-packages (from tensorflow) (0.24.0)\n",
      "Requirement already satisfied: tensorboard<2.9,>=2.8 in c:\\users\\artyo\\anaconda3\\envs\\tfr-bert-demo\\lib\\site-packages (from tensorflow) (2.8.0)\n",
      "Requirement already satisfied: absl-py>=0.4.0 in c:\\users\\artyo\\anaconda3\\envs\\tfr-bert-demo\\lib\\site-packages (from tensorflow) (1.0.0)\n",
      "Requirement already satisfied: libclang>=9.0.1 in c:\\users\\artyo\\anaconda3\\envs\\tfr-bert-demo\\lib\\site-packages (from tensorflow) (13.0.0)\n",
      "Requirement already satisfied: astunparse>=1.6.0 in c:\\users\\artyo\\anaconda3\\envs\\tfr-bert-demo\\lib\\site-packages (from tensorflow) (1.6.3)\n",
      "Requirement already satisfied: setuptools in c:\\users\\artyo\\anaconda3\\envs\\tfr-bert-demo\\lib\\site-packages (from tensorflow) (58.0.4)\n",
      "Requirement already satisfied: protobuf>=3.9.2 in c:\\users\\artyo\\anaconda3\\envs\\tfr-bert-demo\\lib\\site-packages (from tensorflow) (3.19.4)\n",
      "Requirement already satisfied: numpy>=1.20 in c:\\users\\artyo\\anaconda3\\envs\\tfr-bert-demo\\lib\\site-packages (from tensorflow) (1.21.5)\n",
      "Requirement already satisfied: gast>=0.2.1 in c:\\users\\artyo\\anaconda3\\envs\\tfr-bert-demo\\lib\\site-packages (from tensorflow) (0.5.3)\n",
      "Requirement already satisfied: wheel<1.0,>=0.23.0 in c:\\users\\artyo\\anaconda3\\envs\\tfr-bert-demo\\lib\\site-packages (from astunparse>=1.6.0->tensorflow) (0.37.1)\n",
      "Requirement already satisfied: tensorboard-plugin-wit>=1.6.0 in c:\\users\\artyo\\anaconda3\\envs\\tfr-bert-demo\\lib\\site-packages (from tensorboard<2.9,>=2.8->tensorflow) (1.8.1)\n",
      "Requirement already satisfied: requests<3,>=2.21.0 in c:\\users\\artyo\\anaconda3\\envs\\tfr-bert-demo\\lib\\site-packages (from tensorboard<2.9,>=2.8->tensorflow) (2.27.1)\n",
      "Requirement already satisfied: tensorboard-data-server<0.7.0,>=0.6.0 in c:\\users\\artyo\\anaconda3\\envs\\tfr-bert-demo\\lib\\site-packages (from tensorboard<2.9,>=2.8->tensorflow) (0.6.1)\n",
      "Requirement already satisfied: google-auth-oauthlib<0.5,>=0.4.1 in c:\\users\\artyo\\anaconda3\\envs\\tfr-bert-demo\\lib\\site-packages (from tensorboard<2.9,>=2.8->tensorflow) (0.4.6)\n",
      "Requirement already satisfied: werkzeug>=0.11.15 in c:\\users\\artyo\\anaconda3\\envs\\tfr-bert-demo\\lib\\site-packages (from tensorboard<2.9,>=2.8->tensorflow) (2.1.0)\n",
      "Requirement already satisfied: markdown>=2.6.8 in c:\\users\\artyo\\anaconda3\\envs\\tfr-bert-demo\\lib\\site-packages (from tensorboard<2.9,>=2.8->tensorflow) (3.3.6)\n",
      "Requirement already satisfied: google-auth<3,>=1.6.3 in c:\\users\\artyo\\anaconda3\\envs\\tfr-bert-demo\\lib\\site-packages (from tensorboard<2.9,>=2.8->tensorflow) (2.6.2)\n",
      "Requirement already satisfied: cachetools<6.0,>=2.0.0 in c:\\users\\artyo\\anaconda3\\envs\\tfr-bert-demo\\lib\\site-packages (from google-auth<3,>=1.6.3->tensorboard<2.9,>=2.8->tensorflow) (5.0.0)\n",
      "Requirement already satisfied: pyasn1-modules>=0.2.1 in c:\\users\\artyo\\anaconda3\\envs\\tfr-bert-demo\\lib\\site-packages (from google-auth<3,>=1.6.3->tensorboard<2.9,>=2.8->tensorflow) (0.2.8)\n",
      "Requirement already satisfied: rsa<5,>=3.1.4 in c:\\users\\artyo\\anaconda3\\envs\\tfr-bert-demo\\lib\\site-packages (from google-auth<3,>=1.6.3->tensorboard<2.9,>=2.8->tensorflow) (4.8)\n",
      "Requirement already satisfied: requests-oauthlib>=0.7.0 in c:\\users\\artyo\\anaconda3\\envs\\tfr-bert-demo\\lib\\site-packages (from google-auth-oauthlib<0.5,>=0.4.1->tensorboard<2.9,>=2.8->tensorflow) (1.3.1)\n",
      "Requirement already satisfied: pyasn1<0.5.0,>=0.4.6 in c:\\users\\artyo\\anaconda3\\envs\\tfr-bert-demo\\lib\\site-packages (from pyasn1-modules>=0.2.1->google-auth<3,>=1.6.3->tensorboard<2.9,>=2.8->tensorflow) (0.4.8)\n",
      "Requirement already satisfied: certifi>=2017.4.17 in c:\\users\\artyo\\anaconda3\\envs\\tfr-bert-demo\\lib\\site-packages (from requests<3,>=2.21.0->tensorboard<2.9,>=2.8->tensorflow) (2021.10.8)\n",
      "Requirement already satisfied: idna<4,>=2.5 in c:\\users\\artyo\\anaconda3\\envs\\tfr-bert-demo\\lib\\site-packages (from requests<3,>=2.21.0->tensorboard<2.9,>=2.8->tensorflow) (3.3)\n",
      "Requirement already satisfied: charset-normalizer~=2.0.0 in c:\\users\\artyo\\anaconda3\\envs\\tfr-bert-demo\\lib\\site-packages (from requests<3,>=2.21.0->tensorboard<2.9,>=2.8->tensorflow) (2.0.12)\n",
      "Requirement already satisfied: urllib3<1.27,>=1.21.1 in c:\\users\\artyo\\anaconda3\\envs\\tfr-bert-demo\\lib\\site-packages (from requests<3,>=2.21.0->tensorboard<2.9,>=2.8->tensorflow) (1.26.9)\n",
      "Requirement already satisfied: oauthlib>=3.0.0 in c:\\users\\artyo\\anaconda3\\envs\\tfr-bert-demo\\lib\\site-packages (from requests-oauthlib>=0.7.0->google-auth-oauthlib<0.5,>=0.4.1->tensorboard<2.9,>=2.8->tensorflow) (3.2.0)\n"
     ]
    }
   ],
   "source": [
    "! pip install tensorflow"
   ]
  },
  {
   "cell_type": "code",
   "execution_count": 8,
   "id": "271d8716",
   "metadata": {},
   "outputs": [
    {
     "name": "stderr",
     "output_type": "stream",
     "text": [
      "Traceback (most recent call last):\n",
      "  File \"C:\\Users\\artyo\\anaconda3\\envs\\tfr-bert-demo\\lib\\runpy.py\", line 196, in _run_module_as_main\n",
      "    return _run_code(code, main_globals, None,\n",
      "  File \"C:\\Users\\artyo\\anaconda3\\envs\\tfr-bert-demo\\lib\\runpy.py\", line 86, in _run_code\n",
      "    exec(code, run_globals)\n",
      "  File \"C:\\Users\\artyo\\anaconda3\\envs\\tfr-bert-demo\\lib\\site-packages\\wget.py\", line 568, in <module>\n",
      "    filename = download(args[0], out=options.output)\n",
      "  File \"C:\\Users\\artyo\\anaconda3\\envs\\tfr-bert-demo\\lib\\site-packages\\wget.py\", line 526, in download\n",
      "    (tmpfile, headers) = ulib.urlretrieve(binurl, tmpfile, callback)\n",
      "  File \"C:\\Users\\artyo\\anaconda3\\envs\\tfr-bert-demo\\lib\\urllib\\request.py\", line 241, in urlretrieve\n",
      "    with contextlib.closing(urlopen(url, data)) as fp:\n",
      "  File \"C:\\Users\\artyo\\anaconda3\\envs\\tfr-bert-demo\\lib\\urllib\\request.py\", line 216, in urlopen\n",
      "    return opener.open(url, data, timeout)\n",
      "  File \"C:\\Users\\artyo\\anaconda3\\envs\\tfr-bert-demo\\lib\\urllib\\request.py\", line 525, in open\n",
      "    response = meth(req, response)\n",
      "  File \"C:\\Users\\artyo\\anaconda3\\envs\\tfr-bert-demo\\lib\\urllib\\request.py\", line 634, in http_response\n",
      "    response = self.parent.error(\n",
      "  File \"C:\\Users\\artyo\\anaconda3\\envs\\tfr-bert-demo\\lib\\urllib\\request.py\", line 563, in error\n",
      "    return self._call_chain(*args)\n",
      "  File \"C:\\Users\\artyo\\anaconda3\\envs\\tfr-bert-demo\\lib\\urllib\\request.py\", line 496, in _call_chain\n",
      "    result = func(*args)\n",
      "  File \"C:\\Users\\artyo\\anaconda3\\envs\\tfr-bert-demo\\lib\\urllib\\request.py\", line 643, in http_error_default\n",
      "    raise HTTPError(req.full_url, code, msg, hdrs, fp)\n",
      "urllib.error.HTTPError: HTTP Error 404: Not Found\n"
     ]
    }
   ],
   "source": [
    "! python -m wget https://storage.googleapis.com/cloud-tpu-checkpoints/bert/keras_bert/uncased_L-12_H-128_A-2.zip"
   ]
  },
  {
   "cell_type": "code",
   "execution_count": null,
   "id": "6af96bf5",
   "metadata": {},
   "outputs": [],
   "source": [
    "! python -m wget https://storage.googleapis.com/cloud-tpu-checkpoints/bert/keras_bert/uncased_L-12_H-768_A-12.tar.gz"
   ]
  },
  {
   "cell_type": "code",
   "execution_count": 1,
   "id": "ac9a52ba",
   "metadata": {},
   "outputs": [
    {
     "name": "stderr",
     "output_type": "stream",
     "text": [
      "x ./uncased_L-12_H-768_A-12/\n",
      "x ./uncased_L-12_H-768_A-12/vocab.txt\n",
      "x ./uncased_L-12_H-768_A-12/bert_model.ckpt.index\n",
      "x ./uncased_L-12_H-768_A-12/bert_model.ckpt.data-00000-of-00001\n",
      "x ./uncased_L-12_H-768_A-12/bert_config.json\n"
     ]
    }
   ],
   "source": [
    "! tar -xvzf uncased_L-12_H-768_A-12.tar.gz"
   ]
  },
  {
   "cell_type": "code",
   "execution_count": 1,
   "id": "ee89467d",
   "metadata": {},
   "outputs": [],
   "source": [
    "%load_ext tensorboard"
   ]
  },
  {
   "cell_type": "code",
   "execution_count": 2,
   "id": "178c026d",
   "metadata": {},
   "outputs": [],
   "source": [
    "import tensorflow as tf\n",
    "import datetime"
   ]
  },
  {
   "cell_type": "code",
   "execution_count": 3,
   "id": "4b212256",
   "metadata": {},
   "outputs": [],
   "source": [
    "# %tensorboard --logdir models/"
   ]
  },
  {
   "cell_type": "code",
   "execution_count": 4,
   "id": "35e66fa9",
   "metadata": {},
   "outputs": [
    {
     "data": {
      "text/html": [
       "\n",
       "      <iframe id=\"tensorboard-frame-89e7ba84c22ddb78\" width=\"100%\" height=\"800\" frameborder=\"0\">\n",
       "      </iframe>\n",
       "      <script>\n",
       "        (function() {\n",
       "          const frame = document.getElementById(\"tensorboard-frame-89e7ba84c22ddb78\");\n",
       "          const url = new URL(\"/\", window.location);\n",
       "          const port = 6006;\n",
       "          if (port) {\n",
       "            url.port = port;\n",
       "          }\n",
       "          frame.src = url;\n",
       "        })();\n",
       "      </script>\n",
       "    "
      ],
      "text/plain": [
       "<IPython.core.display.HTML object>"
      ]
     },
     "metadata": {},
     "output_type": "display_data"
    }
   ],
   "source": [
    "%tensorboard --logdir models_test_2/ --host localhost"
   ]
  },
  {
   "cell_type": "code",
   "execution_count": null,
   "id": "0016aa16",
   "metadata": {},
   "outputs": [],
   "source": [
    "%tensorboard --logdir models/"
   ]
  }
 ],
 "metadata": {
  "kernelspec": {
   "display_name": "Python 3 (ipykernel)",
   "language": "python",
   "name": "python3"
  },
  "language_info": {
   "codemirror_mode": {
    "name": "ipython",
    "version": 3
   },
   "file_extension": ".py",
   "mimetype": "text/x-python",
   "name": "python",
   "nbconvert_exporter": "python",
   "pygments_lexer": "ipython3",
   "version": "3.9.7"
  }
 },
 "nbformat": 4,
 "nbformat_minor": 5
}
