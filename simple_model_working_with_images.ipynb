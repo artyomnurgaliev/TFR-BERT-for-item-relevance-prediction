{
 "cells": [
  {
   "cell_type": "code",
   "execution_count": 1,
   "id": "3529aa1d",
   "metadata": {
    "id": "3529aa1d"
   },
   "outputs": [],
   "source": [
    "import pandas as pd\n",
    "import gzip\n",
    "import json\n",
    "import seaborn as sns\n",
    "import numpy as np\n",
    "import time\n",
    "import html\n",
    "import re\n",
    "import os\n",
    "from typing import *\n",
    "import urllib.request\n",
    "from PIL import Image\n",
    "import cv2 as cv\n",
    "from matplotlib import pyplot as plt\n",
    "from tqdm import tqdm, trange\n",
    "tqdm.pandas()"
   ]
  },
  {
   "cell_type": "code",
   "execution_count": null,
   "id": "7b064da3",
   "metadata": {},
   "outputs": [],
   "source": [
    "# "
   ]
  },
  {
   "cell_type": "code",
   "execution_count": 2,
   "id": "6796a317",
   "metadata": {},
   "outputs": [
    {
     "name": "stdout",
     "output_type": "stream",
     "text": [
      "Wall time: 8.47 s\n"
     ]
    }
   ],
   "source": [
    "%%time\n",
    "metadata_test = pd.read_csv('metadata_parsed_with_images.csv')"
   ]
  },
  {
   "cell_type": "code",
   "execution_count": 3,
   "id": "87215a1a",
   "metadata": {},
   "outputs": [],
   "source": [
    "metadata_test = metadata_test.iloc[0:100000]"
   ]
  },
  {
   "cell_type": "code",
   "execution_count": 4,
   "id": "ef98cd6c",
   "metadata": {},
   "outputs": [
    {
     "data": {
      "text/plain": [
       "(100000, 12)"
      ]
     },
     "execution_count": 4,
     "metadata": {},
     "output_type": "execute_result"
    }
   ],
   "source": [
    "metadata_test.shape"
   ]
  },
  {
   "cell_type": "code",
   "execution_count": 5,
   "id": "69faa1f8",
   "metadata": {},
   "outputs": [],
   "source": [
    "metadata_test = metadata_test.fillna('')"
   ]
  },
  {
   "cell_type": "code",
   "execution_count": 6,
   "id": "4a923fac",
   "metadata": {},
   "outputs": [],
   "source": [
    "import ast"
   ]
  },
  {
   "cell_type": "code",
   "execution_count": 7,
   "id": "b697ed7d",
   "metadata": {},
   "outputs": [
    {
     "name": "stdout",
     "output_type": "stream",
     "text": [
      "Wall time: 780 ms\n"
     ]
    }
   ],
   "source": [
    "%%time\n",
    "metadata_test['images'] = metadata_test['images'].apply(lambda x: ast.literal_eval(x))"
   ]
  },
  {
   "cell_type": "code",
   "execution_count": 8,
   "id": "9ae6ac90",
   "metadata": {},
   "outputs": [
    {
     "name": "stdout",
     "output_type": "stream",
     "text": [
      "Wall time: 704 ms\n"
     ]
    }
   ],
   "source": [
    "%%time\n",
    "metadata_test['imagesHighRes'] = metadata_test['imagesHighRes'].apply(lambda x: ast.literal_eval(x))"
   ]
  },
  {
   "cell_type": "code",
   "execution_count": 45,
   "id": "d572b51b",
   "metadata": {},
   "outputs": [],
   "source": [
    "part = metadata_test.copy()"
   ]
  },
  {
   "cell_type": "code",
   "execution_count": 46,
   "id": "a43732a1",
   "metadata": {},
   "outputs": [],
   "source": [
    "import traceback\n",
    "from functools import partial\n",
    "\n",
    "def get_image(urls, path='images_0/'):\n",
    "    import traceback\n",
    "    import urllib.request\n",
    "    try:\n",
    "        if len(urls) == 0:\n",
    "            return None\n",
    "        url = urls[0]\n",
    "        urllib.request.urlretrieve(url, path + url[49:])\n",
    "    except Exception:\n",
    "        print(f\"Exception: {traceback.format_exc()}\")\n",
    "    return None"
   ]
  },
  {
   "cell_type": "code",
   "execution_count": 47,
   "id": "8a7c429e",
   "metadata": {},
   "outputs": [
    {
     "name": "stdout",
     "output_type": "stream",
     "text": [
      "CPU RAM Free: 4.4 GB\n"
     ]
    }
   ],
   "source": [
    "import psutil, humanize\n",
    "\n",
    "def mem_report():\n",
    "    print(\"CPU RAM Free: \" + humanize.naturalsize( psutil.virtual_memory().available ))\n",
    "\n",
    "mem_report()"
   ]
  },
  {
   "cell_type": "code",
   "execution_count": 48,
   "id": "e093792f",
   "metadata": {},
   "outputs": [],
   "source": [
    "def load_image(urls, path='images_0/'):\n",
    "    import cv2 as cv\n",
    "    try:\n",
    "        if len(urls) == 0:\n",
    "            return None\n",
    "        url = urls[0]\n",
    "        img = cv.imread(path + url[49:])\n",
    "        return img\n",
    "    except Exception:\n",
    "        print(f\"Exception: {traceback.format_exc()}\")\n",
    "        return False"
   ]
  },
  {
   "cell_type": "code",
   "execution_count": 49,
   "id": "2818a29d",
   "metadata": {},
   "outputs": [],
   "source": [
    "import mapply"
   ]
  },
  {
   "cell_type": "code",
   "execution_count": 50,
   "id": "b927ba3c",
   "metadata": {},
   "outputs": [],
   "source": [
    "part[\"loaded_images\"] = part.images.apply(partial(load_image, path='images_0/'))"
   ]
  },
  {
   "cell_type": "code",
   "execution_count": 51,
   "id": "2b91a192",
   "metadata": {},
   "outputs": [
    {
     "data": {
      "text/plain": [
       "(100000, 13)"
      ]
     },
     "execution_count": 51,
     "metadata": {},
     "output_type": "execute_result"
    }
   ],
   "source": [
    "part.shape"
   ]
  },
  {
   "cell_type": "code",
   "execution_count": 52,
   "id": "f6634da1",
   "metadata": {},
   "outputs": [],
   "source": [
    "part = part[['rank_scaled', 'category', 'category_id', 'images', 'brand', 'price']]"
   ]
  },
  {
   "cell_type": "code",
   "execution_count": 53,
   "id": "a0ca2f5c",
   "metadata": {},
   "outputs": [],
   "source": [
    "import traceback\n",
    "\n",
    "def image_url(urls, path='images_0/'):\n",
    "    try:\n",
    "        if len(urls) == 0:\n",
    "            return ''\n",
    "        url = urls[0]\n",
    "        return path + url[49:]\n",
    "    except Exception:\n",
    "        print(f'{traceback.format_exc()}')\n",
    "        return ''\n",
    "\n",
    "part['image'] = part.images.apply(partial(image_url, path='images_0/'))"
   ]
  },
  {
   "cell_type": "code",
   "execution_count": 54,
   "id": "8ef5872e",
   "metadata": {},
   "outputs": [],
   "source": [
    "part = part.drop('images', axis=1)"
   ]
  },
  {
   "cell_type": "code",
   "execution_count": 55,
   "id": "14f6cfac",
   "metadata": {},
   "outputs": [],
   "source": [
    "part = part[part['image'] != '']"
   ]
  },
  {
   "cell_type": "code",
   "execution_count": 56,
   "id": "c376ff1e",
   "metadata": {},
   "outputs": [
    {
     "data": {
      "text/plain": [
       "(41278, 6)"
      ]
     },
     "execution_count": 56,
     "metadata": {},
     "output_type": "execute_result"
    }
   ],
   "source": [
    "part.shape"
   ]
  },
  {
   "cell_type": "code",
   "execution_count": 57,
   "id": "Sybnt_vrlDlF",
   "metadata": {
    "id": "Sybnt_vrlDlF"
   },
   "outputs": [],
   "source": [
    "from sklearn.model_selection import GroupShuffleSplit\n",
    "\n",
    "gss = GroupShuffleSplit(test_size=.33, n_splits=1, random_state = 7).split(part, groups=part['category_id'])\n",
    "\n",
    "X_train_inds, X_test_inds = next(gss)\n",
    "\n",
    "train_data = part.iloc[X_train_inds]\n",
    "test_data = part.iloc[X_test_inds]"
   ]
  },
  {
   "cell_type": "code",
   "execution_count": 58,
   "id": "87580a8d",
   "metadata": {},
   "outputs": [
    {
     "name": "stdout",
     "output_type": "stream",
     "text": [
      "(31057, 6)\n",
      "(10221, 6)\n"
     ]
    }
   ],
   "source": [
    "print(train_data.shape)\n",
    "print(test_data.shape)"
   ]
  },
  {
   "cell_type": "code",
   "execution_count": 2,
   "id": "a1682362",
   "metadata": {},
   "outputs": [],
   "source": [
    "import tensorflow as tf\n",
    "import tensorflow_ranking as tfr"
   ]
  },
  {
   "cell_type": "code",
   "execution_count": 3,
   "id": "6ffcb611",
   "metadata": {},
   "outputs": [],
   "source": [
    "batch_size = 32\n",
    "img_height = 180\n",
    "img_width = 180\n",
    "AUTOTUNE = tf.data.AUTOTUNE"
   ]
  },
  {
   "cell_type": "code",
   "execution_count": null,
   "id": "f48a8f5a",
   "metadata": {},
   "outputs": [],
   "source": [
    "tf.image.resize"
   ]
  },
  {
   "cell_type": "code",
   "execution_count": 91,
   "id": "5edaeec3",
   "metadata": {},
   "outputs": [
    {
     "data": {
      "text/html": [
       "<div>\n",
       "<style scoped>\n",
       "    .dataframe tbody tr th:only-of-type {\n",
       "        vertical-align: middle;\n",
       "    }\n",
       "\n",
       "    .dataframe tbody tr th {\n",
       "        vertical-align: top;\n",
       "    }\n",
       "\n",
       "    .dataframe thead th {\n",
       "        text-align: right;\n",
       "    }\n",
       "</style>\n",
       "<table border=\"1\" class=\"dataframe\">\n",
       "  <thead>\n",
       "    <tr style=\"text-align: right;\">\n",
       "      <th></th>\n",
       "      <th>rank_scaled</th>\n",
       "      <th>category</th>\n",
       "      <th>category_id</th>\n",
       "      <th>brand</th>\n",
       "      <th>price</th>\n",
       "      <th>image</th>\n",
       "    </tr>\n",
       "  </thead>\n",
       "  <tbody>\n",
       "    <tr>\n",
       "      <th>0</th>\n",
       "      <td>1.953892</td>\n",
       "      <td>Arts, Crafts &amp; Sewing &gt; Craft Supplies &gt; Soap ...</td>\n",
       "      <td>1</td>\n",
       "      <td></td>\n",
       "      <td>35.00</td>\n",
       "      <td>images_0/41pw8f%2BTF1L._SS40_.jpg</td>\n",
       "    </tr>\n",
       "    <tr>\n",
       "      <th>1</th>\n",
       "      <td>2.589388</td>\n",
       "      <td>Arts, Crafts &amp; Sewing &gt; Craft Supplies &gt; Soap ...</td>\n",
       "      <td>1</td>\n",
       "      <td></td>\n",
       "      <td>35.00</td>\n",
       "      <td>images_0/41kr9Cq4RTL._SS40_.jpg</td>\n",
       "    </tr>\n",
       "    <tr>\n",
       "      <th>6</th>\n",
       "      <td>1.979594</td>\n",
       "      <td>Arts, Crafts &amp; Sewing &gt; Craft Supplies &gt; Soap ...</td>\n",
       "      <td>1</td>\n",
       "      <td>pinkie</td>\n",
       "      <td>8.99</td>\n",
       "      <td>images_0/41r8YYY0KrL._SS40_.jpg</td>\n",
       "    </tr>\n",
       "    <tr>\n",
       "      <th>10</th>\n",
       "      <td>2.630039</td>\n",
       "      <td>Arts, Crafts &amp; Sewing &gt; Craft Supplies &gt; Soap ...</td>\n",
       "      <td>1</td>\n",
       "      <td>pinkie</td>\n",
       "      <td>9.99</td>\n",
       "      <td>images_0/41l3EbmhxvL._SS40_.jpg</td>\n",
       "    </tr>\n",
       "    <tr>\n",
       "      <th>13</th>\n",
       "      <td>0.574717</td>\n",
       "      <td>Home &amp; Kitchen (See Top 100 in Home &amp; Kitchen)</td>\n",
       "      <td>0</td>\n",
       "      <td>Roxy Display</td>\n",
       "      <td>33.95</td>\n",
       "      <td>images_0/41852QXCmyL._SS40_.jpg</td>\n",
       "    </tr>\n",
       "  </tbody>\n",
       "</table>\n",
       "</div>"
      ],
      "text/plain": [
       "    rank_scaled                                           category  \\\n",
       "0      1.953892  Arts, Crafts & Sewing > Craft Supplies > Soap ...   \n",
       "1      2.589388  Arts, Crafts & Sewing > Craft Supplies > Soap ...   \n",
       "6      1.979594  Arts, Crafts & Sewing > Craft Supplies > Soap ...   \n",
       "10     2.630039  Arts, Crafts & Sewing > Craft Supplies > Soap ...   \n",
       "13     0.574717     Home & Kitchen (See Top 100 in Home & Kitchen)   \n",
       "\n",
       "    category_id         brand  price                              image  \n",
       "0             1                35.00  images_0/41pw8f%2BTF1L._SS40_.jpg  \n",
       "1             1                35.00    images_0/41kr9Cq4RTL._SS40_.jpg  \n",
       "6             1        pinkie   8.99    images_0/41r8YYY0KrL._SS40_.jpg  \n",
       "10            1        pinkie   9.99    images_0/41l3EbmhxvL._SS40_.jpg  \n",
       "13            0  Roxy Display  33.95    images_0/41852QXCmyL._SS40_.jpg  "
      ]
     },
     "execution_count": 91,
     "metadata": {},
     "output_type": "execute_result"
    }
   ],
   "source": [
    "train_data.head()"
   ]
  },
  {
   "cell_type": "code",
   "execution_count": 92,
   "id": "af90ec3c",
   "metadata": {
    "id": "af90ec3c"
   },
   "outputs": [],
   "source": [
    "metadata_tf_train = tf.data.Dataset.from_tensor_slices(train_data.to_dict(orient=\"list\"))\n",
    "metadata_tf_valid = tf.data.Dataset.from_tensor_slices(test_data.to_dict(orient=\"list\"))"
   ]
  },
  {
   "cell_type": "code",
   "execution_count": 93,
   "id": "709ec998",
   "metadata": {},
   "outputs": [],
   "source": [
    "metadata_tf = metadata_tf_train"
   ]
  },
  {
   "cell_type": "code",
   "execution_count": 4,
   "id": "4158ef74",
   "metadata": {},
   "outputs": [
    {
     "name": "stdout",
     "output_type": "stream",
     "text": [
      "(40, 40, 3)\n"
     ]
    }
   ],
   "source": [
    "img_height = 180\n",
    "img_width = 180\n",
    "\n",
    "normalization_layer = tf.keras.layers.Rescaling(1./255)\n",
    "\n",
    "img = tf.io.read_file('images_0/41pw8f%2BTF1L._SS40_.jpg')\n",
    "img = tf.io.decode_jpeg(img, channels=3)\n",
    "print(img.shape)\n",
    "# normalization_layer(img)"
   ]
  },
  {
   "cell_type": "code",
   "execution_count": 5,
   "id": "df8604db",
   "metadata": {},
   "outputs": [],
   "source": [
    "img = tf.image.resize(img, [img_height, img_width])"
   ]
  },
  {
   "cell_type": "code",
   "execution_count": 7,
   "id": "00c9f1e6",
   "metadata": {},
   "outputs": [
    {
     "data": {
      "text/plain": [
       "TensorShape([180, 180, 3])"
      ]
     },
     "execution_count": 7,
     "metadata": {},
     "output_type": "execute_result"
    }
   ],
   "source": [
    "img.shape"
   ]
  },
  {
   "cell_type": "code",
   "execution_count": 8,
   "id": "c1b4eaa0",
   "metadata": {},
   "outputs": [
    {
     "data": {
      "text/plain": [
       "array([218, 216, 217, ..., 196, 196, 196], dtype=uint8)"
      ]
     },
     "execution_count": 8,
     "metadata": {},
     "output_type": "execute_result"
    }
   ],
   "source": [
    "np.array(img).astype(np.uint8).reshape(180 * 180 * 3)"
   ]
  },
  {
   "cell_type": "code",
   "execution_count": null,
   "id": "2b1eb368",
   "metadata": {},
   "outputs": [],
   "source": [
    "ima"
   ]
  },
  {
   "cell_type": "code",
   "execution_count": null,
   "id": "79ef076c",
   "metadata": {},
   "outputs": [],
   "source": [
    "item_price = example_features[\"item_price\"] \n",
    "            image_count = example_features[\"image_count\"]\n",
    "            image_shape = example_features[\"image_shape\"]\n",
    "            image = example_features[\"image\"]"
   ]
  },
  {
   "cell_type": "code",
   "execution_count": 7,
   "id": "3040797a",
   "metadata": {},
   "outputs": [
    {
     "data": {
      "text/plain": [
       "b'\\xff\\xd8\\xff\\xe0\\x00\\x10JFIF\\x00\\x01\\x01\\x01\\x01,\\x01,\\x00\\x00\\xff\\xdb\\x00C\\x00\\x02\\x01\\x01\\x01\\x01\\x01\\x02\\x01\\x01\\x01\\x02\\x02\\x02\\x02\\x02\\x04\\x03\\x02\\x02\\x02\\x02\\x05\\x04\\x04\\x03\\x04\\x06\\x05\\x06\\x06\\x06\\x05\\x06\\x06\\x06\\x07\\t\\x08\\x06\\x07\\t\\x07\\x06\\x06\\x08\\x0b\\x08\\t\\n\\n\\n\\n\\n\\x06\\x08\\x0b\\x0c\\x0b\\n\\x0c\\t\\n\\n\\n\\xff\\xdb\\x00C\\x01\\x02\\x02\\x02\\x02\\x02\\x02\\x05\\x03\\x03\\x05\\n\\x07\\x06\\x07\\n\\n\\n\\n\\n\\n\\n\\n\\n\\n\\n\\n\\n\\n\\n\\n\\n\\n\\n\\n\\n\\n\\n\\n\\n\\n\\n\\n\\n\\n\\n\\n\\n\\n\\n\\n\\n\\n\\n\\n\\n\\n\\n\\n\\n\\n\\n\\n\\n\\n\\xff\\xc0\\x00\\x11\\x08\\x00\\xb4\\x00\\xb4\\x03\\x01\"\\x00\\x02\\x11\\x01\\x03\\x11\\x01\\xff\\xc4\\x00\\x1f\\x00\\x00\\x01\\x05\\x01\\x01\\x01\\x01\\x01\\x01\\x00\\x00\\x00\\x00\\x00\\x00\\x00\\x00\\x01\\x02\\x03\\x04\\x05\\x06\\x07\\x08\\t\\n\\x0b\\xff\\xc4\\x00\\xb5\\x10\\x00\\x02\\x01\\x03\\x03\\x02\\x04\\x03\\x05\\x05\\x04\\x04\\x00\\x00\\x01}\\x01\\x02\\x03\\x00\\x04\\x11\\x05\\x12!1A\\x06\\x13Qa\\x07\"q\\x142\\x81\\x91\\xa1\\x08#B\\xb1\\xc1\\x15R\\xd1\\xf0$3br\\x82\\t\\n\\x16\\x17\\x18\\x19\\x1a%&\\'()*456789:CDEFGHIJSTUVWXYZcdefghijstuvwxyz\\x83\\x84\\x85\\x86\\x87\\x88\\x89\\x8a\\x92\\x93\\x94\\x95\\x96\\x97\\x98\\x99\\x9a\\xa2\\xa3\\xa4\\xa5\\xa6\\xa7\\xa8\\xa9\\xaa\\xb2\\xb3\\xb4\\xb5\\xb6\\xb7\\xb8\\xb9\\xba\\xc2\\xc3\\xc4\\xc5\\xc6\\xc7\\xc8\\xc9\\xca\\xd2\\xd3\\xd4\\xd5\\xd6\\xd7\\xd8\\xd9\\xda\\xe1\\xe2\\xe3\\xe4\\xe5\\xe6\\xe7\\xe8\\xe9\\xea\\xf1\\xf2\\xf3\\xf4\\xf5\\xf6\\xf7\\xf8\\xf9\\xfa\\xff\\xc4\\x00\\x1f\\x01\\x00\\x03\\x01\\x01\\x01\\x01\\x01\\x01\\x01\\x01\\x01\\x00\\x00\\x00\\x00\\x00\\x00\\x01\\x02\\x03\\x04\\x05\\x06\\x07\\x08\\t\\n\\x0b\\xff\\xc4\\x00\\xb5\\x11\\x00\\x02\\x01\\x02\\x04\\x04\\x03\\x04\\x07\\x05\\x04\\x04\\x00\\x01\\x02w\\x00\\x01\\x02\\x03\\x11\\x04\\x05!1\\x06\\x12AQ\\x07aq\\x13\"2\\x81\\x08\\x14B\\x91\\xa1\\xb1\\xc1\\t#3R\\xf0\\x15br\\xd1\\n\\x16$4\\xe1%\\xf1\\x17\\x18\\x19\\x1a&\\'()*56789:CDEFGHIJSTUVWXYZcdefghijstuvwxyz\\x82\\x83\\x84\\x85\\x86\\x87\\x88\\x89\\x8a\\x92\\x93\\x94\\x95\\x96\\x97\\x98\\x99\\x9a\\xa2\\xa3\\xa4\\xa5\\xa6\\xa7\\xa8\\xa9\\xaa\\xb2\\xb3\\xb4\\xb5\\xb6\\xb7\\xb8\\xb9\\xba\\xc2\\xc3\\xc4\\xc5\\xc6\\xc7\\xc8\\xc9\\xca\\xd2\\xd3\\xd4\\xd5\\xd6\\xd7\\xd8\\xd9\\xda\\xe2\\xe3\\xe4\\xe5\\xe6\\xe7\\xe8\\xe9\\xea\\xf2\\xf3\\xf4\\xf5\\xf6\\xf7\\xf8\\xf9\\xfa\\xff\\xda\\x00\\x0c\\x03\\x01\\x00\\x02\\x11\\x03\\x11\\x00?\\x00\\xfda<\\xbf\\x1e\\xb4\\xe7\\xfb\\xa6\\x99A\\'\\x19\\xa0\\x89\\xbb\\xa1\\xe3\\xef\\x1aZ\\x88\\x16<\\xa9\\x14nq\\xd5\\xa88e\\x06\\xd908\\x04\\xe6\\x97\\'#\\'\\xbdB\\x8cOAO\\xf9\\x81\\xc7\\xe7A\\xad:mnK\\x91\\xea)\\xaeA\\x1c\\x1am\\x14\\x1br\\x8e^p}*A\\xca\\xe3?J\\x86\\x9e\\x1b s\\xcdmM\\xab\\x19\\xca\\x971&\\t\\x18&\\x96\\xa2$\\x83\\x80G\\xe3@\\xdd\\x9eqV\\xe4s\\xcb\\r&\\xc7\\xe3\\x07$\\xf7\\xa9#\\x97oZ\\x84\\xe7\\xb55\\x9c\\x83\\x8a\\xcaL\\xe8\\xa3I\\xc0\\xb3\\xe7\\xe7\\x8a\\x1aQ\\xb7\\x15W\\xcd \\x8c\\xd0e<\\xe6\\xb2\\x93\\xb9\\xdb\\xed\\xb9\\x11g\\xce\\x0b\\xd2\\x830?Z\\xad\\xe6\\x1c\\xe0\\x1a7\\x9fj\\xce\\xea\\xe74\\xb1W\\xd0\\x9f#\\xd6\\x8c\\x8fQQ)\\xc8\\xa5\\xadJN\\xfa\\x92dz\\x8a2=EGE\\x00I\\x91\\xea(\\xa8\\xe8\\xa0\\nFRz\\x8aO3\\xda\\x9bE\\x00;\\xcc\\xf6\\xa3\\xcc\\xf6\\xa6\\xd1@\\xac\\x89\\x12N\\xd4\\xf3&8\\x15\\n}\\xe1N\\xcf\\xcd\\xc1\\xfa\\xd04\\xec<\\xb9\\xec(\\xf3\\x01\\xe8?Zm5\\x86\\xdeA\\xa0\\xb5$H\\xb2\\x1d\\xd5(9\\x15Y9$\\x9a\\x986\\x06sU\\x13:\\xb5U2L\\x8c\\xe2\\x83!\\x1dO5\\x1e\\xfe\\xf9\\xa4.s\\x9cu\\xa6\\xd9T\\xea\\xc6H\\x941#\\xad2F\\xc7\\x06\\x91\\xa4 t\\xa1O\\x99\\xd4~u\\x9bf\\xceP\\xb0\\x81\\xf3\\xdb\\xbd\\x04\\xb6zg\\xf1\\xa5\\xf2\\xc6x\\xc6}\\xa9B\\x93\\xc6k&\\xcc&\\xe367w\\xa8\\xa01\\xcfJ\\\\\\x03\\xd4R\\x98\\xf1\\xcf\\x1cVw\\xd4K\\x0f}G)\\'\\xb5-F\\x18\\xe4\\x8c\\xf4\\xa5\\xc9\\xf55\\xd3\\x1d\\x87n]\\x07\\xd1L\\xc9\\xf54d\\xfa\\x9a`>\\x8afO\\xa9\\xa2\\x802\\xd3Q,q\\x8f\\xd2\\xa5\\xfbO\\x15V\\x18\\x80<\\x9a\\x98\\xa1\\x1d()!\\x1fP(p\\x05*_\\x97\\xc7\\x1f\\xa5V\\x99r\\xd94\\xb1)\\xce\\x05\\x01-\\x11l]\\xb0p\\x00\\xeaj\\xf9\\xb5\\x8cB$,2G\\xadU\\xb4\\x85Jn#\\xa75N\\xfbSvc\\n?J\\x0e9I\\xf3h^\\x8am\\xf7\\x1eH9\\x1e\\xb5fkM\\x89\\xb8\\x9e\\x05g\\xe9\\xa0\\xa1\\x13\\xb9\\xfc\\xea\\xcd\\xf6\\xb5\\n\\xc6S\"\\x83\\xd0\\xc2\\xd0\\x9dQ\\x8b*\\x86\\xe4\\x8e\\xb5j\\xd5#\\x9f\\xe52\\x01\\xf8\\xd77u\\xac\\xa267\\x0f\\xce\\xa9_\\xf8\\x94\\xd9&\\xf1p\\x06G\\xf7\\xaa\\xe2\\x9b=\\xfc?\\r\\xe21\\xcb\\xdd\\x89\\xdf\\xa6\\x91n\\xea\\x18\\xdc\\xa7\\xfd\\xf6*\\x19\\xec\\xed\\xe28\\x17\\nH\\xff\\x00j\\xbc\\xb2\\xef\\xe2\\x93@\\xc5\\x05\\xe8\\xe3\\xfd\\xaa[?\\x88\\xe6\\xe0\\x82o\\x01\\xcf\\xfbUN\\x07_\\xfa\\xa1\\x8b\\xa4\\xbe\\x13\\xd2\\xca!\\x1c8\\xfc\\xe9\\xf0\\xdb+pX~u\\xc5X\\xf8\\xe6\\x11\\x8d\\xd2\\x83\\xf8\\xd6\\xc6\\x9b\\xe2\\xe8.\\xf8F\\x1f\\x9dg(3\\xcc\\xc5d\\x98\\xaa+Tm\\xc8\\xbe_C\\xf9Uy.\\xca7+\\xd2\\x88/\\x96\\xe7\\xbd\\x13\\xc4\\x08\\xce+\\tE\\x9e\\rL=jR\\xd4D\\xbb\\x0c\\xd8\\xc5X\\x0f\\xbdI\\xcfj\\xccw\\xf2\\xcf5,Wd.\\xd2jyu\\x08\\xd6\\x94td\\xcfq\\xb1\\x8d5o\\t85\\x0c\\xae\\x1b\\x9ah=\\xc1\\xad\\xd2\\xb2\\x1d\\xee^\\x8d\\x8b\\x0c\\x9a\\x8ek\\x83\\x11\\xa2\\x07!p*+\\xb3\\x9c\\xd3\\x01\\x0e\\xa7\\x83\\x8cQT\\xc9\\x19\\xe4\\xd1@\\x0b\\x0b\\x82zT\\xe0\\xe4f\\xa8\\xc3*\\xe7\\x83V\\x0c\\xd8Z\\r\\xa2\\xae\\xc6M\\xf7\\xa8\\x80\\xf3\\x9fZ\\x86i\\xcez\\xd1\\x04\\xe0u\\xe8h\\n\\x91\\xd0\\xd3\\x82\\\\F@=EAo\\xa7\\xf9\\x97,\\xcc\\xbd\\xe9\\xf6l\\xae:\\x9a\\x92\\xf2\\xf1l\\xa3\\xde\\x1b\\x1cPE\\x0c3\\xa9P\\xa9\\xafj1i\\xd6d!\\xc1\\x15\\xc7]\\xf8\\x9aY\\x1bw\\x99\\xc7z\\x7f\\x8a5\\xc9.\\xe4hCdW9y\\'\\xd9\\xec\\x9aV8\"\\x83\\xf4L\\x8f#\\xf6\\xd6\\xd0\\x83\\xc6~9\\x1a]\\xac\\x92\\x19\\xb0Bd\\x1c\\xd7\\xce\\x9f\\x14\\xbfh\\xddkO\\x92X\\xe1\\xd4p\\x14\\x909\\xae\\x9f\\xe3\\x8f\\x8b\\xee\\xed\\xecn>\\xce\\xf9!\\x0e9\\xaf\\x88\\xbe$\\xf8\\xe7\\xc57\\xda\\xad\\xc4O\\x19*% |\\xd5\\xd3F<\\xc7\\xee\\x9c)\\xc3\\xf8zP\\xfd\\xe2=\\'X\\xfd\\xa9<_&\\xa2\\xe9\\x16\\xab\\xdf\\xd4\\xd7g\\xf0\\xf3\\xe3\\xe7\\x8b\\xb5\\x07\\x8f\\xcd\\xd4s\\x9fs_5xKK\\xb9\\xd65<\\xdd\\xc7\\xd7\\x19\\xcd}!\\xf0\\x7f\\xe1\\xde\\x98a\\x8d\\xe5P\\x0f\\x1dV\\xb7t\\xcf\\xa6\\xc5\\xe4\\xb8\\x16\\x9d\\x92=\\xef\\xc0\\xdf\\x11\\xb5k\\xe8\\x94\\xcfs\\x9c\\x81\\xde\\xbd;\\xc2\\xde*\\x98\\x85//\\xe7^y\\xe0_\\x05i\\xb1\\xc4\\xbeX\\x1f\\x95v\\xc7GM5W\\xc8N\\xc3\\xb5G\\xb3\\xd0\\xf8<\\xdb!\\xc3;\\xa4\\x8fJ\\xd0<F$*\\x0c\\x99\\xfck\\xa6\\xb6\\xbfI\\xe3\\x1c\\xe6\\xbc\\x97E\\xd4\\xe4\\xb7`\\t\\xae\\xcfC\\xd7<\\xc0\\xaa[\\xf5\\xac]3\\xf2\\x9c\\xeb$\\xa7N\\xed#\\xa7\\x9a0\\xe7**?(\\xa9\\xcf\\xa5:\\xcau\\x99\\x01\\xcdYu\\x8fa\\xe7\\xb5f\\xe0~k\\x8c\\xa1\\x1aS\\xb1NC\\x81LI9\\xe9I3\\xe0\\x91MW\\x19\\xe2\\xa0\\xc5l_\\x81\\xf0\\xbe\\xb5\\r\\xdb\\xd2\\xc4I^j\\x1b\\xa3\\xd7&\\x81\\x95\\xcf\\'4Td\\xe4\\xe6\\x8a\\x00\\xad\\x14\\x85[\\x93V~\\xd5\\x18^\\\\Vl\\xb7#\\x1c\\x1cU\\x1b\\x9b\\xc7\\x04\\xe2J\\r\\xd6\\x86\\xbc\\xd71\\xe7\\xef\\x8aH\\xa7B~\\xf8\\xac/\\xb5\\xb9?\\xeb\\t\\xa9\\xa0\\xb8s\\xce\\xe3T\\xa3sE\\xef;\\x1d\\x147\\xeb\\x0e>aPx\\x8a\\xfdZ\\xd0~\\xf0t\\xf5\\xack\\xab\\xf6\\xb7 \\xb3\\xd5=gRi-\\x86\\x1f\\xb7J\\xb5\\x03\\xda\\xcb\\xb0\\xf1\\x94\\xd1\\x9d6f\\xbe$sX\\xbe4\\xbck;\\x19\\x13\\xa5l\\xe9\\xb2\\x03s\\xb9\\x87\\xe7\\\\\\xd7\\xc5k\\xa5\\x8e\\xcab\\x84\\x0e*\\x95+\\x9f\\xb1\\xf0\\xed\\x08SH\\xf0\\xbf\\x89r\\xc5\\xa9[\\\\o\\x90\\x0e\\x0fS_3\\xf8\\xbb\\xc3\\xb0\\xcd\\xa9JUA\\xfd\\xe7j\\xf6\\xef\\x1fx\\x80\\xc7\\xe7F\\x1c\\xf2H\\xaf)x\\xcd\\xdd\\xfc\\x8cT\\x9c\\xbey\\x15\\xd1J*\\x07\\xe9\\xb4\\xab\\xbat\\xfd\\xd2\\xa7\\x81|\\x1f\\x18\\xd4\\x03\\x14\\x03\\xa7j\\xf7\\xff\\x00\\x87Zd\\x16\\x90\"o\\x19\\x18\\xe35\\xe7\\x1e\\x08\\xd2\\x96K\\xa5P\\x98\\xc1\\x15\\xeb>\\x12\\xf0\\x9d\\xdc\\xb3$\\x891\\x03\\xeb]I\\\\\\xc2\\xa66oFz\\xd7\\x80\\xa1r\\x8aQr8\\xc9\\x15\\xdb]\\xda\\x89bRG8\\xac\\x1f\\x86\\xfaZXi\\xfbg`H\\x03\\x195\\xd3M\"0\\x01H\\xfa\\x03M\\xd3V<\\x9a\\xf5]ijbM\\x1c\\x96\\xecYT\\xe2\\xb6<=|\\xc2E\\\\\\x9a\\x87QD\\x11d/nj\\x1d&q\\x1d\\xd0\\x18\\xe9\\xed\\\\\\xd3\\x87)\\xf1\\x19\\xe6\\x1b\\x9a-\\x9e\\x8d\\xa3\\xdd~\\xe7%\\xabA\\xaf\\x01_\\x94\\xe6\\xb9K=]b\\x8f\\x01\\xaa\\xe5\\xa6\\xb8\\x8e\\xa43\\x0c\\xd7<\\xa5c\\xf1\\x9c\\xdb\\x0b\\xcbQ\\x9a\\xb2\\xca\\xa4\\xf2\\xd4\\xd5\\x960yj\\xcd{\\xcd\\xe7vi>\\xd2\\x7f\\xbek\\x9d\\xbb\\xb3\\xc9T\\xaco\\xc14Eq\\xbcTWEI\\xe0\\xd6\\\\\\x17\\x0ez5[\\x86B\\xff\\x00x\\xd2\\x17&\\xa3\\x1b~OZ*\\xd6\\x07\\xa0\\xa2\\x82yN:]Dc\\x86\\xaas_\\x02O5\\x9c\\xf7\\xccz5Bn\\x98\\x9e\\x0f\\xebI;\\x9b\\x1a\\xd1\\xdc\\xe5\\xba\\xd5\\xdby\\x01\\x1dk\\x12\\xd6b\\xcc9\\xadK2J\\x83\\xedZ&i\\x05\\xa9\\x0e\\xbdt\\xc8\\xc0\\x06\\xee* \\x92\\\\\\xc2\\xa0\\x9c\\xd5\\xadF\\xcf\\xcf\\xc3\\x11\\xd2\\xa3\\x85\\xa3\\x87\\xe4n\\xd5\\xacY\\xf4yg\\xc6\\x8arf\\xd0n\\xce+\\xce\\xfe*\\xeb\\x05\\xadfC\\'\\xafz\\xf4\\xadF!4G`\\xe6\\xbc\\xaf\\xe2\\xc6\\x9d:\\xd8O(N\\x9d\\xebD\\xcf\\xd62:\\x9a#\\xe7\\x0f\\x1d\\xdd\\x03x\\xca\\xc7\\xab\\x9a\\xc6\\xd2,m\\xe5\\x94\\xb6\\xcez\\xd67\\xc5\\xff\\x00\\x11\\xddiz\\xda\\xc2_\\x19\\x97\\x18\\xcdX\\xf0n\\xb9\\x1c\\xc1ZG\\xebV\\x9d\\xcf\\xd1p\\xb2S\\x81\\xdbxj8\\xed\\xaf2\\x17\\x18\\xc5{?\\x81\\xe6\\x85\\xac\\x95\\xfb\\xf1^G\\xa1E\\x14\\xdbe^\\xa6\\xbdK\\xc1sG\\x15\\xb2\\xc6O\\xa5o\\x06\\xc5R\\x9aN\\xe7{g\\xac\\xdc@\\xbeT/\\x8c\\xd7C\\xe1\\xbb\\x9b\\xa9\\x89k\\x87\\xdd\\xe9\\\\\\xa6\\x96`\\x96t\\x0cz\\x9a\\xed,\\xa3\\x82\\x08\\x97\\xc9=Em}\\x0e*\\xaa)\\x16\\xef\\x9c\\xb4@{U[Eaq\\xb8U\\x96S*\\x00EY\\xb4\\xd3\\x81\\xc1\\x0b\\xd6\\xb9\\xaa=\\x0f\\x8e\\xced\\xb9\\x19V\\xebP\\x92\\x158|b\\x93L\\xd5\\xe5g\\xff\\x00Xz\\xd3u\\xab\\x7f-\\xdb\\x8a\\xad\\xa4F\\x18n\\x1e\\xb5\\xc56\\x93?\\x1d\\xcd\\xe3\\xef\\x9d<w\\xed\\xb0|\\xdd\\xbdjX\\xafryj\\xc8V`\\xa0f\\xa6\\x86V\\x079\\xacO\\x00\\xde\\xb5\\xba\\x0cG5\\xa5m(#5\\xce\\xdaNw\\x03Z\\xd6\\xb7#\\x1dh35\\x84\\xdcQTE\\xc7\\xbd\\x14\\x01\\xe6m1\\x03\\xad\"\\xc8O4\\xaf\\x00\\xeb\\xba\\xa3$\\'\\x7f\\xd2\\xb2\\xe6Ak\\x9a6\\'q\\xfc+n\\xc0\\x10\\xa0\\x11\\\\\\xd5\\xae\\xa1\\xe5\\xb0\\xc0\\xe2\\xb5\\xac\\xf5\\xbd\\xa9\\xf7?J\\xd13xE\\xdc\\xd7\\xb9q\\x1as\\xc6EcK1y[\\x1c\\xfe5f\\xe3Pk\\xd1\\xb7\\x04qU\\xbc\\xaf$\\x99\\rk\\x19w=\\xcc\\x04\\xb9d\\x82[\\xc1\\x14Xf\\x15\\xce\\xf8\\xbbFM\\x7fL\\x964\\\\\\xee\\x1d\\xaa\\xce\\xb3v\\xcd\\x98\\xc7\\x14\\xed\\x17R\\x8e\\xde0\\xb2\\xedo\\xadj\\x99\\xfaFQ_\\x95#\\xe4\\x9f\\x8f_\\xb3\\xed\\xdd\\xee\\xa5\\xf6\\xc8\\xac\\x18\\xed}\\xdc\\n\\xf3\\x8b_\\x08k:\\x04\\xe2?\\xb0\\xb8\\n\\xc0W\\xdf\\x9e!\\xb6\\xd25\\xe1\\xe5<\\x10e\\x869Q\\\\G\\x88\\xff\\x00g\\xbd7W>tf!\\x93\\x9e\\x08\\xabL\\xfb\\xbc6`\\xa9\\xc7V|\\xff\\x00\\xe1!z\\xb0\\'\\x99\\t\\x15\\xe8\\xfe\\x0f\\x92Y&H\\x8a\\x9c\\x1a\\xeb-\\xfe\\x00[\\xda\\xfc\\xab*\\xf1\\xe8\\xf5\\xb3\\xa2|\"\\x8fM\\xb8[\\x830\\xe3\\xfd\\xba\\xde\\r\\x9bK0\\x8c\\xba\\x96t\\r\\x1c\\xb1Y\\n\\xd7Yo\\x08\\x8d\\x17\\x1d\\x85Amg\\x16\\x9f\\x16\\xdc\\x83\\xc5\\x07TX\\xd8.;\\xd6\\xb78\\xebcS[\\x9a\\xb6\\xc8X\\x81[V6\\xc0F\\x0f\\xf3\\xac\\x9d\\x18\\x8b\\xb6\\x1c\\xd7E\\x05\\xa2\\xc7\\x08;\\x85sUv>G5\\xc4\\xa9E\\x9c\\xaf\\x8a\\xe5\\x11J\\xca\\x0f\\xadg\\xf8z\\xe089=\\xeb_\\xc5:X\\xb9vo0w\\xefX\\x16\\xb0\\xff\\x00f1\\xf9\\xfb\\xfa\\xd7\\x04\\xe5\\xa9\\xf9\\x9ee\\xefI\\x9d\\x02\\xa6W\"\\x9c\\xa0\\x81\\x83Yp\\xf8\\x8b#f\\xce\\x87\\xd2\\xadC\\xa9\\x89?\\x87\\xf4\\xa0\\xf9\\xe7\\xb9\\xa7n\\xc45h[JH\\xcdd\\xdaO\\xbd\\x85ni\\xb6\\x0br\\x07\\xcc\\x07\\xe3A\\x90\\xef\\xb4\\x1fz*\\xf8\\xd0\\x01\\x00\\xf9\\xbf\\xad\\x14\\x01\\xe5R\\\\\\x9cu\\xa8\\xfc\\xd2\\xdc\\xd2\\xc9\\x13u\\xa8\\xd5J\\x8c\\x1a\\xe5L\\xa8\\x96mHcZ\\xb6Q\\x02\\xb5\\x8fo\"\\xa3\\x0c\\xd6\\xa5\\x9d\\xc8\\xe3\\x9a\\xd1H\\xde\\x1b\\x9a\\x04\\x08\\xf1\\xc7Z\\x91\\x80\\x92<g\\xb5R\\xb8\\xb8\\xdeT)\\xab\\x10\\xcb\\xf2\\x0c\\x9e\\xd5\\xaag\\xa9\\x84o\\x98\\xc1\\xd7-\\xc8f W7\\xa8j\\x12Y\\xa1!\\xc8\\xc5v\\x9a\\x94I(9\\x15\\xca\\xf8\\x87N\\x06&;kX\\xc9\\xd8\\xfb|\\xb6\\xb7-\\x8eCQ\\xf1\\xd4\\xb6w*\\xcd9\\xc2\\xb7<\\xd5\\xd4\\xf8\\xe1a\\x04A\\x1d\\xc1 s\\xf3W+\\xe2\\xfb\\x07M\\xc5\\x16\\xbc\\xdb]\\x96\\xfe\\x17p\\xad\\xd3\\xa5i\\x19\\x1e\\xfdL[\\x8cV\\xa7\\xb7?\\xc7\\xcd\\x1e.X\\xaf\\xfd\\xf5J\\x9f\\xb4&\\x86\\xdf()\\x9f\\xf7\\xab\\xe5_\\x10\\xf8\\x8fW\\xb6v\\x0b61\\xd2\\xb3\\xb4\\x9f\\x15k3]*\\xf9\\xf9\\xcfj\\xde2a\\x0cd\\xcf\\xb0\\xa3\\xf8\\xd3\\xa6^\\xfd\\xc2\\xbc\\xfb\\xd6\\x96\\x8b\\xe2\\x98\\xb5\\xd7\\x06\\x03\\xdf\\xb1\\xaf\\x9f|\\x04\\xfa\\x95\\xfa\\xa1s\\x9c\\xd7\\xb9\\xfc/\\xd2\\x9e4\\r2\\xf6\\xady\\xb4&\\xae.V=/\\xc3\\x0e\\xd9\\x195\\xd1Iv\\xcbo\\xf7\\xb1X\\xda\\x05\\xbaF\\x17\\x8a\\xd5\\xba\\xd8!\\xc6+\\x96\\xa4\\xb4>s\\x1d\\x8ar\\xbe\\xa6\\x06\\xb7~\\xc5\\xcf\\xcfXW\\x13;\\xbfZ\\xd9\\xd4\\xe22I\\x91T\\x1a\\xcb\\nX\\x8e\\x95\\xc5)+\\x9f#\\x8b\\x9f1\\x1d\\xb4|g\\x18\\xe6\\xb4-\\xd4(\\x19\\xaa\\x100\\x0cW\\xd0\\xd5\\xf8T\\xba\\x81Vx\\x8fr\\xe5\\xb4\\xdb\\x1b \\xd6\\xde\\x95\\xa8\\xec\\x03\\xe6\\xae}\\x11\\xb7p+F\\xc08\\xebA\\x91\\xd4.\\xae6\\x8f\\x9b\\xb7\\xad\\x15\\x90\\xac\\xd8\\x1c\\xd1@\\x1cL\\xae\\x87\\xa9\\xaa\\xb38\\x1d\\r2[\\x86#\\x15\\x03J\\xcck\\x92\\xcci\\xeaYG\\x07\\x15v\\xd4\\xb6\\xde\\x95B\\xdcn#\\x9a\\xd5\\xb3\\x8dH\\xc9#\\xa5R\\xb9\\xd1\\x06\\x91\"7\\xcd\\x975dL\\x15\\x06\\rQ\\xd4\\xa40\\x95(3\\x9fJH\\xae\\x19\\x94\\x03Z\\xc4\\xed\\xa1R1\\x90\\xfb\\x99\\xdc\\xb1\\x15\\x8f\\xae;y\\x0cI\\xad\\x95\\x89d9\\'\\xf3\\xaa:\\xde\\x9f\\xbe\\xd9\\xf6\\x0c\\x9a\\xd0\\xfa\\x9c\\x0e*\\x94R\\xbb<\\x9b\\xc6w\\x0c\\x0b.k\\xcc\\xfcG\\x1d\\xc9g%:\\xf7\\xafU\\xf1\\x86\\x87z\\xf3\\x16[g#<\\x9cW\\x0f\\xe2[\\x07\\x8e2<\\xb3\\x909\\x18\\xabN\\xe7\\xb2\\xf14\\xa6\\xb7<{\\xc4\\xb6\\x13J\\xec\\x19*\\x1f\\x0fh\\x12\\xb5\\xda\\xb7\\x95[\\xde!\\xf3\\xd2w\\xc4\\x07\\xf2\\xab\\x1e\\x15i\\x9a\\xe5\\x01\\x83\\x1f\\x85o\\t$o\\n\\xd4\\x92\\xd5\\x9d\\xf7\\xc3\\x8d.\\xe2\\xde4\\xc4^\\x95\\xed~\\x07\\x91\\xe0\\x8co\\x18\\xc0\\xaf:\\xf0%\\xb9h\\xd4\\x98\\xff\\x00J\\xf4\\xbd\\x1a\\x07\\x8e!\\x85\\xc7\\x1d\\xabG4c_\\x13J\\xdb\\x9df\\x9f\\xac\\xf9D\\r\\xf5r]k\\xcdLo\\xaeP\\xbc\\xf1\\x1c\\xec5j\\xcaI\\xdc\\x8f\\x90\\xd7<\\xe4\\x9a>c\\x19\\x88\\x8bz3Zk\\x8d\\xdc\\x93P4\\xb9R\\xb9\\xed\\xebNHY\\x97\\x959\\xf4\\xa65\\xb4\\x8b \\xca\\x9c\\x1a\\xe2\\x93M\\x9e\\x15j\\x8aL\\x8e\\xda\\xd1\\xd9\\xce\\x17\\xa9\\xad\\x8bK\\x06\\xda2\\xb5&\\x9bg\\x1b\\x00F\\x0f\\xadk\\xc1m\\x00P\\xa1\\x86}+h\\xecpI;\\x99\\x82\\xd3i\\xc9\\x15f\\xdd\\x02\\xd4\\xf3\\xc3\\xb3\\x90*\\x05-\\xbb\\xe5\\x1d\\xe9\\x98\\x97\\x15\\xc0\\x18\\xa2\\xa0\\x06b>\\xe9\\xa2\\x81s#\\x84\\x92\\xc9\\x8eO5]\\xed\\x99MtR\\xda\\xc6FB\\xd5)\\xed\\x17\\xfb\\xb5<\\xa8\\x832\\x15en\\xa6\\xb4-d`\\x00\\xc9\\xa8\\xd6\\xd0\\x96\\xe0U\\xab{7\\xf4\\xa3\\x95\\x0f\\x99\\x84\\xbf\\xbc\\x00\\xb0\\xe9Di\\x9e\\x02\\xfe\\x95;\\xdb\\x909\\x14\\xf8-\\xf2zU\\rNHlV\\xce\\xc3\\x83VSM2\\x0c2\\x92\\x0f^*\\xcd\\xa5\\xba\\xf1\\x91Zv\\xd6\\xf1\\xf0\\n\\xd0i\\x1a\\xf5c\\xb39\\xeb\\xff\\x00\\nZ\\xdd\\xda:}\\x95rW\\x83\\x8a\\xf3\\x9f\\x10|\\x16\\xba\\xbc\\x9eGP\\xd8\\'\\x81^\\xe9\\x15\\xb4\\x1d\\x19*yl4\\xc2\\xa0\\xbc#\\xa5TN\\xfc6.\\xafV|\\xab\\xaa~\\xcd\\xf7\\x97NN\\xd69\\xa7h\\xff\\x00\\xb3u\\xfd\\xac\\xc2L7\\x1fJ\\xfa\\x8e-3E\\x91\\xf0m\\xebN\\xd3\\xc3\\x9a;\\xa8+j(\\xe6g\\xa0\\xb1U^\\xcc\\xf0o\\x0c|\\'\\xba\\xd3\\x15C\\x83\\xc0\\xf4\\xae\\xba\\xcb\\xc2\\xaf\\x12\\x85#\\xb5zU\\xef\\x87\\xac\\xe3_\\xddC\\x8a\\xe5\\xbcO{i\\xa1\\x7f\\xaeP3\\xd2\\xb2\\x94\\x99.u\\xa6\\xf72/<8<\\x91\\xd3\\xebZ:7\\x84\\x04\\xe8\\n\\x91\\xf9\\xd7;\\xa8x\\xf2\\xc0\\x0c\\x06\\x1c{\\xd6\\xa7\\x87\\xbe#\\xe9\\xb1\\xed\\r\\'\\xfe=YI\\xbb\\x19\\xbc5i\\x9b\\x92x2H%\\r\\x9e*\\x8e\\xb5c\\x1d\\xa7\\xca@\\xce*\\xe5\\xcf\\xc4=.T%\\x1c\\x7f\\xdfU\\xcax\\x9b\\xc5\\xf0\\\\I\\xba)?Z\\x85\\xab&9|\\xefss\\xc3q\\xee\\x99\\xb2\\xf9\\x1c\\xd5\\xf8\\xed\\xe4K\\x92\\xe5\\xce;W\\x19\\xe1\\xaf\\x13\\xa8\\x9c\\x83\\'V\\xf5\\xae\\xc9\\xaf\\xe3k\\x15\\xb8\\x07\\x92:\\xe6\\xba\\xa3\\xb0U\\xa0\\xa0\\xacj}\\x80\\\\Z\\x9c0\\xcf\\xd6\\xa0\\x8bOKD>a\\x04\\xd6A\\xf1t6\\x83c\\xc9\\xd3\\xde\\xa9\\\\\\xf8\\xe2\\xda{\\xb5\\x829>\\xf1\\xe9\\x9ag\\x8dZ6z\\x1d\\t\\x9e0q\\xb4QY\\xe9+:\\x07\\xcfQ\\x9a(9\\xcc\\x89\\x18\\xf2*\\xbc\\xa3\\'\\x1e\\xd5\\xa1%\\xa7\\x1d*\\xb4\\x90m=(4#\\x82\\xdc1\\xe9Z6\\x96A\\x87\\xdd\\xaa\\x90\\x10\\xa6\\xb4\\xad\\'\\xda\\x00\\xa0\\x08\\xae\\xec\\x95\\x00\\xe2\\xa2H\\x95O\\x15n\\xfe`\\xe0\\x0c\\xd4\\x11\\x80x\\xf7\\xa0\\t`;M\\\\\\x8am\\xb5Z\\x18\\xb7\\x1c\\x01V\\xa2\\xb5f\\xed@\\x12\\xc7t\\xdb\\x87?\\xadY\\x9e\\xe3|`)\\xc9\\xc5@,YW!j/1\\xc3`\\xe7\\x83U\\x11{_f\\xcb6\\xc5\\xfc\\xce\\x95\\xd0ir\\xed@\\x1e\\xb9\\xdby\\xb6\\xb6M\\\\]U\\xa3]\\xa0\\xd4\\xbd\\xce\\x9aX\\x96o\\xde][*\\x9c\\xb5x\\xe7\\xed\\x01\\xa9O\\x1b \\xb2=v\\xd7w{\\xaa\\xdcI\\x9d\\xa0\\xd7)\\xe2\\xaf\\rI\\xe2V\\r4D\\xe0\\x8e\\xa2\\xb3\\x91\\xebP\\xc4E\\xb3\\xc9\\xad`\\xd5\\xaf\\xdb\\x1b2{\\xd5\\xd8t\\xfdn\\xdf\\xe6\\x11\\xe2\\xbd\\x17\\xc3\\xfe\\x03\\xb7\\xb7\\x9f\\x0c\\x80c\\xda\\xb5.<%fF\\xce?*\\xcd\\xec{\\x14jA\\xa3\\xcb\\xd2maG\\xcc\\xbf\\xad9\\xa1\\xd4.\\xa39Nq\\xc5z\\x15\\xd7\\x83-\\x96\\x13 \\x03\\xf2\\xaa6z\\x041>\\x0e\\x07>\\x95\\x0bs\\xb9\\xce\\x97!\\xe7\\xb1\\xdax\\x92\\xcao28\\xb07ds]4:\\xdf\\x88N\\x9c\\x90\\xb0\\xe4\\x0fZ\\xee\\xec<%g\\xa9\\xc6\\x14\\x00H\\x1e\\x95Z\\xe7\\xc2q[\\xc8Sh\\xe3\\xda\\xbac\\xb1\\xf3\\xd8\\xaa\\x91\\xbb<\\xcfX\\xb8\\xf1;\\xab<i\\xfa\\x9a\\xc6\\xd3.<V\\xda\\xcc%\\xe3\\xe3\\x7f\\xa9\\xafh\\xff\\x00\\x84N\\xd2[|6?*\\x82\\xdf\\xc0v\\x8b8\\xb9\\n>S\\x9e\\x95G\\x85Y\\xdeE{)\\xb5ai\\x1e\\xe03\\xb0g\\x9a+\\xa0Kx\\xa3A\\x18\\xc7\\x03\\x1d(\\xa0\\xc6\\xc5y\\xd4`\\xf1T\\xa7\\x03\\'\\x8a(\\xa0\\n\\xe9\\xf7\\x85[\\xb7\\'\\x1dh\\xa2\\x80\\t\\xc98\\xc9\\xa5\\xb794Q@\\x17\\xad@\\xcdjZ\\x01\\xc7\\x14Q@\\x17\\n/\\x92N\\xd1\\xd2\\xb3$Q\\xb9\\x8e;\\xd1ETN\\\\F\\xe8\\x85\\xc9\\x07\\x83I\\x93\\xeah\\xa2\\x93\\xdc\\xd2\\x9e\\xc4\\xd0\\x80\\xc0df\\xb44\\xe8bd;\\xa3\\x07\\xe5=\\xa8\\xa2\\xb1\\x99\\xe9\\xe1\\xca\\xbb\\x11n[j\\x81\\xcdV\\x9c\\x03=\\x14Vg\\xb5Ga\\xf2\\xaa\\xfd\\x8d\\xb8\\xedXR\\x00\\x1b\\x81E\\x151\\xdc\\xf4\\x17\\xc0\\xce\\x8b\\xe1\\xd8\\x0f3\\xee\\xe7\\xaf_\\xa5O\\xaf\"\\t\\x9b\\n?*(\\xae\\x98\\xecx8\\x8d\\xd9F 6\\xe3\\xb5]\\xb7U\\xfb#\\xf1\\xda\\x8a*\\x8f*f<\\x84\\xf9\\x8d\\xcfsE\\x14Pf\\x7f\\xff\\xd9'"
      ]
     },
     "execution_count": 7,
     "metadata": {},
     "output_type": "execute_result"
    }
   ],
   "source": [
    "tf.io.encode_jpeg(np.array(img).astype(np.uint8)).numpy()"
   ]
  },
  {
   "cell_type": "code",
   "execution_count": 5,
   "id": "92eedd89",
   "metadata": {},
   "outputs": [
    {
     "ename": "NameError",
     "evalue": "name 'value' is not defined",
     "output_type": "error",
     "traceback": [
      "\u001b[1;31m---------------------------------------------------------------------------\u001b[0m",
      "\u001b[1;31mNameError\u001b[0m                                 Traceback (most recent call last)",
      "\u001b[1;32m~\\AppData\\Local\\Temp/ipykernel_8116/1010251391.py\u001b[0m in \u001b[0;36m<module>\u001b[1;34m\u001b[0m\n\u001b[0;32m      1\u001b[0m tf.train.Feature(\n\u001b[1;32m----> 2\u001b[1;33m         \u001b[0mbytes_list\u001b[0m\u001b[1;33m=\u001b[0m\u001b[0mtf\u001b[0m\u001b[1;33m.\u001b[0m\u001b[0mtrain\u001b[0m\u001b[1;33m.\u001b[0m\u001b[0mBytesList\u001b[0m\u001b[1;33m(\u001b[0m\u001b[0mvalue\u001b[0m\u001b[1;33m=\u001b[0m\u001b[1;33m[\u001b[0m\u001b[0mtf\u001b[0m\u001b[1;33m.\u001b[0m\u001b[0mio\u001b[0m\u001b[1;33m.\u001b[0m\u001b[0mencode_jpeg\u001b[0m\u001b[1;33m(\u001b[0m\u001b[0mvalue\u001b[0m\u001b[1;33m)\u001b[0m\u001b[1;33m.\u001b[0m\u001b[0mnumpy\u001b[0m\u001b[1;33m(\u001b[0m\u001b[1;33m)\u001b[0m\u001b[1;33m]\u001b[0m\u001b[1;33m)\u001b[0m\u001b[1;33m\u001b[0m\u001b[1;33m\u001b[0m\u001b[0m\n\u001b[0m\u001b[0;32m      3\u001b[0m )\n",
      "\u001b[1;31mNameError\u001b[0m: name 'value' is not defined"
     ]
    }
   ],
   "source": [
    "tf.train.Feature(\n",
    "        bytes_list=tf.train.BytesList(value=[tf.io.encode_jpeg(img).numpy()])\n",
    ")"
   ]
  },
  {
   "cell_type": "code",
   "execution_count": 13,
   "id": "b8d6ddbb",
   "metadata": {},
   "outputs": [
    {
     "data": {
      "text/plain": [
       "value: \"\\377\\330\\377\\340\\000\\020JFIF\\000\\001\\001\\001\\001,\\001,\\000\\000\\377\\333\\000C\\000\\002\\001\\001\\001\\001\\001\\002\\001\\001\\001\\002\\002\\002\\002\\002\\004\\003\\002\\002\\002\\002\\005\\004\\004\\003\\004\\006\\005\\006\\006\\006\\005\\006\\006\\006\\007\\t\\010\\006\\007\\t\\007\\006\\006\\010\\013\\010\\t\\n\\n\\n\\n\\n\\006\\010\\013\\014\\013\\n\\014\\t\\n\\n\\n\\377\\333\\000C\\001\\002\\002\\002\\002\\002\\002\\005\\003\\003\\005\\n\\007\\006\\007\\n\\n\\n\\n\\n\\n\\n\\n\\n\\n\\n\\n\\n\\n\\n\\n\\n\\n\\n\\n\\n\\n\\n\\n\\n\\n\\n\\n\\n\\n\\n\\n\\n\\n\\n\\n\\n\\n\\n\\n\\n\\n\\n\\n\\n\\n\\n\\n\\n\\n\\377\\300\\000\\021\\010\\000\\264\\000\\264\\003\\001\\\"\\000\\002\\021\\001\\003\\021\\001\\377\\304\\000\\037\\000\\000\\001\\005\\001\\001\\001\\001\\001\\001\\000\\000\\000\\000\\000\\000\\000\\000\\001\\002\\003\\004\\005\\006\\007\\010\\t\\n\\013\\377\\304\\000\\265\\020\\000\\002\\001\\003\\003\\002\\004\\003\\005\\005\\004\\004\\000\\000\\001}\\001\\002\\003\\000\\004\\021\\005\\022!1A\\006\\023Qa\\007\\\"q\\0242\\201\\221\\241\\010#B\\261\\301\\025R\\321\\360$3br\\202\\t\\n\\026\\027\\030\\031\\032%&\\'()*456789:CDEFGHIJSTUVWXYZcdefghijstuvwxyz\\203\\204\\205\\206\\207\\210\\211\\212\\222\\223\\224\\225\\226\\227\\230\\231\\232\\242\\243\\244\\245\\246\\247\\250\\251\\252\\262\\263\\264\\265\\266\\267\\270\\271\\272\\302\\303\\304\\305\\306\\307\\310\\311\\312\\322\\323\\324\\325\\326\\327\\330\\331\\332\\341\\342\\343\\344\\345\\346\\347\\350\\351\\352\\361\\362\\363\\364\\365\\366\\367\\370\\371\\372\\377\\304\\000\\037\\001\\000\\003\\001\\001\\001\\001\\001\\001\\001\\001\\001\\000\\000\\000\\000\\000\\000\\001\\002\\003\\004\\005\\006\\007\\010\\t\\n\\013\\377\\304\\000\\265\\021\\000\\002\\001\\002\\004\\004\\003\\004\\007\\005\\004\\004\\000\\001\\002w\\000\\001\\002\\003\\021\\004\\005!1\\006\\022AQ\\007aq\\023\\\"2\\201\\010\\024B\\221\\241\\261\\301\\t#3R\\360\\025br\\321\\n\\026$4\\341%\\361\\027\\030\\031\\032&\\'()*56789:CDEFGHIJSTUVWXYZcdefghijstuvwxyz\\202\\203\\204\\205\\206\\207\\210\\211\\212\\222\\223\\224\\225\\226\\227\\230\\231\\232\\242\\243\\244\\245\\246\\247\\250\\251\\252\\262\\263\\264\\265\\266\\267\\270\\271\\272\\302\\303\\304\\305\\306\\307\\310\\311\\312\\322\\323\\324\\325\\326\\327\\330\\331\\332\\342\\343\\344\\345\\346\\347\\350\\351\\352\\362\\363\\364\\365\\366\\367\\370\\371\\372\\377\\332\\000\\014\\003\\001\\000\\002\\021\\003\\021\\000?\\000\\376\\177\\350\\242\\212\\000(\\242\\212\\000(\\242\\212\\000(\\242\\212\\000(\\242\\212\\000(\\242\\212\\000(\\242\\212\\000(\\242\\212\\000(\\242\\212\\000(\\242\\212\\000(\\242\\212\\000(\\242\\212\\000(\\242\\212\\000(\\242\\212\\000(\\242\\212\\000(\\242\\212\\000(\\242\\212\\000(\\242\\212\\000(\\242\\212\\000(\\242\\212\\000(\\242\\212\\000(\\242\\212\\000(\\242\\212\\000(\\242\\212\\000(\\242\\212\\000(\\242\\212\\000(\\242\\212\\000(\\242\\212\\000(\\242\\212\\000(\\242\\212\\000(\\242\\212\\000(\\242\\212\\000(\\242\\212\\000(\\242\\212\\000(\\242\\212\\000(\\242\\212\\000(\\242\\212\\000(\\242\\212\\000(\\242\\212\\000(\\242\\212\\000(\\242\\212\\000(\\242\\212\\000(\\242\\212\\000(\\242\\212\\000(\\242\\212\\000(\\242\\212\\000(\\242\\212\\000(\\242\\212\\000(\\242\\212\\000(\\242\\212\\000(\\242\\212\\000(\\242\\212\\000(\\242\\212\\000(\\242\\212\\000(\\242\\212\\000(\\242\\212\\000(\\242\\212\\000(\\242\\212\\000(\\242\\212\\000(\\242\\212\\000(\\242\\212\\000(\\242\\212\\000(\\242\\212\\000(\\242\\212\\000(\\242\\212\\000(\\242\\212\\000(\\242\\212\\000(\\242\\212\\000(\\242\\212\\000(\\242\\212\\000(\\242\\212\\000(\\242\\212\\000(\\242\\212\\000(\\242\\212\\000(\\242\\212\\000(\\242\\212\\000(\\242\\212\\000(\\242\\212\\000(\\242\\212\\000(\\242\\212\\000(\\242\\212\\000(\\242\\212\\000(\\242\\212\\000(\\242\\212\\000(\\242\\212\\000(\\242\\212\\000(\\242\\212\\000(\\242\\212\\000(\\242\\212\\000(\\242\\212\\000(\\242\\212\\000(\\242\\212\\000(\\242\\212\\000(\\242\\212\\000(\\242\\212\\000(\\242\\212\\000(\\242\\212\\000(\\242\\212\\000(\\242\\212\\000(\\242\\212\\000(\\242\\212\\000(\\242\\212\\000(\\242\\212\\000(\\242\\212\\000(\\242\\212\\000(\\242\\212\\000(\\242\\212\\000(\\242\\212\\000(\\242\\212\\000(\\242\\212\\000(\\242\\212\\000(\\242\\212\\000(\\242\\212\\000(\\242\\212\\000(\\242\\212\\000(\\242\\212\\000(\\242\\212\\000(\\242\\212\\000(\\242\\212\\000(\\242\\212\\000(\\242\\212\\000(\\242\\212\\000(\\242\\212\\000(\\242\\212\\000(\\242\\212\\000(\\242\\212\\000(\\242\\212\\000(\\242\\212\\000(\\242\\212\\000(\\242\\212\\000(\\242\\212\\000(\\242\\212\\000(\\242\\212\\000(\\242\\212\\000(\\242\\212\\000(\\242\\212\\000(\\242\\212\\000(\\242\\212\\000(\\242\\212\\000(\\242\\212\\000(\\242\\212\\000(\\242\\212\\000(\\242\\212\\000(\\242\\212\\000\\377\\331\""
      ]
     },
     "execution_count": 13,
     "metadata": {},
     "output_type": "execute_result"
    }
   ],
   "source": [
    "tf.train.BytesList(value=[tf.io.encode_jpeg(np.zeros([180, 180, 3])).numpy()])"
   ]
  },
  {
   "cell_type": "code",
   "execution_count": null,
   "id": "22c9b4b0",
   "metadata": {},
   "outputs": [],
   "source": []
  },
  {
   "cell_type": "code",
   "execution_count": 95,
   "id": "9d7d5b04",
   "metadata": {},
   "outputs": [],
   "source": [
    "# normalization_layer = tf.keras.layers.Rescaling(1./255)\n",
    "\n",
    "# def process_path(file_path):\n",
    "#     img = tf.io.read_file(file_path)\n",
    "#     img = tf.io.decode_jpeg(img, channels=3)\n",
    "#     img = tf.image.resize(img, [img_height, img_width])\n",
    "#     return normalization_layer(img)"
   ]
  },
  {
   "cell_type": "code",
   "execution_count": 96,
   "id": "c97608a9",
   "metadata": {},
   "outputs": [],
   "source": [
    "# data = metadata_tf.map(lambda x: {\n",
    "#     \"category_id\": x[\"category_id\"],\n",
    "#     \"category\": x[\"category\"],\n",
    "#     \"image\": process_path(x[\"image\"]),\n",
    "#     \"brand\": x[\"brand\"],\n",
    "#     \"price\": x[\"price\"],\n",
    "#     \"rank\": x[\"rank_scaled\"]\n",
    "# }, num_parallel_calls=AUTOTUNE)"
   ]
  },
  {
   "cell_type": "code",
   "execution_count": 105,
   "id": "002a1ff0",
   "metadata": {},
   "outputs": [],
   "source": [
    "# for x in data.take(1):\n",
    "#     for key, value in x.items():\n",
    "#         print(f\"Example value of {key}: {value}\")\n",
    "#         print()"
   ]
  },
  {
   "cell_type": "code",
   "execution_count": 106,
   "id": "3ef79340",
   "metadata": {},
   "outputs": [],
   "source": [
    "# categories = metadata_tf.map(lambda x: x[\"category\"])"
   ]
  },
  {
   "cell_type": "code",
   "execution_count": 107,
   "id": "17d9e264",
   "metadata": {},
   "outputs": [],
   "source": [
    "# categories_vocabulary = tf.keras.layers.experimental.preprocessing.StringLookup(mask_token=None)\n",
    "# categories_vocabulary.adapt(categories.batch(100))"
   ]
  },
  {
   "cell_type": "code",
   "execution_count": 112,
   "id": "f0749d31",
   "metadata": {},
   "outputs": [],
   "source": [
    "# создаем списки из элементов с одинаковой категорией\n",
    "# list_size = 40\n",
    "\n",
    "# key_func = lambda x: categories_vocabulary(x[\"category\"])\n",
    "# reduce_func = lambda key, dataset: dataset.batch(list_size)\n",
    "\n",
    "# ds = data.group_by_window(key_func=key_func, reduce_func=reduce_func, window_size=list_size)\n",
    "\n",
    "# for x in ds.take(1):\n",
    "#     for key, value in x.items():\n",
    "#         print(f\"Shape of {key}: {value.shape}\")\n",
    "#         print(f\"Example value of {key}: {value[:3].numpy()}\")\n",
    "#         print()"
   ]
  },
  {
   "cell_type": "code",
   "execution_count": 113,
   "id": "5a90468e",
   "metadata": {},
   "outputs": [],
   "source": [
    "# def _features_and_labels(x: Dict[str, tf.Tensor]) -> Tuple[Dict[str, tf.Tensor], tf.Tensor]:\n",
    "#     labels = x.pop(\"rank\")\n",
    "#     return x, labels\n",
    "\n",
    "# ds = ds.map(_features_and_labels)\n",
    "\n",
    "# ds = ds.apply(tf.data.experimental.dense_to_ragged_batch(batch_size=32))\n",
    "\n",
    "# посмотрим на размеры одного батча\n",
    "# в нём 32 примера, каждый пример - отранжированный список в рамках одной категории с фичами\n",
    "# for x, label in ds.take(1):\n",
    "#     for key, value in x.items():\n",
    "#         print(f\"Shape of {key}: {value.shape}\")\n",
    "#         print(f\"Example values of {key}: {value[:3, :3].numpy()}\")\n",
    "#         print()\n",
    "#     print(f\"Shape of label: {label.shape}\")\n",
    "#     print(f\"Example values of label: {label[:3, :3].numpy()}\")"
   ]
  },
  {
   "cell_type": "code",
   "execution_count": 117,
   "id": "3ce65938",
   "metadata": {},
   "outputs": [
    {
     "name": "stdout",
     "output_type": "stream",
     "text": [
      "Shape of category_id: (32, None)\n",
      "Example values of category_id: [[8 8 8]\n",
      " [4 4 4]\n",
      " [4 4 4]]\n",
      "\n",
      "Shape of category: (32, None)\n",
      "Example values of category: [[b'Office Products (See top 100)' b'Office Products (See top 100)'\n",
      "  b'Office Products (See top 100)']\n",
      " [b'Arts, Crafts & Sewing (See Top 100 in Arts, Crafts & Sewing)'\n",
      "  b'Arts, Crafts & Sewing (See Top 100 in Arts, Crafts & Sewing)'\n",
      "  b'Arts, Crafts & Sewing (See Top 100 in Arts, Crafts & Sewing)']\n",
      " [b'Arts, Crafts & Sewing (See Top 100 in Arts, Crafts & Sewing)'\n",
      "  b'Arts, Crafts & Sewing (See Top 100 in Arts, Crafts & Sewing)'\n",
      "  b'Arts, Crafts & Sewing (See Top 100 in Arts, Crafts & Sewing)']]\n",
      "\n",
      "Shape of image: (32, None, 180, 180, 3)\n",
      "Example values of image: [[[[[1.         1.         1.        ]\n",
      "    [1.         1.         1.        ]\n",
      "    [1.         1.         1.        ]\n",
      "    ...\n",
      "    [1.         1.         1.        ]\n",
      "    [1.         1.         1.        ]\n",
      "    [1.         1.         1.        ]]\n",
      "\n",
      "   [[1.         1.         1.        ]\n",
      "    [1.         1.         1.        ]\n",
      "    [1.         1.         1.        ]\n",
      "    ...\n",
      "    [1.         1.         1.        ]\n",
      "    [1.         1.         1.        ]\n",
      "    [1.         1.         1.        ]]\n",
      "\n",
      "   [[1.         1.         1.        ]\n",
      "    [1.         1.         1.        ]\n",
      "    [1.         1.         1.        ]\n",
      "    ...\n",
      "    [1.         1.         1.        ]\n",
      "    [1.         1.         1.        ]\n",
      "    [1.         1.         1.        ]]\n",
      "\n",
      "   ...\n",
      "\n",
      "   [[1.         1.         1.        ]\n",
      "    [1.         1.         1.        ]\n",
      "    [1.         1.         1.        ]\n",
      "    ...\n",
      "    [1.         1.         1.        ]\n",
      "    [1.         1.         1.        ]\n",
      "    [1.         1.         1.        ]]\n",
      "\n",
      "   [[1.         1.         1.        ]\n",
      "    [1.         1.         1.        ]\n",
      "    [1.         1.         1.        ]\n",
      "    ...\n",
      "    [1.         1.         1.        ]\n",
      "    [1.         1.         1.        ]\n",
      "    [1.         1.         1.        ]]\n",
      "\n",
      "   [[1.         1.         1.        ]\n",
      "    [1.         1.         1.        ]\n",
      "    [1.         1.         1.        ]\n",
      "    ...\n",
      "    [1.         1.         1.        ]\n",
      "    [1.         1.         1.        ]\n",
      "    [1.         1.         1.        ]]]\n",
      "\n",
      "\n",
      "  [[[1.         1.         1.        ]\n",
      "    [1.         1.         1.        ]\n",
      "    [1.         1.         1.        ]\n",
      "    ...\n",
      "    [1.         1.         1.        ]\n",
      "    [1.         1.         1.        ]\n",
      "    [1.         1.         1.        ]]\n",
      "\n",
      "   [[1.         1.         1.        ]\n",
      "    [1.         1.         1.        ]\n",
      "    [1.         1.         1.        ]\n",
      "    ...\n",
      "    [1.         1.         1.        ]\n",
      "    [1.         1.         1.        ]\n",
      "    [1.         1.         1.        ]]\n",
      "\n",
      "   [[1.         1.         1.        ]\n",
      "    [1.         1.         1.        ]\n",
      "    [1.         1.         1.        ]\n",
      "    ...\n",
      "    [1.         1.         1.        ]\n",
      "    [1.         1.         1.        ]\n",
      "    [1.         1.         1.        ]]\n",
      "\n",
      "   ...\n",
      "\n",
      "   [[1.         1.         1.        ]\n",
      "    [1.         1.         1.        ]\n",
      "    [1.         1.         1.        ]\n",
      "    ...\n",
      "    [1.         1.         1.        ]\n",
      "    [1.         1.         1.        ]\n",
      "    [1.         1.         1.        ]]\n",
      "\n",
      "   [[1.         1.         1.        ]\n",
      "    [1.         1.         1.        ]\n",
      "    [1.         1.         1.        ]\n",
      "    ...\n",
      "    [1.         1.         1.        ]\n",
      "    [1.         1.         1.        ]\n",
      "    [1.         1.         1.        ]]\n",
      "\n",
      "   [[1.         1.         1.        ]\n",
      "    [1.         1.         1.        ]\n",
      "    [1.         1.         1.        ]\n",
      "    ...\n",
      "    [1.         1.         1.        ]\n",
      "    [1.         1.         1.        ]\n",
      "    [1.         1.         1.        ]]]\n",
      "\n",
      "\n",
      "  [[[1.         1.         1.        ]\n",
      "    [1.         1.         1.        ]\n",
      "    [1.         1.         1.        ]\n",
      "    ...\n",
      "    [1.         1.         1.        ]\n",
      "    [1.         1.         1.        ]\n",
      "    [1.         1.         1.        ]]\n",
      "\n",
      "   [[1.         1.         1.        ]\n",
      "    [1.         1.         1.        ]\n",
      "    [1.         1.         1.        ]\n",
      "    ...\n",
      "    [1.         1.         1.        ]\n",
      "    [1.         1.         1.        ]\n",
      "    [1.         1.         1.        ]]\n",
      "\n",
      "   [[1.         1.         1.        ]\n",
      "    [1.         1.         1.        ]\n",
      "    [1.         1.         1.        ]\n",
      "    ...\n",
      "    [1.         1.         1.        ]\n",
      "    [1.         1.         1.        ]\n",
      "    [1.         1.         1.        ]]\n",
      "\n",
      "   ...\n",
      "\n",
      "   [[1.         1.         1.        ]\n",
      "    [1.         1.         1.        ]\n",
      "    [1.         1.         1.        ]\n",
      "    ...\n",
      "    [1.         1.         0.9921812 ]\n",
      "    [1.         1.         0.9921569 ]\n",
      "    [1.         1.         0.9921569 ]]\n",
      "\n",
      "   [[1.         1.         1.        ]\n",
      "    [1.         1.         1.        ]\n",
      "    [1.         1.         1.        ]\n",
      "    ...\n",
      "    [1.         1.         0.9921569 ]\n",
      "    [1.         1.         0.9921569 ]\n",
      "    [1.         1.         0.9921569 ]]\n",
      "\n",
      "   [[1.         1.         1.        ]\n",
      "    [1.         1.         1.        ]\n",
      "    [1.         1.         1.        ]\n",
      "    ...\n",
      "    [1.         1.         0.9921569 ]\n",
      "    [1.         1.         0.9921569 ]\n",
      "    [1.         1.         0.9921569 ]]]]\n",
      "\n",
      "\n",
      "\n",
      " [[[[0.9960785  1.         1.        ]\n",
      "    [0.9960785  1.         1.        ]\n",
      "    [0.9960785  1.         1.        ]\n",
      "    ...\n",
      "    [1.         1.         1.        ]\n",
      "    [1.         1.         1.        ]\n",
      "    [1.         1.         1.        ]]\n",
      "\n",
      "   [[0.9960785  1.         1.        ]\n",
      "    [0.9960785  1.         1.        ]\n",
      "    [0.9960785  1.         1.        ]\n",
      "    ...\n",
      "    [1.         1.         1.        ]\n",
      "    [1.         1.         1.        ]\n",
      "    [1.         1.         1.        ]]\n",
      "\n",
      "   [[0.9960785  1.         1.        ]\n",
      "    [0.9960785  1.         1.        ]\n",
      "    [0.9960785  1.         1.        ]\n",
      "    ...\n",
      "    [1.         1.         1.        ]\n",
      "    [1.         1.         1.        ]\n",
      "    [1.         1.         1.        ]]\n",
      "\n",
      "   ...\n",
      "\n",
      "   [[0.9960785  1.         0.9925927 ]\n",
      "    [0.9960785  1.         0.9925927 ]\n",
      "    [0.9960785  1.         0.9930042 ]\n",
      "    ...\n",
      "    [0.99998796 0.99998796 0.99998796]\n",
      "    [1.         1.         1.        ]\n",
      "    [1.         1.         1.        ]]\n",
      "\n",
      "   [[0.9960785  1.         0.9921569 ]\n",
      "    [0.9960785  1.         0.9921569 ]\n",
      "    [0.9960785  1.         0.9925927 ]\n",
      "    ...\n",
      "    [1.         1.         1.        ]\n",
      "    [1.         1.         1.        ]\n",
      "    [1.         1.         1.        ]]\n",
      "\n",
      "   [[0.9960785  1.         0.9921569 ]\n",
      "    [0.9960785  1.         0.9921569 ]\n",
      "    [0.9960785  1.         0.9925927 ]\n",
      "    ...\n",
      "    [1.         1.         1.        ]\n",
      "    [1.         1.         1.        ]\n",
      "    [1.         1.         1.        ]]]\n",
      "\n",
      "\n",
      "  [[[0.65882355 0.23529413 0.22352943]\n",
      "    [0.65882355 0.23529413 0.22352943]\n",
      "    [0.6623094  0.24291942 0.23224401]\n",
      "    ...\n",
      "    [0.90435785 0.91612256 0.8886716 ]\n",
      "    [0.9176471  0.9294118  0.90196085]\n",
      "    [0.9176471  0.9294118  0.90196085]]\n",
      "\n",
      "   [[0.65882355 0.23529413 0.22352943]\n",
      "    [0.65882355 0.23529413 0.22352943]\n",
      "    [0.6623094  0.24291942 0.23224401]\n",
      "    ...\n",
      "    [0.90435785 0.91612256 0.8886716 ]\n",
      "    [0.9176471  0.9294118  0.90196085]\n",
      "    [0.9176471  0.9294118  0.90196085]]\n",
      "\n",
      "   [[0.65708065 0.23224401 0.22113292]\n",
      "    [0.65708065 0.23224401 0.22113292]\n",
      "    [0.6606391  0.23997824 0.22993222]\n",
      "    ...\n",
      "    [0.90803736 0.91936636 0.892339  ]\n",
      "    [0.9220044  0.9333334  0.9063181 ]\n",
      "    [0.9220044  0.9333334  0.9063181 ]]\n",
      "\n",
      "   ...\n",
      "\n",
      "   [[0.95577353 0.95577353 0.95577353]\n",
      "    [0.95577353 0.95577353 0.95577353]\n",
      "    [0.9582306  0.9582306  0.9582306 ]\n",
      "    ...\n",
      "    [1.         1.         1.        ]\n",
      "    [1.         1.         1.        ]\n",
      "    [1.         1.         1.        ]]\n",
      "\n",
      "   [[0.9568628  0.9568628  0.9568628 ]\n",
      "    [0.9568628  0.9568628  0.9568628 ]\n",
      "    [0.95925933 0.95925933 0.95925933]\n",
      "    ...\n",
      "    [1.         1.         1.        ]\n",
      "    [1.         1.         1.        ]\n",
      "    [1.         1.         1.        ]]\n",
      "\n",
      "   [[0.9568628  0.9568628  0.9568628 ]\n",
      "    [0.9568628  0.9568628  0.9568628 ]\n",
      "    [0.95925933 0.95925933 0.95925933]\n",
      "    ...\n",
      "    [1.         1.         1.        ]\n",
      "    [1.         1.         1.        ]\n",
      "    [1.         1.         1.        ]]]\n",
      "\n",
      "\n",
      "  [[[1.         1.         0.9568628 ]\n",
      "    [1.         1.         0.9568628 ]\n",
      "    [1.         1.         0.9572985 ]\n",
      "    ...\n",
      "    [0.9960785  1.         0.9921569 ]\n",
      "    [0.9960785  1.         0.9921569 ]\n",
      "    [0.9960785  1.         0.9921569 ]]\n",
      "\n",
      "   [[1.         1.         0.9568628 ]\n",
      "    [1.         1.         0.9568628 ]\n",
      "    [1.         1.         0.9572985 ]\n",
      "    ...\n",
      "    [0.9960785  1.         0.9921569 ]\n",
      "    [0.9960785  1.         0.9921569 ]\n",
      "    [0.9960785  1.         0.9921569 ]]\n",
      "\n",
      "   [[1.         1.         0.9572985 ]\n",
      "    [1.         1.         0.9572985 ]\n",
      "    [1.         1.         0.9577343 ]\n",
      "    ...\n",
      "    [0.9960785  1.         0.9921569 ]\n",
      "    [0.9960785  1.         0.9921569 ]\n",
      "    [0.9960785  1.         0.9921569 ]]\n",
      "\n",
      "   ...\n",
      "\n",
      "   [[1.         1.         1.        ]\n",
      "    [1.         1.         1.        ]\n",
      "    [1.         1.         1.        ]\n",
      "    ...\n",
      "    [1.         1.         1.        ]\n",
      "    [1.         1.         1.        ]\n",
      "    [1.         1.         1.        ]]\n",
      "\n",
      "   [[1.         1.         1.        ]\n",
      "    [1.         1.         1.        ]\n",
      "    [1.         1.         1.        ]\n",
      "    ...\n",
      "    [1.         1.         1.        ]\n",
      "    [1.         1.         1.        ]\n",
      "    [1.         1.         1.        ]]\n",
      "\n",
      "   [[1.         1.         1.        ]\n",
      "    [1.         1.         1.        ]\n",
      "    [1.         1.         1.        ]\n",
      "    ...\n",
      "    [1.         1.         1.        ]\n",
      "    [1.         1.         1.        ]\n",
      "    [1.         1.         1.        ]]]]\n",
      "\n",
      "\n",
      "\n",
      " [[[[1.         1.         1.        ]\n",
      "    [1.         1.         1.        ]\n",
      "    [1.         1.         1.        ]\n",
      "    ...\n",
      "    [1.         1.         1.        ]\n",
      "    [1.         1.         1.        ]\n",
      "    [1.         1.         1.        ]]\n",
      "\n",
      "   [[1.         1.         1.        ]\n",
      "    [1.         1.         1.        ]\n",
      "    [1.         1.         1.        ]\n",
      "    ...\n",
      "    [1.         1.         1.        ]\n",
      "    [1.         1.         1.        ]\n",
      "    [1.         1.         1.        ]]\n",
      "\n",
      "   [[1.         1.         1.        ]\n",
      "    [1.         1.         1.        ]\n",
      "    [1.         1.         1.        ]\n",
      "    ...\n",
      "    [1.         1.         1.        ]\n",
      "    [1.         1.         1.        ]\n",
      "    [1.         1.         1.        ]]\n",
      "\n",
      "   ...\n",
      "\n",
      "   [[1.         1.         1.        ]\n",
      "    [1.         1.         1.        ]\n",
      "    [1.         1.         1.        ]\n",
      "    ...\n",
      "    [1.         1.         1.        ]\n",
      "    [1.         1.         1.        ]\n",
      "    [1.         1.         1.        ]]\n",
      "\n",
      "   [[1.         1.         1.        ]\n",
      "    [1.         1.         1.        ]\n",
      "    [1.         1.         1.        ]\n",
      "    ...\n",
      "    [1.         1.         1.        ]\n",
      "    [1.         1.         1.        ]\n",
      "    [1.         1.         1.        ]]\n",
      "\n",
      "   [[1.         1.         1.        ]\n",
      "    [1.         1.         1.        ]\n",
      "    [1.         1.         1.        ]\n",
      "    ...\n",
      "    [1.         1.         1.        ]\n",
      "    [1.         1.         1.        ]\n",
      "    [1.         1.         1.        ]]]\n",
      "\n",
      "\n",
      "  [[[1.         1.         1.        ]\n",
      "    [1.         1.         1.        ]\n",
      "    [1.         1.         1.        ]\n",
      "    ...\n",
      "    [1.         1.         1.        ]\n",
      "    [1.         1.         1.        ]\n",
      "    [1.         1.         1.        ]]\n",
      "\n",
      "   [[1.         1.         1.        ]\n",
      "    [1.         1.         1.        ]\n",
      "    [1.         1.         1.        ]\n",
      "    ...\n",
      "    [1.         1.         1.        ]\n",
      "    [1.         1.         1.        ]\n",
      "    [1.         1.         1.        ]]\n",
      "\n",
      "   [[1.         1.         1.        ]\n",
      "    [1.         1.         1.        ]\n",
      "    [1.         1.         1.        ]\n",
      "    ...\n",
      "    [1.         1.         1.        ]\n",
      "    [1.         1.         1.        ]\n",
      "    [1.         1.         1.        ]]\n",
      "\n",
      "   ...\n",
      "\n",
      "   [[1.         1.         1.        ]\n",
      "    [1.         1.         1.        ]\n",
      "    [1.         1.         1.        ]\n",
      "    ...\n",
      "    [1.         1.         1.        ]\n",
      "    [1.         1.         1.        ]\n",
      "    [1.         1.         1.        ]]\n",
      "\n",
      "   [[1.         1.         1.        ]\n",
      "    [1.         1.         1.        ]\n",
      "    [1.         1.         1.        ]\n",
      "    ...\n",
      "    [1.         1.         1.        ]\n",
      "    [1.         1.         1.        ]\n",
      "    [1.         1.         1.        ]]\n",
      "\n",
      "   [[1.         1.         1.        ]\n",
      "    [1.         1.         1.        ]\n",
      "    [1.         1.         1.        ]\n",
      "    ...\n",
      "    [1.         1.         1.        ]\n",
      "    [1.         1.         1.        ]\n",
      "    [1.         1.         1.        ]]]\n",
      "\n",
      "\n",
      "  [[[1.         1.         1.        ]\n",
      "    [1.         1.         1.        ]\n",
      "    [1.         1.         1.        ]\n",
      "    ...\n",
      "    [1.         1.         1.        ]\n",
      "    [1.         1.         1.        ]\n",
      "    [1.         1.         1.        ]]\n",
      "\n",
      "   [[1.         1.         1.        ]\n",
      "    [1.         1.         1.        ]\n",
      "    [1.         1.         1.        ]\n",
      "    ...\n",
      "    [1.         1.         1.        ]\n",
      "    [1.         1.         1.        ]\n",
      "    [1.         1.         1.        ]]\n",
      "\n",
      "   [[1.         1.         1.        ]\n",
      "    [1.         1.         1.        ]\n",
      "    [1.         1.         1.        ]\n",
      "    ...\n",
      "    [1.         1.         1.        ]\n",
      "    [1.         1.         1.        ]\n",
      "    [1.         1.         1.        ]]\n",
      "\n",
      "   ...\n",
      "\n",
      "   [[1.         1.         1.        ]\n",
      "    [1.         1.         1.        ]\n",
      "    [1.         1.         1.        ]\n",
      "    ...\n",
      "    [1.         1.         1.        ]\n",
      "    [1.         1.         1.        ]\n",
      "    [1.         1.         1.        ]]\n",
      "\n",
      "   [[1.         1.         1.        ]\n",
      "    [1.         1.         1.        ]\n",
      "    [1.         1.         1.        ]\n",
      "    ...\n",
      "    [1.         1.         1.        ]\n",
      "    [1.         1.         1.        ]\n",
      "    [1.         1.         1.        ]]\n",
      "\n",
      "   [[1.         1.         1.        ]\n",
      "    [1.         1.         1.        ]\n",
      "    [1.         1.         1.        ]\n",
      "    ...\n",
      "    [1.         1.         1.        ]\n",
      "    [1.         1.         1.        ]\n",
      "    [1.         1.         1.        ]]]]]\n",
      "\n",
      "Shape of brand: (32, None)\n",
      "Example values of brand: [[b'Moleskine' b'Moleskine' b'Moleskine']\n",
      " [b'Pepin' b'Yokohama Gifts' b'Malabrigo']\n",
      " [b'Kreinik' b'Paasche Airbrush' b'ACME']]\n",
      "\n",
      "Shape of price: (32, None)\n",
      "Example values of price: [[ 14.64   3.   137.58]\n",
      " [ 15.66   3.     3.  ]\n",
      " [  4.96   5.22  11.05]]\n",
      "\n",
      "Shape of label: (32, None)\n",
      "Example values of label: [[0.3895525  0.127359   0.6393255 ]\n",
      " [0.5261929  0.15818173 1.2089729 ]\n",
      " [0.65563965 0.04717455 0.3404197 ]]\n"
     ]
    }
   ],
   "source": [
    "# посмотрим на размеры одного батча\n",
    "# в нём 32 примера, каждый пример - отранжированный список в рамках одной категории с фичами\n",
    "for x, label in ds.take(1):\n",
    "    for key, value in x.items():\n",
    "        print(f\"Shape of {key}: {value.shape}\")\n",
    "        print(f\"Example values of {key}: {value[:3, :3].numpy()}\")\n",
    "        print()\n",
    "    print(f\"Shape of label: {label.shape}\")\n",
    "    print(f\"Example values of label: {label[:3, :3].numpy()}\")"
   ]
  },
  {
   "cell_type": "code",
   "execution_count": 211,
   "id": "27434d84",
   "metadata": {
    "id": "27434d84"
   },
   "outputs": [],
   "source": [
    "def prepare_data(metadata_tf):\n",
    "    normalization_layer = tf.keras.layers.Rescaling(1./255)\n",
    "\n",
    "    def process_path(file_path):\n",
    "        img = tf.io.read_file(file_path)\n",
    "        img = tf.io.decode_jpeg(img, channels=3)\n",
    "        img = tf.image.resize(img, [img_height, img_width])\n",
    "        return normalization_layer(img)\n",
    "\n",
    "    data = metadata_tf.map(lambda x: {\n",
    "        \"category_id\": x[\"category_id\"],\n",
    "        \"category\": x[\"category\"],\n",
    "        \"image\": process_path(x[\"image\"]),\n",
    "        \"brand\": x[\"brand\"],\n",
    "        \"price\": x[\"price\"],\n",
    "        \"rank\": x[\"rank_scaled\"]\n",
    "    }, num_parallel_calls=AUTOTUNE)\n",
    "\n",
    "    categories = metadata_tf.map(lambda x: x[\"category\"])\n",
    "\n",
    "    categories_vocabulary = tf.keras.layers.experimental.preprocessing.StringLookup(mask_token=None)\n",
    "    categories_vocabulary.adapt(categories.batch(100))\n",
    "\n",
    "    # создаем списки из элементов с одинаковой категорией\n",
    "    list_size = 40\n",
    "\n",
    "    key_func = lambda x: categories_vocabulary(x[\"category\"])\n",
    "    reduce_func = lambda key, dataset: dataset.batch(list_size)\n",
    "\n",
    "    ds = data.group_by_window(key_func=key_func, reduce_func=reduce_func, window_size=list_size)\n",
    "    \n",
    "    \n",
    "\n",
    "    def _features_and_labels(x: Dict[str, tf.Tensor]) -> Tuple[Dict[str, tf.Tensor], tf.Tensor]:\n",
    "        labels = x.pop(\"rank\")\n",
    "        return x, labels\n",
    "\n",
    "    ds = ds.map(_features_and_labels)\n",
    "\n",
    "    ds = ds.apply(tf.data.experimental.dense_to_ragged_batch(batch_size=32))\n",
    "#     ds = ds.apply(\n",
    "#     lambda x: \n",
    "#         {\n",
    "#         \"price\": x[\"price\"].to_tensor(default_value=0, shape=[32, 40]), \n",
    "#         \"image\": x[\"image\"].to_tensor(default_value=0, shape=[32, 40, 180, 180, 3]), \n",
    "#         \"category_id\": x[\"category_id\"].to_tensor(default_value=0, shape=[32, 40]),\n",
    "#         \"label\": x[\"label\"].to_tensor(default_value=0, shape=[32, 40]),\n",
    "#         }\n",
    "#     )\n",
    "    return ds"
   ]
  },
  {
   "cell_type": "code",
   "execution_count": 212,
   "id": "94f64f20",
   "metadata": {
    "id": "94f64f20"
   },
   "outputs": [
    {
     "ename": "TypeError",
     "evalue": "'BatchDataset' object is not subscriptable",
     "output_type": "error",
     "traceback": [
      "\u001b[1;31m---------------------------------------------------------------------------\u001b[0m",
      "\u001b[1;31mTypeError\u001b[0m                                 Traceback (most recent call last)",
      "\u001b[1;32m~\\AppData\\Local\\Temp/ipykernel_5936/1153935547.py\u001b[0m in \u001b[0;36m<module>\u001b[1;34m\u001b[0m\n\u001b[1;32m----> 1\u001b[1;33m \u001b[0mds_train\u001b[0m \u001b[1;33m=\u001b[0m \u001b[0mprepare_data\u001b[0m\u001b[1;33m(\u001b[0m\u001b[0mmetadata_tf_train\u001b[0m\u001b[1;33m)\u001b[0m\u001b[1;33m\u001b[0m\u001b[1;33m\u001b[0m\u001b[0m\n\u001b[0m\u001b[0;32m      2\u001b[0m \u001b[0mds_valid\u001b[0m \u001b[1;33m=\u001b[0m \u001b[0mprepare_data\u001b[0m\u001b[1;33m(\u001b[0m\u001b[0mmetadata_tf_valid\u001b[0m\u001b[1;33m)\u001b[0m\u001b[1;33m\u001b[0m\u001b[1;33m\u001b[0m\u001b[0m\n",
      "\u001b[1;32m~\\AppData\\Local\\Temp/ipykernel_5936/612105576.py\u001b[0m in \u001b[0;36mprepare_data\u001b[1;34m(metadata_tf)\u001b[0m\n\u001b[0;32m     37\u001b[0m \u001b[1;33m\u001b[0m\u001b[0m\n\u001b[0;32m     38\u001b[0m     \u001b[0mds\u001b[0m \u001b[1;33m=\u001b[0m \u001b[0mds\u001b[0m\u001b[1;33m.\u001b[0m\u001b[0mapply\u001b[0m\u001b[1;33m(\u001b[0m\u001b[0mtf\u001b[0m\u001b[1;33m.\u001b[0m\u001b[0mdata\u001b[0m\u001b[1;33m.\u001b[0m\u001b[0mexperimental\u001b[0m\u001b[1;33m.\u001b[0m\u001b[0mdense_to_ragged_batch\u001b[0m\u001b[1;33m(\u001b[0m\u001b[0mbatch_size\u001b[0m\u001b[1;33m=\u001b[0m\u001b[1;36m32\u001b[0m\u001b[1;33m)\u001b[0m\u001b[1;33m)\u001b[0m\u001b[1;33m\u001b[0m\u001b[1;33m\u001b[0m\u001b[0m\n\u001b[1;32m---> 39\u001b[1;33m     ds = ds.apply(\n\u001b[0m\u001b[0;32m     40\u001b[0m     \u001b[1;32mlambda\u001b[0m \u001b[0mx\u001b[0m\u001b[1;33m:\u001b[0m\u001b[1;33m\u001b[0m\u001b[1;33m\u001b[0m\u001b[0m\n\u001b[0;32m     41\u001b[0m         {\n",
      "\u001b[1;32m~\\anaconda3\\lib\\site-packages\\tensorflow\\python\\data\\ops\\dataset_ops.py\u001b[0m in \u001b[0;36mapply\u001b[1;34m(self, transformation_func)\u001b[0m\n\u001b[0;32m   2236\u001b[0m           \u001b[0mdataset\u001b[0m\u001b[1;33m.\u001b[0m\u001b[1;33m\u001b[0m\u001b[1;33m\u001b[0m\u001b[0m\n\u001b[0;32m   2237\u001b[0m     \"\"\"\n\u001b[1;32m-> 2238\u001b[1;33m     \u001b[0mdataset\u001b[0m \u001b[1;33m=\u001b[0m \u001b[0mtransformation_func\u001b[0m\u001b[1;33m(\u001b[0m\u001b[0mself\u001b[0m\u001b[1;33m)\u001b[0m\u001b[1;33m\u001b[0m\u001b[1;33m\u001b[0m\u001b[0m\n\u001b[0m\u001b[0;32m   2239\u001b[0m     \u001b[1;32mif\u001b[0m \u001b[1;32mnot\u001b[0m \u001b[0misinstance\u001b[0m\u001b[1;33m(\u001b[0m\u001b[0mdataset\u001b[0m\u001b[1;33m,\u001b[0m \u001b[0mDatasetV2\u001b[0m\u001b[1;33m)\u001b[0m\u001b[1;33m:\u001b[0m\u001b[1;33m\u001b[0m\u001b[1;33m\u001b[0m\u001b[0m\n\u001b[0;32m   2240\u001b[0m       raise TypeError(\n",
      "\u001b[1;32m~\\AppData\\Local\\Temp/ipykernel_5936/612105576.py\u001b[0m in \u001b[0;36m<lambda>\u001b[1;34m(x)\u001b[0m\n\u001b[0;32m     40\u001b[0m     \u001b[1;32mlambda\u001b[0m \u001b[0mx\u001b[0m\u001b[1;33m:\u001b[0m\u001b[1;33m\u001b[0m\u001b[1;33m\u001b[0m\u001b[0m\n\u001b[0;32m     41\u001b[0m         {\n\u001b[1;32m---> 42\u001b[1;33m         \u001b[1;34m\"price\"\u001b[0m\u001b[1;33m:\u001b[0m \u001b[0mx\u001b[0m\u001b[1;33m[\u001b[0m\u001b[1;34m\"price\"\u001b[0m\u001b[1;33m]\u001b[0m\u001b[1;33m.\u001b[0m\u001b[0mto_tensor\u001b[0m\u001b[1;33m(\u001b[0m\u001b[0mdefault_value\u001b[0m\u001b[1;33m=\u001b[0m\u001b[1;36m0\u001b[0m\u001b[1;33m,\u001b[0m \u001b[0mshape\u001b[0m\u001b[1;33m=\u001b[0m\u001b[1;33m[\u001b[0m\u001b[1;36m32\u001b[0m\u001b[1;33m,\u001b[0m \u001b[1;36m40\u001b[0m\u001b[1;33m]\u001b[0m\u001b[1;33m)\u001b[0m\u001b[1;33m,\u001b[0m\u001b[1;33m\u001b[0m\u001b[1;33m\u001b[0m\u001b[0m\n\u001b[0m\u001b[0;32m     43\u001b[0m         \u001b[1;34m\"image\"\u001b[0m\u001b[1;33m:\u001b[0m \u001b[0mx\u001b[0m\u001b[1;33m[\u001b[0m\u001b[1;34m\"image\"\u001b[0m\u001b[1;33m]\u001b[0m\u001b[1;33m.\u001b[0m\u001b[0mto_tensor\u001b[0m\u001b[1;33m(\u001b[0m\u001b[0mdefault_value\u001b[0m\u001b[1;33m=\u001b[0m\u001b[1;36m0\u001b[0m\u001b[1;33m,\u001b[0m \u001b[0mshape\u001b[0m\u001b[1;33m=\u001b[0m\u001b[1;33m[\u001b[0m\u001b[1;36m32\u001b[0m\u001b[1;33m,\u001b[0m \u001b[1;36m40\u001b[0m\u001b[1;33m,\u001b[0m \u001b[1;36m180\u001b[0m\u001b[1;33m,\u001b[0m \u001b[1;36m180\u001b[0m\u001b[1;33m,\u001b[0m \u001b[1;36m3\u001b[0m\u001b[1;33m]\u001b[0m\u001b[1;33m)\u001b[0m\u001b[1;33m,\u001b[0m\u001b[1;33m\u001b[0m\u001b[1;33m\u001b[0m\u001b[0m\n\u001b[0;32m     44\u001b[0m         \u001b[1;34m\"category_id\"\u001b[0m\u001b[1;33m:\u001b[0m \u001b[0mx\u001b[0m\u001b[1;33m[\u001b[0m\u001b[1;34m\"category_id\"\u001b[0m\u001b[1;33m]\u001b[0m\u001b[1;33m.\u001b[0m\u001b[0mto_tensor\u001b[0m\u001b[1;33m(\u001b[0m\u001b[0mdefault_value\u001b[0m\u001b[1;33m=\u001b[0m\u001b[1;36m0\u001b[0m\u001b[1;33m,\u001b[0m \u001b[0mshape\u001b[0m\u001b[1;33m=\u001b[0m\u001b[1;33m[\u001b[0m\u001b[1;36m32\u001b[0m\u001b[1;33m,\u001b[0m \u001b[1;36m40\u001b[0m\u001b[1;33m]\u001b[0m\u001b[1;33m)\u001b[0m\u001b[1;33m,\u001b[0m\u001b[1;33m\u001b[0m\u001b[1;33m\u001b[0m\u001b[0m\n",
      "\u001b[1;31mTypeError\u001b[0m: 'BatchDataset' object is not subscriptable"
     ]
    }
   ],
   "source": [
    "ds_train = prepare_data(metadata_tf_train)\n",
    "ds_valid = prepare_data(metadata_tf_valid)"
   ]
  },
  {
   "cell_type": "code",
   "execution_count": 208,
   "id": "47630405",
   "metadata": {
    "id": "47630405"
   },
   "outputs": [],
   "source": [
    "class ImageEmbeddings(tf.keras.Model):\n",
    "    def __init__(self):\n",
    "        super().__init__()\n",
    "        self.conv1 = tf.keras.layers.Conv2D(32, 3, activation='relu')\n",
    "        self.conv2 = tf.keras.layers.Conv2D(32, 3, activation='relu')\n",
    "        self.conv3 = tf.keras.layers.Conv2D(32, 3, activation='relu')\n",
    "        self.maxpool = tf.keras.layers.MaxPooling2D()\n",
    "        self.flatten = tf.keras.layers.Flatten()\n",
    "        self.dense = tf.keras.layers.Dense(128, activation='relu')\n",
    "        self.price_dense = tf.keras.layers.Dense(128, activation='relu')\n",
    "        self.category_dense = tf.keras.layers.Dense(128, activation='relu')\n",
    "        self.d = tf.keras.layers.Dense(1, activation='relu')\n",
    "        \n",
    "    def call(self, features: Dict[str, tf.Tensor]) -> tf.Tensor:        \n",
    "        # На вход features - Dict\n",
    "        \n",
    "        # \"category_id\": (batch, list size) // first dim - batch size, second dim - ordered list size\n",
    "        # \"category\": (batch, list size)\n",
    "        # \"image\": (batch, list size, 180, 180, 3)\n",
    "        # \"brand\": (batch, list size)\n",
    "        # \"price\": (batch, list size)\n",
    "        \n",
    "        category_id = features[\"category_id\"]\n",
    "        image = features[\"image\"]\n",
    "        price = features[\"price\"]\n",
    "        \n",
    "        category_id = category_id.to_tensor(default_value=0, shape=[32, 40])\n",
    "        category_id = tf.expand_dims(category_id, axis=-1)\n",
    "        \n",
    "        price = price.to_tensor(default_value=0, shape=[32, 40])\n",
    "        price = tf.expand_dims(price, axis=-1)\n",
    "        \n",
    "        image = image.to_tensor(default_value=0, shape=[32, 40, 180, 180, 3])\n",
    "        shape = image.shape\n",
    "        \n",
    "        image = tf.reshape(image, [shape[0] * shape[1], shape[2], shape[3], shape[4]])\n",
    "        print(image.shape)\n",
    "        img = self.conv1(image)\n",
    "        print(img.shape)\n",
    "        img = self.maxpool(img)\n",
    "        print(img.shape)\n",
    "        img = self.conv2(img)\n",
    "        print(img.shape)\n",
    "        img = self.maxpool(img)\n",
    "        print(img.shape)\n",
    "        img = self.conv3(img)\n",
    "        img = self.maxpool(img)\n",
    "        img = self.flatten(img)\n",
    "        \n",
    "        # img: (batch * list size, 128)\n",
    "        img = self.dense(img)\n",
    "        print(img.shape)\n",
    "        \n",
    "        category_id = self.category_dense(category_id)\n",
    "        price = self.price_dense(price)\n",
    "        \n",
    "        print(f\"Category id shape: {category_id.shape}\")\n",
    "        print(f\"Price shape: {price.shape}\")\n",
    "        \n",
    "        img = tf.reshape(img, [32, 40, 128])\n",
    "        print(f\"Image shape: {img.shape}\")\n",
    "        \n",
    "        cat = img * category_id\n",
    "        price = img * price\n",
    "        print(\"cat\")\n",
    "        print(cat.shape)\n",
    "        print(\"price\")\n",
    "        print(price.shape)\n",
    "        \n",
    "         # concat: (None, None, 2)\n",
    "        concat = tf.concat([cat, price], axis=-1)\n",
    "        print(concat.shape)\n",
    "    \n",
    "        # output: (None, None, 1)\n",
    "        output = self.d(concat)\n",
    "        print(output.shape)\n",
    "        output = tf.squeeze(output, axis=2)\n",
    "        print(output.shape)\n",
    "        return output"
   ]
  },
  {
   "cell_type": "code",
   "execution_count": 209,
   "id": "865dad75",
   "metadata": {
    "id": "865dad75"
   },
   "outputs": [],
   "source": [
    "def train_and_eval_model(Model, ds_train, ds_valid, epochs=10, loss=tfr.keras.losses.ApproxNDCGLoss(), metrics=[tfr.keras.metrics.NDCGMetric()]):\n",
    "    model = Model()\n",
    "    optimizer = tf.keras.optimizers.Adam()\n",
    "    model.compile(optimizer=optimizer, loss=loss, metrics=metrics)\n",
    "    model.fit(ds_train, epochs=epochs)\n",
    "    model.evaluate(ds_valid)\n",
    "    return model"
   ]
  },
  {
   "cell_type": "code",
   "execution_count": 210,
   "id": "4f11d8dd",
   "metadata": {},
   "outputs": [
    {
     "name": "stdout",
     "output_type": "stream",
     "text": [
      "Epoch 1/10\n",
      "(1280, 180, 180, 3)\n",
      "(1280, 178, 178, 32)\n",
      "(1280, 89, 89, 32)\n",
      "(1280, 87, 87, 32)\n",
      "(1280, 43, 43, 32)\n",
      "(1280, 128)\n",
      "Category id shape: (32, 40, 128)\n",
      "Price shape: (32, 40, 128)\n",
      "Image shape: (32, 40, 128)\n",
      "cat\n",
      "(32, 40, 128)\n",
      "price\n",
      "(32, 40, 128)\n",
      "(32, 40, 256)\n",
      "(32, 40, 1)\n",
      "(32, 40)\n"
     ]
    },
    {
     "ename": "TypeError",
     "evalue": "in user code:\n\n    File \"C:\\Users\\artyo\\anaconda3\\lib\\site-packages\\keras\\engine\\training.py\", line 1021, in train_function  *\n        return step_function(self, iterator)\n    File \"C:\\Users\\artyo\\anaconda3\\lib\\site-packages\\tensorflow_ranking\\python\\keras\\losses.py\", line 196, in call  *\n        losses, weights = self._loss.compute_unreduced_loss(\n    File \"C:\\Users\\artyo\\anaconda3\\lib\\site-packages\\tensorflow_ranking\\python\\losses_impl.py\", line 617, in compute_unreduced_loss  *\n        labels, logits, _, mask = self._prepare_and_validate_params(\n    File \"C:\\Users\\artyo\\anaconda3\\lib\\site-packages\\tensorflow_ranking\\python\\losses_impl.py\", line 590, in _prepare_and_validate_params  *\n        mask = utils.is_label_valid(labels)\n    File \"C:\\Users\\artyo\\anaconda3\\lib\\site-packages\\tensorflow_ranking\\python\\utils.py\", line 75, in is_label_valid  *\n        labels = tf.convert_to_tensor(value=labels)\n\n    TypeError: Failed to convert elements of tf.RaggedTensor(values=Tensor(\"RaggedFromVariant_5/RaggedTensorFromVariant:1\", shape=(None,), dtype=float32), row_splits=Tensor(\"RaggedFromVariant_5/RaggedTensorFromVariant:0\", shape=(None,), dtype=int64)) to Tensor. Consider casting elements to a supported type. See https://www.tensorflow.org/api_docs/python/tf/dtypes for supported TF dtypes.\n",
     "output_type": "error",
     "traceback": [
      "\u001b[1;31m---------------------------------------------------------------------------\u001b[0m",
      "\u001b[1;31mTypeError\u001b[0m                                 Traceback (most recent call last)",
      "\u001b[1;32m~\\AppData\\Local\\Temp/ipykernel_5936/179127059.py\u001b[0m in \u001b[0;36m<module>\u001b[1;34m\u001b[0m\n\u001b[1;32m----> 1\u001b[1;33m \u001b[0mmodel\u001b[0m \u001b[1;33m=\u001b[0m \u001b[0mtrain_and_eval_model\u001b[0m\u001b[1;33m(\u001b[0m\u001b[0mImageEmbeddings\u001b[0m\u001b[1;33m,\u001b[0m \u001b[0mds_train\u001b[0m\u001b[1;33m,\u001b[0m \u001b[0mds_valid\u001b[0m\u001b[1;33m)\u001b[0m\u001b[1;33m\u001b[0m\u001b[1;33m\u001b[0m\u001b[0m\n\u001b[0m",
      "\u001b[1;32m~\\AppData\\Local\\Temp/ipykernel_5936/210540447.py\u001b[0m in \u001b[0;36mtrain_and_eval_model\u001b[1;34m(Model, ds_train, ds_valid, epochs, loss, metrics)\u001b[0m\n\u001b[0;32m      3\u001b[0m     \u001b[0moptimizer\u001b[0m \u001b[1;33m=\u001b[0m \u001b[0mtf\u001b[0m\u001b[1;33m.\u001b[0m\u001b[0mkeras\u001b[0m\u001b[1;33m.\u001b[0m\u001b[0moptimizers\u001b[0m\u001b[1;33m.\u001b[0m\u001b[0mAdam\u001b[0m\u001b[1;33m(\u001b[0m\u001b[1;33m)\u001b[0m\u001b[1;33m\u001b[0m\u001b[1;33m\u001b[0m\u001b[0m\n\u001b[0;32m      4\u001b[0m     \u001b[0mmodel\u001b[0m\u001b[1;33m.\u001b[0m\u001b[0mcompile\u001b[0m\u001b[1;33m(\u001b[0m\u001b[0moptimizer\u001b[0m\u001b[1;33m=\u001b[0m\u001b[0moptimizer\u001b[0m\u001b[1;33m,\u001b[0m \u001b[0mloss\u001b[0m\u001b[1;33m=\u001b[0m\u001b[0mloss\u001b[0m\u001b[1;33m,\u001b[0m \u001b[0mmetrics\u001b[0m\u001b[1;33m=\u001b[0m\u001b[0mmetrics\u001b[0m\u001b[1;33m)\u001b[0m\u001b[1;33m\u001b[0m\u001b[1;33m\u001b[0m\u001b[0m\n\u001b[1;32m----> 5\u001b[1;33m     \u001b[0mmodel\u001b[0m\u001b[1;33m.\u001b[0m\u001b[0mfit\u001b[0m\u001b[1;33m(\u001b[0m\u001b[0mds_train\u001b[0m\u001b[1;33m,\u001b[0m \u001b[0mepochs\u001b[0m\u001b[1;33m=\u001b[0m\u001b[0mepochs\u001b[0m\u001b[1;33m)\u001b[0m\u001b[1;33m\u001b[0m\u001b[1;33m\u001b[0m\u001b[0m\n\u001b[0m\u001b[0;32m      6\u001b[0m     \u001b[0mmodel\u001b[0m\u001b[1;33m.\u001b[0m\u001b[0mevaluate\u001b[0m\u001b[1;33m(\u001b[0m\u001b[0mds_valid\u001b[0m\u001b[1;33m)\u001b[0m\u001b[1;33m\u001b[0m\u001b[1;33m\u001b[0m\u001b[0m\n\u001b[0;32m      7\u001b[0m     \u001b[1;32mreturn\u001b[0m \u001b[0mmodel\u001b[0m\u001b[1;33m\u001b[0m\u001b[1;33m\u001b[0m\u001b[0m\n",
      "\u001b[1;32m~\\anaconda3\\lib\\site-packages\\keras\\utils\\traceback_utils.py\u001b[0m in \u001b[0;36merror_handler\u001b[1;34m(*args, **kwargs)\u001b[0m\n\u001b[0;32m     65\u001b[0m     \u001b[1;32mexcept\u001b[0m \u001b[0mException\u001b[0m \u001b[1;32mas\u001b[0m \u001b[0me\u001b[0m\u001b[1;33m:\u001b[0m  \u001b[1;31m# pylint: disable=broad-except\u001b[0m\u001b[1;33m\u001b[0m\u001b[1;33m\u001b[0m\u001b[0m\n\u001b[0;32m     66\u001b[0m       \u001b[0mfiltered_tb\u001b[0m \u001b[1;33m=\u001b[0m \u001b[0m_process_traceback_frames\u001b[0m\u001b[1;33m(\u001b[0m\u001b[0me\u001b[0m\u001b[1;33m.\u001b[0m\u001b[0m__traceback__\u001b[0m\u001b[1;33m)\u001b[0m\u001b[1;33m\u001b[0m\u001b[1;33m\u001b[0m\u001b[0m\n\u001b[1;32m---> 67\u001b[1;33m       \u001b[1;32mraise\u001b[0m \u001b[0me\u001b[0m\u001b[1;33m.\u001b[0m\u001b[0mwith_traceback\u001b[0m\u001b[1;33m(\u001b[0m\u001b[0mfiltered_tb\u001b[0m\u001b[1;33m)\u001b[0m \u001b[1;32mfrom\u001b[0m \u001b[1;32mNone\u001b[0m\u001b[1;33m\u001b[0m\u001b[1;33m\u001b[0m\u001b[0m\n\u001b[0m\u001b[0;32m     68\u001b[0m     \u001b[1;32mfinally\u001b[0m\u001b[1;33m:\u001b[0m\u001b[1;33m\u001b[0m\u001b[1;33m\u001b[0m\u001b[0m\n\u001b[0;32m     69\u001b[0m       \u001b[1;32mdel\u001b[0m \u001b[0mfiltered_tb\u001b[0m\u001b[1;33m\u001b[0m\u001b[1;33m\u001b[0m\u001b[0m\n",
      "\u001b[1;32m~\\anaconda3\\lib\\site-packages\\tensorflow\\python\\framework\\func_graph.py\u001b[0m in \u001b[0;36mautograph_handler\u001b[1;34m(*args, **kwargs)\u001b[0m\n\u001b[0;32m   1145\u001b[0m           \u001b[1;32mexcept\u001b[0m \u001b[0mException\u001b[0m \u001b[1;32mas\u001b[0m \u001b[0me\u001b[0m\u001b[1;33m:\u001b[0m  \u001b[1;31m# pylint:disable=broad-except\u001b[0m\u001b[1;33m\u001b[0m\u001b[1;33m\u001b[0m\u001b[0m\n\u001b[0;32m   1146\u001b[0m             \u001b[1;32mif\u001b[0m \u001b[0mhasattr\u001b[0m\u001b[1;33m(\u001b[0m\u001b[0me\u001b[0m\u001b[1;33m,\u001b[0m \u001b[1;34m\"ag_error_metadata\"\u001b[0m\u001b[1;33m)\u001b[0m\u001b[1;33m:\u001b[0m\u001b[1;33m\u001b[0m\u001b[1;33m\u001b[0m\u001b[0m\n\u001b[1;32m-> 1147\u001b[1;33m               \u001b[1;32mraise\u001b[0m \u001b[0me\u001b[0m\u001b[1;33m.\u001b[0m\u001b[0mag_error_metadata\u001b[0m\u001b[1;33m.\u001b[0m\u001b[0mto_exception\u001b[0m\u001b[1;33m(\u001b[0m\u001b[0me\u001b[0m\u001b[1;33m)\u001b[0m\u001b[1;33m\u001b[0m\u001b[1;33m\u001b[0m\u001b[0m\n\u001b[0m\u001b[0;32m   1148\u001b[0m             \u001b[1;32melse\u001b[0m\u001b[1;33m:\u001b[0m\u001b[1;33m\u001b[0m\u001b[1;33m\u001b[0m\u001b[0m\n\u001b[0;32m   1149\u001b[0m               \u001b[1;32mraise\u001b[0m\u001b[1;33m\u001b[0m\u001b[1;33m\u001b[0m\u001b[0m\n",
      "\u001b[1;31mTypeError\u001b[0m: in user code:\n\n    File \"C:\\Users\\artyo\\anaconda3\\lib\\site-packages\\keras\\engine\\training.py\", line 1021, in train_function  *\n        return step_function(self, iterator)\n    File \"C:\\Users\\artyo\\anaconda3\\lib\\site-packages\\tensorflow_ranking\\python\\keras\\losses.py\", line 196, in call  *\n        losses, weights = self._loss.compute_unreduced_loss(\n    File \"C:\\Users\\artyo\\anaconda3\\lib\\site-packages\\tensorflow_ranking\\python\\losses_impl.py\", line 617, in compute_unreduced_loss  *\n        labels, logits, _, mask = self._prepare_and_validate_params(\n    File \"C:\\Users\\artyo\\anaconda3\\lib\\site-packages\\tensorflow_ranking\\python\\losses_impl.py\", line 590, in _prepare_and_validate_params  *\n        mask = utils.is_label_valid(labels)\n    File \"C:\\Users\\artyo\\anaconda3\\lib\\site-packages\\tensorflow_ranking\\python\\utils.py\", line 75, in is_label_valid  *\n        labels = tf.convert_to_tensor(value=labels)\n\n    TypeError: Failed to convert elements of tf.RaggedTensor(values=Tensor(\"RaggedFromVariant_5/RaggedTensorFromVariant:1\", shape=(None,), dtype=float32), row_splits=Tensor(\"RaggedFromVariant_5/RaggedTensorFromVariant:0\", shape=(None,), dtype=int64)) to Tensor. Consider casting elements to a supported type. See https://www.tensorflow.org/api_docs/python/tf/dtypes for supported TF dtypes.\n"
     ]
    }
   ],
   "source": [
    "model = train_and_eval_model(ImageEmbeddings, ds_train, ds_valid)"
   ]
  },
  {
   "cell_type": "code",
   "execution_count": null,
   "id": "c902c594",
   "metadata": {},
   "outputs": [],
   "source": []
  }
 ],
 "metadata": {
  "kernelspec": {
   "display_name": "Python 3 (ipykernel)",
   "language": "python",
   "name": "python3"
  },
  "language_info": {
   "codemirror_mode": {
    "name": "ipython",
    "version": 3
   },
   "file_extension": ".py",
   "mimetype": "text/x-python",
   "name": "python",
   "nbconvert_exporter": "python",
   "pygments_lexer": "ipython3",
   "version": "3.9.7"
  }
 },
 "nbformat": 4,
 "nbformat_minor": 5
}
